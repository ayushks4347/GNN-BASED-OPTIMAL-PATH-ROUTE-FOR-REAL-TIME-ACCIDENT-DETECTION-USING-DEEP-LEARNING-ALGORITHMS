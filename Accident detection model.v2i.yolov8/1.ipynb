{
 "cells": [
  {
   "cell_type": "code",
   "execution_count": null,
   "metadata": {},
   "outputs": [
    {
     "name": "stdout",
     "output_type": "stream",
     "text": [
      "Downloading https://github.com/ultralytics/assets/releases/download/v8.3.0/yolov8n.pt to 'yolov8n.pt'...\n"
     ]
    },
    {
     "name": "stderr",
     "output_type": "stream",
     "text": [
      "100%|██████████| 6.25M/6.25M [00:09<00:00, 727kB/s] "
     ]
    },
    {
     "name": "stdout",
     "output_type": "stream",
     "text": [
      "Model loaded successfully!\n"
     ]
    },
    {
     "name": "stderr",
     "output_type": "stream",
     "text": [
      "\n"
     ]
    }
   ],
   "source": [
    "# test_yolo.py\n",
    "from ultralytics import YOLO\n",
    "\n",
    "# Load a pre-trained YOLOv8 model\n",
    "model = YOLO('yolov8n.pt')\n",
    "print(\"Model loaded successfully!\")\n"
   ]
  },
  {
   "cell_type": "code",
   "execution_count": 8,
   "metadata": {},
   "outputs": [
    {
     "name": "stdout",
     "output_type": "stream",
     "text": [
      "Ultralytics 8.3.31  Python-3.11.9 torch-2.5.1+cpu CPU (12th Gen Intel Core(TM) i5-1235U)\n",
      "\u001b[34m\u001b[1mengine\\trainer: \u001b[0mtask=detect, mode=train, model=yolov8n.pt, data=C:\\Users\\ayush\\Downloads\\Accident detection model.v2i.yolov8\\data.yaml, epochs=50, time=None, patience=100, batch=16, imgsz=640, save=True, save_period=-1, cache=False, device=None, workers=8, project=None, name=accident_yolov87, exist_ok=False, pretrained=True, optimizer=auto, verbose=True, seed=0, deterministic=True, single_cls=False, rect=False, cos_lr=False, close_mosaic=10, resume=False, amp=True, fraction=1.0, profile=False, freeze=None, multi_scale=False, overlap_mask=True, mask_ratio=4, dropout=0.0, val=True, split=val, save_json=False, save_hybrid=False, conf=None, iou=0.7, max_det=300, half=False, dnn=False, plots=True, source=None, vid_stride=1, stream_buffer=False, visualize=False, augment=False, agnostic_nms=False, classes=None, retina_masks=False, embed=None, show=False, save_frames=False, save_txt=False, save_conf=False, save_crop=False, show_labels=True, show_conf=True, show_boxes=True, line_width=None, format=torchscript, keras=False, optimize=False, int8=False, dynamic=False, simplify=True, opset=None, workspace=4, nms=False, lr0=0.01, lrf=0.01, momentum=0.937, weight_decay=0.0005, warmup_epochs=3.0, warmup_momentum=0.8, warmup_bias_lr=0.1, box=7.5, cls=0.5, dfl=1.5, pose=12.0, kobj=1.0, label_smoothing=0.0, nbs=64, hsv_h=0.015, hsv_s=0.7, hsv_v=0.4, degrees=0.0, translate=0.1, scale=0.5, shear=0.0, perspective=0.0, flipud=0.0, fliplr=0.5, bgr=0.0, mosaic=1.0, mixup=0.0, copy_paste=0.0, copy_paste_mode=flip, auto_augment=randaugment, erasing=0.4, crop_fraction=1.0, cfg=None, tracker=botsort.yaml, save_dir=runs\\detect\\accident_yolov87\n",
      "Downloading https://ultralytics.com/assets/Arial.ttf to 'C:\\Users\\ayush\\AppData\\Roaming\\Ultralytics\\Arial.ttf'...\n"
     ]
    },
    {
     "name": "stderr",
     "output_type": "stream",
     "text": [
      "100%|██████████| 755k/755k [00:01<00:00, 426kB/s]\n"
     ]
    },
    {
     "name": "stdout",
     "output_type": "stream",
     "text": [
      "Overriding model.yaml nc=80 with nc=1\n",
      "\n",
      "                   from  n    params  module                                       arguments                     \n",
      "  0                  -1  1       464  ultralytics.nn.modules.conv.Conv             [3, 16, 3, 2]                 \n",
      "  1                  -1  1      4672  ultralytics.nn.modules.conv.Conv             [16, 32, 3, 2]                \n",
      "  2                  -1  1      7360  ultralytics.nn.modules.block.C2f             [32, 32, 1, True]             \n",
      "  3                  -1  1     18560  ultralytics.nn.modules.conv.Conv             [32, 64, 3, 2]                \n",
      "  4                  -1  2     49664  ultralytics.nn.modules.block.C2f             [64, 64, 2, True]             \n",
      "  5                  -1  1     73984  ultralytics.nn.modules.conv.Conv             [64, 128, 3, 2]               \n",
      "  6                  -1  2    197632  ultralytics.nn.modules.block.C2f             [128, 128, 2, True]           \n",
      "  7                  -1  1    295424  ultralytics.nn.modules.conv.Conv             [128, 256, 3, 2]              \n",
      "  8                  -1  1    460288  ultralytics.nn.modules.block.C2f             [256, 256, 1, True]           \n",
      "  9                  -1  1    164608  ultralytics.nn.modules.block.SPPF            [256, 256, 5]                 \n",
      " 10                  -1  1         0  torch.nn.modules.upsampling.Upsample         [None, 2, 'nearest']          \n",
      " 11             [-1, 6]  1         0  ultralytics.nn.modules.conv.Concat           [1]                           \n",
      " 12                  -1  1    148224  ultralytics.nn.modules.block.C2f             [384, 128, 1]                 \n",
      " 13                  -1  1         0  torch.nn.modules.upsampling.Upsample         [None, 2, 'nearest']          \n",
      " 14             [-1, 4]  1         0  ultralytics.nn.modules.conv.Concat           [1]                           \n",
      " 15                  -1  1     37248  ultralytics.nn.modules.block.C2f             [192, 64, 1]                  \n",
      " 16                  -1  1     36992  ultralytics.nn.modules.conv.Conv             [64, 64, 3, 2]                \n",
      " 17            [-1, 12]  1         0  ultralytics.nn.modules.conv.Concat           [1]                           \n",
      " 18                  -1  1    123648  ultralytics.nn.modules.block.C2f             [192, 128, 1]                 \n",
      " 19                  -1  1    147712  ultralytics.nn.modules.conv.Conv             [128, 128, 3, 2]              \n",
      " 20             [-1, 9]  1         0  ultralytics.nn.modules.conv.Concat           [1]                           \n",
      " 21                  -1  1    493056  ultralytics.nn.modules.block.C2f             [384, 256, 1]                 \n",
      " 22        [15, 18, 21]  1    751507  ultralytics.nn.modules.head.Detect           [1, [64, 128, 256]]           \n",
      "Model summary: 225 layers, 3,011,043 parameters, 3,011,027 gradients, 8.2 GFLOPs\n",
      "\n",
      "Transferred 319/355 items from pretrained weights\n",
      "\u001b[34m\u001b[1mTensorBoard: \u001b[0mStart with 'tensorboard --logdir runs\\detect\\accident_yolov87', view at http://localhost:6006/\n",
      "Freezing layer 'model.22.dfl.conv.weight'\n"
     ]
    },
    {
     "name": "stderr",
     "output_type": "stream",
     "text": [
      "\u001b[34m\u001b[1mtrain: \u001b[0mScanning C:\\Users\\ayush\\Downloads\\Accident detection model.v2i.yolov8\\train\\labels... 2517 images, 1196 backgrounds, 0 corrupt: 100%|██████████| 2517/2517 [00:05<00:00, 476.68it/s]\n"
     ]
    },
    {
     "name": "stdout",
     "output_type": "stream",
     "text": [
      "\u001b[34m\u001b[1mtrain: \u001b[0mNew cache created: C:\\Users\\ayush\\Downloads\\Accident detection model.v2i.yolov8\\train\\labels.cache\n"
     ]
    },
    {
     "name": "stderr",
     "output_type": "stream",
     "text": [
      "\u001b[34m\u001b[1mval: \u001b[0mScanning C:\\Users\\ayush\\Downloads\\Accident detection model.v2i.yolov8\\valid\\labels... 371 images, 127 backgrounds, 0 corrupt: 100%|██████████| 371/371 [00:00<00:00, 394.48it/s]"
     ]
    },
    {
     "name": "stdout",
     "output_type": "stream",
     "text": [
      "\u001b[34m\u001b[1mval: \u001b[0mNew cache created: C:\\Users\\ayush\\Downloads\\Accident detection model.v2i.yolov8\\valid\\labels.cache\n"
     ]
    },
    {
     "name": "stderr",
     "output_type": "stream",
     "text": [
      "\n"
     ]
    },
    {
     "name": "stdout",
     "output_type": "stream",
     "text": [
      "Plotting labels to runs\\detect\\accident_yolov87\\labels.jpg... \n",
      "\u001b[34m\u001b[1moptimizer:\u001b[0m 'optimizer=auto' found, ignoring 'lr0=0.01' and 'momentum=0.937' and determining best 'optimizer', 'lr0' and 'momentum' automatically... \n",
      "\u001b[34m\u001b[1moptimizer:\u001b[0m AdamW(lr=0.002, momentum=0.9) with parameter groups 57 weight(decay=0.0), 64 weight(decay=0.0005), 63 bias(decay=0.0)\n",
      "\u001b[34m\u001b[1mTensorBoard: \u001b[0mmodel graph visualization added \n",
      "Image sizes 640 train, 640 val\n",
      "Using 0 dataloader workers\n",
      "Logging results to \u001b[1mruns\\detect\\accident_yolov87\u001b[0m\n",
      "Starting training for 50 epochs...\n",
      "\n",
      "      Epoch    GPU_mem   box_loss   cls_loss   dfl_loss  Instances       Size\n"
     ]
    },
    {
     "name": "stderr",
     "output_type": "stream",
     "text": [
      "       1/50         0G      1.792      3.337      1.916          4        640: 100%|██████████| 158/158 [21:19<00:00,  8.10s/it]\n",
      "                 Class     Images  Instances      Box(P          R      mAP50  mAP50-95): 100%|██████████| 12/12 [01:05<00:00,  5.45s/it]"
     ]
    },
    {
     "name": "stdout",
     "output_type": "stream",
     "text": [
      "                   all        371        288      0.157      0.333      0.113     0.0367\n"
     ]
    },
    {
     "name": "stderr",
     "output_type": "stream",
     "text": [
      "\n"
     ]
    },
    {
     "name": "stdout",
     "output_type": "stream",
     "text": [
      "\n",
      "      Epoch    GPU_mem   box_loss   cls_loss   dfl_loss  Instances       Size\n"
     ]
    },
    {
     "name": "stderr",
     "output_type": "stream",
     "text": [
      "       2/50         0G      1.948      2.694      2.025          2        640: 100%|██████████| 158/158 [14:40<00:00,  5.57s/it]\n",
      "                 Class     Images  Instances      Box(P          R      mAP50  mAP50-95): 100%|██████████| 12/12 [00:44<00:00,  3.73s/it]"
     ]
    },
    {
     "name": "stdout",
     "output_type": "stream",
     "text": [
      "                   all        371        288       0.24      0.174       0.14     0.0483\n"
     ]
    },
    {
     "name": "stderr",
     "output_type": "stream",
     "text": [
      "\n"
     ]
    },
    {
     "name": "stdout",
     "output_type": "stream",
     "text": [
      "\n",
      "      Epoch    GPU_mem   box_loss   cls_loss   dfl_loss  Instances       Size\n"
     ]
    },
    {
     "name": "stderr",
     "output_type": "stream",
     "text": [
      "       3/50         0G      1.962      2.359      2.049          2        640: 100%|██████████| 158/158 [13:37<00:00,  5.18s/it]\n",
      "                 Class     Images  Instances      Box(P          R      mAP50  mAP50-95): 100%|██████████| 12/12 [00:43<00:00,  3.62s/it]"
     ]
    },
    {
     "name": "stdout",
     "output_type": "stream",
     "text": [
      "                   all        371        288     0.0381      0.122      0.023    0.00726\n"
     ]
    },
    {
     "name": "stderr",
     "output_type": "stream",
     "text": [
      "\n"
     ]
    },
    {
     "name": "stdout",
     "output_type": "stream",
     "text": [
      "\n",
      "      Epoch    GPU_mem   box_loss   cls_loss   dfl_loss  Instances       Size\n"
     ]
    },
    {
     "name": "stderr",
     "output_type": "stream",
     "text": [
      "       4/50         0G      1.984      2.254      2.069          4        640: 100%|██████████| 158/158 [13:29<00:00,  5.12s/it]\n",
      "                 Class     Images  Instances      Box(P          R      mAP50  mAP50-95): 100%|██████████| 12/12 [00:47<00:00,  3.92s/it]"
     ]
    },
    {
     "name": "stdout",
     "output_type": "stream",
     "text": [
      "                   all        371        288      0.271      0.323      0.212     0.0715\n"
     ]
    },
    {
     "name": "stderr",
     "output_type": "stream",
     "text": [
      "\n"
     ]
    },
    {
     "name": "stdout",
     "output_type": "stream",
     "text": [
      "\n",
      "      Epoch    GPU_mem   box_loss   cls_loss   dfl_loss  Instances       Size\n"
     ]
    },
    {
     "name": "stderr",
     "output_type": "stream",
     "text": [
      "       5/50         0G      1.941      2.127      2.042          8        640: 100%|██████████| 158/158 [13:30<00:00,  5.13s/it]\n",
      "                 Class     Images  Instances      Box(P          R      mAP50  mAP50-95): 100%|██████████| 12/12 [00:43<00:00,  3.60s/it]"
     ]
    },
    {
     "name": "stdout",
     "output_type": "stream",
     "text": [
      "                   all        371        288      0.425      0.321      0.349      0.137\n"
     ]
    },
    {
     "name": "stderr",
     "output_type": "stream",
     "text": [
      "\n"
     ]
    },
    {
     "name": "stdout",
     "output_type": "stream",
     "text": [
      "\n",
      "      Epoch    GPU_mem   box_loss   cls_loss   dfl_loss  Instances       Size\n"
     ]
    },
    {
     "name": "stderr",
     "output_type": "stream",
     "text": [
      "       6/50         0G      1.893      2.008      2.004          7        640: 100%|██████████| 158/158 [13:33<00:00,  5.15s/it]\n",
      "                 Class     Images  Instances      Box(P          R      mAP50  mAP50-95): 100%|██████████| 12/12 [00:43<00:00,  3.64s/it]"
     ]
    },
    {
     "name": "stdout",
     "output_type": "stream",
     "text": [
      "                   all        371        288      0.467      0.435      0.418      0.154\n"
     ]
    },
    {
     "name": "stderr",
     "output_type": "stream",
     "text": [
      "\n"
     ]
    },
    {
     "name": "stdout",
     "output_type": "stream",
     "text": [
      "\n",
      "      Epoch    GPU_mem   box_loss   cls_loss   dfl_loss  Instances       Size\n"
     ]
    },
    {
     "name": "stderr",
     "output_type": "stream",
     "text": [
      "       7/50         0G      1.832        1.8       1.91          4        640: 100%|██████████| 158/158 [13:34<00:00,  5.15s/it]\n",
      "                 Class     Images  Instances      Box(P          R      mAP50  mAP50-95): 100%|██████████| 12/12 [00:43<00:00,  3.64s/it]"
     ]
    },
    {
     "name": "stdout",
     "output_type": "stream",
     "text": [
      "                   all        371        288      0.561       0.41      0.427      0.172\n"
     ]
    },
    {
     "name": "stderr",
     "output_type": "stream",
     "text": [
      "\n"
     ]
    },
    {
     "name": "stdout",
     "output_type": "stream",
     "text": [
      "\n",
      "      Epoch    GPU_mem   box_loss   cls_loss   dfl_loss  Instances       Size\n"
     ]
    },
    {
     "name": "stderr",
     "output_type": "stream",
     "text": [
      "       8/50         0G      1.814      1.785      1.906          6        640: 100%|██████████| 158/158 [13:30<00:00,  5.13s/it]\n",
      "                 Class     Images  Instances      Box(P          R      mAP50  mAP50-95): 100%|██████████| 12/12 [00:43<00:00,  3.60s/it]"
     ]
    },
    {
     "name": "stdout",
     "output_type": "stream",
     "text": [
      "                   all        371        288      0.547      0.495      0.527      0.214\n"
     ]
    },
    {
     "name": "stderr",
     "output_type": "stream",
     "text": [
      "\n"
     ]
    },
    {
     "name": "stdout",
     "output_type": "stream",
     "text": [
      "\n",
      "      Epoch    GPU_mem   box_loss   cls_loss   dfl_loss  Instances       Size\n"
     ]
    },
    {
     "name": "stderr",
     "output_type": "stream",
     "text": [
      "       9/50         0G      1.794      1.748      1.892          4        640: 100%|██████████| 158/158 [13:27<00:00,  5.11s/it]\n",
      "                 Class     Images  Instances      Box(P          R      mAP50  mAP50-95): 100%|██████████| 12/12 [00:43<00:00,  3.65s/it]"
     ]
    },
    {
     "name": "stdout",
     "output_type": "stream",
     "text": [
      "                   all        371        288       0.71      0.462      0.526      0.218\n"
     ]
    },
    {
     "name": "stderr",
     "output_type": "stream",
     "text": [
      "\n"
     ]
    },
    {
     "name": "stdout",
     "output_type": "stream",
     "text": [
      "\n",
      "      Epoch    GPU_mem   box_loss   cls_loss   dfl_loss  Instances       Size\n"
     ]
    },
    {
     "name": "stderr",
     "output_type": "stream",
     "text": [
      "      10/50         0G      1.767      1.661      1.852          6        640: 100%|██████████| 158/158 [13:40<00:00,  5.20s/it]\n",
      "                 Class     Images  Instances      Box(P          R      mAP50  mAP50-95): 100%|██████████| 12/12 [00:43<00:00,  3.67s/it]"
     ]
    },
    {
     "name": "stdout",
     "output_type": "stream",
     "text": [
      "                   all        371        288      0.714      0.521      0.587      0.249\n"
     ]
    },
    {
     "name": "stderr",
     "output_type": "stream",
     "text": [
      "\n"
     ]
    },
    {
     "name": "stdout",
     "output_type": "stream",
     "text": [
      "\n",
      "      Epoch    GPU_mem   box_loss   cls_loss   dfl_loss  Instances       Size\n"
     ]
    },
    {
     "name": "stderr",
     "output_type": "stream",
     "text": [
      "      11/50         0G       1.79      1.642      1.879          5        640: 100%|██████████| 158/158 [13:29<00:00,  5.12s/it]\n",
      "                 Class     Images  Instances      Box(P          R      mAP50  mAP50-95): 100%|██████████| 12/12 [00:43<00:00,  3.59s/it]"
     ]
    },
    {
     "name": "stdout",
     "output_type": "stream",
     "text": [
      "                   all        371        288      0.707      0.566      0.638      0.272\n"
     ]
    },
    {
     "name": "stderr",
     "output_type": "stream",
     "text": [
      "\n"
     ]
    },
    {
     "name": "stdout",
     "output_type": "stream",
     "text": [
      "\n",
      "      Epoch    GPU_mem   box_loss   cls_loss   dfl_loss  Instances       Size\n"
     ]
    },
    {
     "name": "stderr",
     "output_type": "stream",
     "text": [
      "      12/50         0G      1.736      1.556      1.839          5        640: 100%|██████████| 158/158 [14:48<00:00,  5.63s/it]\n",
      "                 Class     Images  Instances      Box(P          R      mAP50  mAP50-95): 100%|██████████| 12/12 [01:07<00:00,  5.59s/it]"
     ]
    },
    {
     "name": "stdout",
     "output_type": "stream",
     "text": [
      "                   all        371        288      0.684      0.531      0.601      0.244\n"
     ]
    },
    {
     "name": "stderr",
     "output_type": "stream",
     "text": [
      "\n"
     ]
    },
    {
     "name": "stdout",
     "output_type": "stream",
     "text": [
      "\n",
      "      Epoch    GPU_mem   box_loss   cls_loss   dfl_loss  Instances       Size\n"
     ]
    },
    {
     "name": "stderr",
     "output_type": "stream",
     "text": [
      "      13/50         0G      1.709      1.529      1.803          5        640: 100%|██████████| 158/158 [19:10<00:00,  7.28s/it]\n",
      "                 Class     Images  Instances      Box(P          R      mAP50  mAP50-95): 100%|██████████| 12/12 [00:54<00:00,  4.58s/it]\n"
     ]
    },
    {
     "name": "stdout",
     "output_type": "stream",
     "text": [
      "                   all        371        288      0.738      0.493      0.579      0.247\n",
      "\n",
      "      Epoch    GPU_mem   box_loss   cls_loss   dfl_loss  Instances       Size\n"
     ]
    },
    {
     "name": "stderr",
     "output_type": "stream",
     "text": [
      "      14/50         0G      1.707      1.485      1.799          6        640: 100%|██████████| 158/158 [32:27<00:00, 12.33s/it] \n",
      "                 Class     Images  Instances      Box(P          R      mAP50  mAP50-95): 100%|██████████| 12/12 [00:55<00:00,  4.66s/it]"
     ]
    },
    {
     "name": "stdout",
     "output_type": "stream",
     "text": [
      "                   all        371        288      0.627      0.521      0.561      0.245\n"
     ]
    },
    {
     "name": "stderr",
     "output_type": "stream",
     "text": [
      "\n"
     ]
    },
    {
     "name": "stdout",
     "output_type": "stream",
     "text": [
      "\n",
      "      Epoch    GPU_mem   box_loss   cls_loss   dfl_loss  Instances       Size\n"
     ]
    },
    {
     "name": "stderr",
     "output_type": "stream",
     "text": [
      "      15/50         0G      1.709      1.481      1.808          8        640: 100%|██████████| 158/158 [17:54<00:00,  6.80s/it]\n",
      "                 Class     Images  Instances      Box(P          R      mAP50  mAP50-95): 100%|██████████| 12/12 [01:05<00:00,  5.48s/it]"
     ]
    },
    {
     "name": "stdout",
     "output_type": "stream",
     "text": [
      "                   all        371        288      0.784      0.591      0.685      0.268\n"
     ]
    },
    {
     "name": "stderr",
     "output_type": "stream",
     "text": [
      "\n"
     ]
    },
    {
     "name": "stdout",
     "output_type": "stream",
     "text": [
      "\n",
      "      Epoch    GPU_mem   box_loss   cls_loss   dfl_loss  Instances       Size\n"
     ]
    },
    {
     "name": "stderr",
     "output_type": "stream",
     "text": [
      "      16/50         0G       1.72       1.48      1.812          5        640: 100%|██████████| 158/158 [18:42<00:00,  7.11s/it]\n",
      "                 Class     Images  Instances      Box(P          R      mAP50  mAP50-95): 100%|██████████| 12/12 [00:52<00:00,  4.36s/it]"
     ]
    },
    {
     "name": "stdout",
     "output_type": "stream",
     "text": [
      "                   all        371        288       0.78      0.559      0.652      0.273\n"
     ]
    },
    {
     "name": "stderr",
     "output_type": "stream",
     "text": [
      "\n"
     ]
    },
    {
     "name": "stdout",
     "output_type": "stream",
     "text": [
      "\n",
      "      Epoch    GPU_mem   box_loss   cls_loss   dfl_loss  Instances       Size\n"
     ]
    },
    {
     "name": "stderr",
     "output_type": "stream",
     "text": [
      "      17/50         0G      1.693      1.451      1.801          7        640: 100%|██████████| 158/158 [19:46<00:00,  7.51s/it]\n",
      "                 Class     Images  Instances      Box(P          R      mAP50  mAP50-95): 100%|██████████| 12/12 [00:53<00:00,  4.49s/it]"
     ]
    },
    {
     "name": "stdout",
     "output_type": "stream",
     "text": [
      "                   all        371        288      0.781      0.566      0.674      0.282\n"
     ]
    },
    {
     "name": "stderr",
     "output_type": "stream",
     "text": [
      "\n"
     ]
    },
    {
     "name": "stdout",
     "output_type": "stream",
     "text": [
      "\n",
      "      Epoch    GPU_mem   box_loss   cls_loss   dfl_loss  Instances       Size\n"
     ]
    },
    {
     "name": "stderr",
     "output_type": "stream",
     "text": [
      "      18/50         0G      1.668      1.424      1.779          8        640: 100%|██████████| 158/158 [16:29<00:00,  6.26s/it]\n",
      "                 Class     Images  Instances      Box(P          R      mAP50  mAP50-95): 100%|██████████| 12/12 [01:26<00:00,  7.24s/it]"
     ]
    },
    {
     "name": "stdout",
     "output_type": "stream",
     "text": [
      "                   all        371        288      0.771      0.587      0.672      0.292\n"
     ]
    },
    {
     "name": "stderr",
     "output_type": "stream",
     "text": [
      "\n"
     ]
    },
    {
     "name": "stdout",
     "output_type": "stream",
     "text": [
      "\n",
      "      Epoch    GPU_mem   box_loss   cls_loss   dfl_loss  Instances       Size\n"
     ]
    },
    {
     "name": "stderr",
     "output_type": "stream",
     "text": [
      "      19/50         0G      1.662      1.375      1.755          6        640: 100%|██████████| 158/158 [13:39<00:00,  5.19s/it]\n",
      "                 Class     Images  Instances      Box(P          R      mAP50  mAP50-95): 100%|██████████| 12/12 [00:43<00:00,  3.65s/it]"
     ]
    },
    {
     "name": "stdout",
     "output_type": "stream",
     "text": [
      "                   all        371        288      0.687      0.632      0.646      0.282\n"
     ]
    },
    {
     "name": "stderr",
     "output_type": "stream",
     "text": [
      "\n"
     ]
    },
    {
     "name": "stdout",
     "output_type": "stream",
     "text": [
      "\n",
      "      Epoch    GPU_mem   box_loss   cls_loss   dfl_loss  Instances       Size\n"
     ]
    },
    {
     "name": "stderr",
     "output_type": "stream",
     "text": [
      "      20/50         0G      1.631      1.362      1.744          7        640: 100%|██████████| 158/158 [13:31<00:00,  5.13s/it]\n",
      "                 Class     Images  Instances      Box(P          R      mAP50  mAP50-95): 100%|██████████| 12/12 [00:43<00:00,  3.61s/it]"
     ]
    },
    {
     "name": "stdout",
     "output_type": "stream",
     "text": [
      "                   all        371        288      0.796      0.608      0.675      0.293\n"
     ]
    },
    {
     "name": "stderr",
     "output_type": "stream",
     "text": [
      "\n"
     ]
    },
    {
     "name": "stdout",
     "output_type": "stream",
     "text": [
      "\n",
      "      Epoch    GPU_mem   box_loss   cls_loss   dfl_loss  Instances       Size\n"
     ]
    },
    {
     "name": "stderr",
     "output_type": "stream",
     "text": [
      "      21/50         0G      1.657      1.306      1.758          5        640: 100%|██████████| 158/158 [13:31<00:00,  5.14s/it]\n",
      "                 Class     Images  Instances      Box(P          R      mAP50  mAP50-95): 100%|██████████| 12/12 [00:43<00:00,  3.66s/it]"
     ]
    },
    {
     "name": "stdout",
     "output_type": "stream",
     "text": [
      "                   all        371        288      0.772      0.625      0.656      0.277\n"
     ]
    },
    {
     "name": "stderr",
     "output_type": "stream",
     "text": [
      "\n"
     ]
    },
    {
     "name": "stdout",
     "output_type": "stream",
     "text": [
      "\n",
      "      Epoch    GPU_mem   box_loss   cls_loss   dfl_loss  Instances       Size\n"
     ]
    },
    {
     "name": "stderr",
     "output_type": "stream",
     "text": [
      "      22/50         0G      1.633      1.313      1.756          6        640: 100%|██████████| 158/158 [13:30<00:00,  5.13s/it]\n",
      "                 Class     Images  Instances      Box(P          R      mAP50  mAP50-95): 100%|██████████| 12/12 [00:43<00:00,  3.60s/it]"
     ]
    },
    {
     "name": "stdout",
     "output_type": "stream",
     "text": [
      "                   all        371        288      0.881       0.59      0.698      0.298\n"
     ]
    },
    {
     "name": "stderr",
     "output_type": "stream",
     "text": [
      "\n"
     ]
    },
    {
     "name": "stdout",
     "output_type": "stream",
     "text": [
      "\n",
      "      Epoch    GPU_mem   box_loss   cls_loss   dfl_loss  Instances       Size\n"
     ]
    },
    {
     "name": "stderr",
     "output_type": "stream",
     "text": [
      "      23/50         0G      1.613      1.287      1.739          5        640: 100%|██████████| 158/158 [13:28<00:00,  5.12s/it]\n",
      "                 Class     Images  Instances      Box(P          R      mAP50  mAP50-95): 100%|██████████| 12/12 [00:43<00:00,  3.65s/it]"
     ]
    },
    {
     "name": "stdout",
     "output_type": "stream",
     "text": [
      "                   all        371        288      0.822      0.597      0.697      0.289\n"
     ]
    },
    {
     "name": "stderr",
     "output_type": "stream",
     "text": [
      "\n"
     ]
    },
    {
     "name": "stdout",
     "output_type": "stream",
     "text": [
      "\n",
      "      Epoch    GPU_mem   box_loss   cls_loss   dfl_loss  Instances       Size\n"
     ]
    },
    {
     "name": "stderr",
     "output_type": "stream",
     "text": [
      "      24/50         0G      1.618      1.269      1.719          6        640: 100%|██████████| 158/158 [13:25<00:00,  5.10s/it]\n",
      "                 Class     Images  Instances      Box(P          R      mAP50  mAP50-95): 100%|██████████| 12/12 [00:43<00:00,  3.61s/it]"
     ]
    },
    {
     "name": "stdout",
     "output_type": "stream",
     "text": [
      "                   all        371        288      0.751      0.586      0.684      0.289\n"
     ]
    },
    {
     "name": "stderr",
     "output_type": "stream",
     "text": [
      "\n"
     ]
    },
    {
     "name": "stdout",
     "output_type": "stream",
     "text": [
      "\n",
      "      Epoch    GPU_mem   box_loss   cls_loss   dfl_loss  Instances       Size\n"
     ]
    },
    {
     "name": "stderr",
     "output_type": "stream",
     "text": [
      "      25/50         0G      1.633      1.296      1.733          8        640: 100%|██████████| 158/158 [13:54<00:00,  5.28s/it]\n",
      "                 Class     Images  Instances      Box(P          R      mAP50  mAP50-95): 100%|██████████| 12/12 [00:43<00:00,  3.64s/it]"
     ]
    },
    {
     "name": "stdout",
     "output_type": "stream",
     "text": [
      "                   all        371        288      0.768      0.611      0.691      0.293\n"
     ]
    },
    {
     "name": "stderr",
     "output_type": "stream",
     "text": [
      "\n"
     ]
    },
    {
     "name": "stdout",
     "output_type": "stream",
     "text": [
      "\n",
      "      Epoch    GPU_mem   box_loss   cls_loss   dfl_loss  Instances       Size\n"
     ]
    },
    {
     "name": "stderr",
     "output_type": "stream",
     "text": [
      "      26/50         0G      1.592      1.252      1.724          9        640: 100%|██████████| 158/158 [13:34<00:00,  5.15s/it]\n",
      "                 Class     Images  Instances      Box(P          R      mAP50  mAP50-95): 100%|██████████| 12/12 [00:41<00:00,  3.49s/it]"
     ]
    },
    {
     "name": "stdout",
     "output_type": "stream",
     "text": [
      "                   all        371        288      0.846       0.61      0.704       0.31\n"
     ]
    },
    {
     "name": "stderr",
     "output_type": "stream",
     "text": [
      "\n"
     ]
    },
    {
     "name": "stdout",
     "output_type": "stream",
     "text": [
      "\n",
      "      Epoch    GPU_mem   box_loss   cls_loss   dfl_loss  Instances       Size\n"
     ]
    },
    {
     "name": "stderr",
     "output_type": "stream",
     "text": [
      "      27/50         0G      1.602      1.209      1.708          4        640: 100%|██████████| 158/158 [13:17<00:00,  5.05s/it]\n",
      "                 Class     Images  Instances      Box(P          R      mAP50  mAP50-95): 100%|██████████| 12/12 [00:41<00:00,  3.50s/it]"
     ]
    },
    {
     "name": "stdout",
     "output_type": "stream",
     "text": [
      "                   all        371        288      0.841      0.628      0.741      0.319\n"
     ]
    },
    {
     "name": "stderr",
     "output_type": "stream",
     "text": [
      "\n"
     ]
    },
    {
     "name": "stdout",
     "output_type": "stream",
     "text": [
      "\n",
      "      Epoch    GPU_mem   box_loss   cls_loss   dfl_loss  Instances       Size\n"
     ]
    },
    {
     "name": "stderr",
     "output_type": "stream",
     "text": [
      "      28/50         0G       1.61      1.211      1.722          3        640: 100%|██████████| 158/158 [13:04<00:00,  4.97s/it]\n",
      "                 Class     Images  Instances      Box(P          R      mAP50  mAP50-95): 100%|██████████| 12/12 [00:42<00:00,  3.58s/it]"
     ]
    },
    {
     "name": "stdout",
     "output_type": "stream",
     "text": [
      "                   all        371        288      0.785      0.646      0.738      0.325\n"
     ]
    },
    {
     "name": "stderr",
     "output_type": "stream",
     "text": [
      "\n"
     ]
    },
    {
     "name": "stdout",
     "output_type": "stream",
     "text": [
      "\n",
      "      Epoch    GPU_mem   box_loss   cls_loss   dfl_loss  Instances       Size\n"
     ]
    },
    {
     "name": "stderr",
     "output_type": "stream",
     "text": [
      "      29/50         0G      1.592        1.2      1.712          4        640: 100%|██████████| 158/158 [12:55<00:00,  4.91s/it]\n",
      "                 Class     Images  Instances      Box(P          R      mAP50  mAP50-95): 100%|██████████| 12/12 [00:42<00:00,  3.53s/it]"
     ]
    },
    {
     "name": "stdout",
     "output_type": "stream",
     "text": [
      "                   all        371        288      0.779      0.687      0.722      0.306\n"
     ]
    },
    {
     "name": "stderr",
     "output_type": "stream",
     "text": [
      "\n"
     ]
    },
    {
     "name": "stdout",
     "output_type": "stream",
     "text": [
      "\n",
      "      Epoch    GPU_mem   box_loss   cls_loss   dfl_loss  Instances       Size\n"
     ]
    },
    {
     "name": "stderr",
     "output_type": "stream",
     "text": [
      "      30/50         0G      1.558      1.167       1.68          4        640: 100%|██████████| 158/158 [12:50<00:00,  4.88s/it]\n",
      "                 Class     Images  Instances      Box(P          R      mAP50  mAP50-95): 100%|██████████| 12/12 [00:39<00:00,  3.31s/it]"
     ]
    },
    {
     "name": "stdout",
     "output_type": "stream",
     "text": [
      "                   all        371        288      0.798      0.628      0.731      0.315\n"
     ]
    },
    {
     "name": "stderr",
     "output_type": "stream",
     "text": [
      "\n"
     ]
    },
    {
     "name": "stdout",
     "output_type": "stream",
     "text": [
      "\n",
      "      Epoch    GPU_mem   box_loss   cls_loss   dfl_loss  Instances       Size\n"
     ]
    },
    {
     "name": "stderr",
     "output_type": "stream",
     "text": [
      "      31/50         0G      1.537      1.147      1.678          3        640: 100%|██████████| 158/158 [12:38<00:00,  4.80s/it]\n",
      "                 Class     Images  Instances      Box(P          R      mAP50  mAP50-95): 100%|██████████| 12/12 [00:39<00:00,  3.28s/it]"
     ]
    },
    {
     "name": "stdout",
     "output_type": "stream",
     "text": [
      "                   all        371        288      0.829      0.712      0.755      0.336\n"
     ]
    },
    {
     "name": "stderr",
     "output_type": "stream",
     "text": [
      "\n"
     ]
    },
    {
     "name": "stdout",
     "output_type": "stream",
     "text": [
      "\n",
      "      Epoch    GPU_mem   box_loss   cls_loss   dfl_loss  Instances       Size\n"
     ]
    },
    {
     "name": "stderr",
     "output_type": "stream",
     "text": [
      "      32/50         0G      1.576      1.164      1.708          5        640: 100%|██████████| 158/158 [12:35<00:00,  4.78s/it]\n",
      "                 Class     Images  Instances      Box(P          R      mAP50  mAP50-95): 100%|██████████| 12/12 [00:43<00:00,  3.59s/it]"
     ]
    },
    {
     "name": "stdout",
     "output_type": "stream",
     "text": [
      "                   all        371        288      0.849      0.646      0.765      0.333\n"
     ]
    },
    {
     "name": "stderr",
     "output_type": "stream",
     "text": [
      "\n"
     ]
    },
    {
     "name": "stdout",
     "output_type": "stream",
     "text": [
      "\n",
      "      Epoch    GPU_mem   box_loss   cls_loss   dfl_loss  Instances       Size\n"
     ]
    },
    {
     "name": "stderr",
     "output_type": "stream",
     "text": [
      "      33/50         0G      1.561      1.114      1.685          4        640: 100%|██████████| 158/158 [12:33<00:00,  4.77s/it]\n",
      "                 Class     Images  Instances      Box(P          R      mAP50  mAP50-95): 100%|██████████| 12/12 [00:39<00:00,  3.32s/it]"
     ]
    },
    {
     "name": "stdout",
     "output_type": "stream",
     "text": [
      "                   all        371        288      0.759      0.694      0.728      0.319\n"
     ]
    },
    {
     "name": "stderr",
     "output_type": "stream",
     "text": [
      "\n"
     ]
    },
    {
     "name": "stdout",
     "output_type": "stream",
     "text": [
      "\n",
      "      Epoch    GPU_mem   box_loss   cls_loss   dfl_loss  Instances       Size\n"
     ]
    },
    {
     "name": "stderr",
     "output_type": "stream",
     "text": [
      "      34/50         0G      1.517       1.13      1.671         11        640: 100%|██████████| 158/158 [13:18<00:00,  5.06s/it]\n",
      "                 Class     Images  Instances      Box(P          R      mAP50  mAP50-95): 100%|██████████| 12/12 [00:47<00:00,  3.92s/it]"
     ]
    },
    {
     "name": "stdout",
     "output_type": "stream",
     "text": [
      "                   all        371        288      0.821      0.646      0.732      0.334\n"
     ]
    },
    {
     "name": "stderr",
     "output_type": "stream",
     "text": [
      "\n"
     ]
    },
    {
     "name": "stdout",
     "output_type": "stream",
     "text": [
      "\n",
      "      Epoch    GPU_mem   box_loss   cls_loss   dfl_loss  Instances       Size\n"
     ]
    },
    {
     "name": "stderr",
     "output_type": "stream",
     "text": [
      "      35/50         0G      1.533      1.118      1.684          6        640: 100%|██████████| 158/158 [13:16<00:00,  5.04s/it]\n",
      "                 Class     Images  Instances      Box(P          R      mAP50  mAP50-95): 100%|██████████| 12/12 [00:42<00:00,  3.56s/it]"
     ]
    },
    {
     "name": "stdout",
     "output_type": "stream",
     "text": [
      "                   all        371        288      0.784      0.688      0.733      0.313\n"
     ]
    },
    {
     "name": "stderr",
     "output_type": "stream",
     "text": [
      "\n"
     ]
    },
    {
     "name": "stdout",
     "output_type": "stream",
     "text": [
      "\n",
      "      Epoch    GPU_mem   box_loss   cls_loss   dfl_loss  Instances       Size\n"
     ]
    },
    {
     "name": "stderr",
     "output_type": "stream",
     "text": [
      "      36/50         0G      1.526      1.104       1.67          5        640: 100%|██████████| 158/158 [12:38<00:00,  4.80s/it]\n",
      "                 Class     Images  Instances      Box(P          R      mAP50  mAP50-95): 100%|██████████| 12/12 [00:42<00:00,  3.51s/it]"
     ]
    },
    {
     "name": "stdout",
     "output_type": "stream",
     "text": [
      "                   all        371        288      0.867      0.632      0.747      0.343\n"
     ]
    },
    {
     "name": "stderr",
     "output_type": "stream",
     "text": [
      "\n"
     ]
    },
    {
     "name": "stdout",
     "output_type": "stream",
     "text": [
      "\n",
      "      Epoch    GPU_mem   box_loss   cls_loss   dfl_loss  Instances       Size\n"
     ]
    },
    {
     "name": "stderr",
     "output_type": "stream",
     "text": [
      "      37/50         0G      1.512      1.069      1.652          6        640: 100%|██████████| 158/158 [12:45<00:00,  4.85s/it]\n",
      "                 Class     Images  Instances      Box(P          R      mAP50  mAP50-95): 100%|██████████| 12/12 [00:41<00:00,  3.46s/it]"
     ]
    },
    {
     "name": "stdout",
     "output_type": "stream",
     "text": [
      "                   all        371        288       0.82      0.667      0.742      0.331\n"
     ]
    },
    {
     "name": "stderr",
     "output_type": "stream",
     "text": [
      "\n"
     ]
    },
    {
     "name": "stdout",
     "output_type": "stream",
     "text": [
      "\n",
      "      Epoch    GPU_mem   box_loss   cls_loss   dfl_loss  Instances       Size\n"
     ]
    },
    {
     "name": "stderr",
     "output_type": "stream",
     "text": [
      "      38/50         0G      1.499      1.076      1.648          2        640: 100%|██████████| 158/158 [13:05<00:00,  4.97s/it]\n",
      "                 Class     Images  Instances      Box(P          R      mAP50  mAP50-95): 100%|██████████| 12/12 [00:43<00:00,  3.65s/it]"
     ]
    },
    {
     "name": "stdout",
     "output_type": "stream",
     "text": [
      "                   all        371        288       0.77      0.652      0.715      0.304\n"
     ]
    },
    {
     "name": "stderr",
     "output_type": "stream",
     "text": [
      "\n"
     ]
    },
    {
     "name": "stdout",
     "output_type": "stream",
     "text": [
      "\n",
      "      Epoch    GPU_mem   box_loss   cls_loss   dfl_loss  Instances       Size\n"
     ]
    },
    {
     "name": "stderr",
     "output_type": "stream",
     "text": [
      "      39/50         0G      1.471      1.024      1.614          3        640: 100%|██████████| 158/158 [12:59<00:00,  4.93s/it]\n",
      "                 Class     Images  Instances      Box(P          R      mAP50  mAP50-95): 100%|██████████| 12/12 [00:43<00:00,  3.60s/it]"
     ]
    },
    {
     "name": "stdout",
     "output_type": "stream",
     "text": [
      "                   all        371        288      0.767      0.698      0.711      0.326\n"
     ]
    },
    {
     "name": "stderr",
     "output_type": "stream",
     "text": [
      "\n"
     ]
    },
    {
     "name": "stdout",
     "output_type": "stream",
     "text": [
      "\n",
      "      Epoch    GPU_mem   box_loss   cls_loss   dfl_loss  Instances       Size\n"
     ]
    },
    {
     "name": "stderr",
     "output_type": "stream",
     "text": [
      "      40/50         0G      1.465      1.007      1.618          6        640: 100%|██████████| 158/158 [13:06<00:00,  4.98s/it]\n",
      "                 Class     Images  Instances      Box(P          R      mAP50  mAP50-95): 100%|██████████| 12/12 [00:42<00:00,  3.55s/it]"
     ]
    },
    {
     "name": "stdout",
     "output_type": "stream",
     "text": [
      "                   all        371        288      0.808      0.687      0.745      0.342\n"
     ]
    },
    {
     "name": "stderr",
     "output_type": "stream",
     "text": [
      "\n"
     ]
    },
    {
     "name": "stdout",
     "output_type": "stream",
     "text": [
      "Closing dataloader mosaic\n",
      "\n",
      "      Epoch    GPU_mem   box_loss   cls_loss   dfl_loss  Instances       Size\n"
     ]
    },
    {
     "name": "stderr",
     "output_type": "stream",
     "text": [
      "      41/50         0G      1.519      0.859      1.756          3        640: 100%|██████████| 158/158 [13:20<00:00,  5.07s/it]\n",
      "                 Class     Images  Instances      Box(P          R      mAP50  mAP50-95): 100%|██████████| 12/12 [00:43<00:00,  3.64s/it]"
     ]
    },
    {
     "name": "stdout",
     "output_type": "stream",
     "text": [
      "                   all        371        288      0.768      0.712       0.74      0.339\n"
     ]
    },
    {
     "name": "stderr",
     "output_type": "stream",
     "text": [
      "\n"
     ]
    },
    {
     "name": "stdout",
     "output_type": "stream",
     "text": [
      "\n",
      "      Epoch    GPU_mem   box_loss   cls_loss   dfl_loss  Instances       Size\n"
     ]
    },
    {
     "name": "stderr",
     "output_type": "stream",
     "text": [
      "      42/50         0G      1.468     0.8229        1.7          5        640: 100%|██████████| 158/158 [13:11<00:00,  5.01s/it]\n",
      "                 Class     Images  Instances      Box(P          R      mAP50  mAP50-95): 100%|██████████| 12/12 [00:43<00:00,  3.62s/it]"
     ]
    },
    {
     "name": "stdout",
     "output_type": "stream",
     "text": [
      "                   all        371        288        0.8      0.698      0.734      0.323\n"
     ]
    },
    {
     "name": "stderr",
     "output_type": "stream",
     "text": [
      "\n"
     ]
    },
    {
     "name": "stdout",
     "output_type": "stream",
     "text": [
      "\n",
      "      Epoch    GPU_mem   box_loss   cls_loss   dfl_loss  Instances       Size\n"
     ]
    },
    {
     "name": "stderr",
     "output_type": "stream",
     "text": [
      "      43/50         0G      1.441     0.8107      1.692          4        640: 100%|██████████| 158/158 [13:16<00:00,  5.04s/it]\n",
      "                 Class     Images  Instances      Box(P          R      mAP50  mAP50-95): 100%|██████████| 12/12 [00:40<00:00,  3.38s/it]"
     ]
    },
    {
     "name": "stdout",
     "output_type": "stream",
     "text": [
      "                   all        371        288      0.791      0.708      0.738      0.336\n"
     ]
    },
    {
     "name": "stderr",
     "output_type": "stream",
     "text": [
      "\n"
     ]
    },
    {
     "name": "stdout",
     "output_type": "stream",
     "text": [
      "\n",
      "      Epoch    GPU_mem   box_loss   cls_loss   dfl_loss  Instances       Size\n"
     ]
    },
    {
     "name": "stderr",
     "output_type": "stream",
     "text": [
      "      44/50         0G      1.428     0.7651      1.682          3        640: 100%|██████████| 158/158 [12:47<00:00,  4.86s/it]\n",
      "                 Class     Images  Instances      Box(P          R      mAP50  mAP50-95): 100%|██████████| 12/12 [00:43<00:00,  3.64s/it]"
     ]
    },
    {
     "name": "stdout",
     "output_type": "stream",
     "text": [
      "                   all        371        288      0.783      0.715      0.737      0.331\n"
     ]
    },
    {
     "name": "stderr",
     "output_type": "stream",
     "text": [
      "\n"
     ]
    },
    {
     "name": "stdout",
     "output_type": "stream",
     "text": [
      "\n",
      "      Epoch    GPU_mem   box_loss   cls_loss   dfl_loss  Instances       Size\n"
     ]
    },
    {
     "name": "stderr",
     "output_type": "stream",
     "text": [
      "      45/50         0G      1.423     0.7575      1.675          3        640: 100%|██████████| 158/158 [12:44<00:00,  4.84s/it]\n",
      "                 Class     Images  Instances      Box(P          R      mAP50  mAP50-95): 100%|██████████| 12/12 [00:41<00:00,  3.48s/it]"
     ]
    },
    {
     "name": "stdout",
     "output_type": "stream",
     "text": [
      "                   all        371        288      0.826      0.674      0.696       0.32\n"
     ]
    },
    {
     "name": "stderr",
     "output_type": "stream",
     "text": [
      "\n"
     ]
    },
    {
     "name": "stdout",
     "output_type": "stream",
     "text": [
      "\n",
      "      Epoch    GPU_mem   box_loss   cls_loss   dfl_loss  Instances       Size\n"
     ]
    },
    {
     "name": "stderr",
     "output_type": "stream",
     "text": [
      "      46/50         0G      1.427     0.7598      1.674          2        640: 100%|██████████| 158/158 [12:51<00:00,  4.88s/it]\n",
      "                 Class     Images  Instances      Box(P          R      mAP50  mAP50-95): 100%|██████████| 12/12 [00:43<00:00,  3.59s/it]"
     ]
    },
    {
     "name": "stdout",
     "output_type": "stream",
     "text": [
      "                   all        371        288      0.809       0.69      0.698      0.314\n"
     ]
    },
    {
     "name": "stderr",
     "output_type": "stream",
     "text": [
      "\n"
     ]
    },
    {
     "name": "stdout",
     "output_type": "stream",
     "text": [
      "\n",
      "      Epoch    GPU_mem   box_loss   cls_loss   dfl_loss  Instances       Size\n"
     ]
    },
    {
     "name": "stderr",
     "output_type": "stream",
     "text": [
      "      47/50         0G      1.405     0.7429      1.654          4        640: 100%|██████████| 158/158 [12:45<00:00,  4.85s/it]\n",
      "                 Class     Images  Instances      Box(P          R      mAP50  mAP50-95): 100%|██████████| 12/12 [00:43<00:00,  3.60s/it]"
     ]
    },
    {
     "name": "stdout",
     "output_type": "stream",
     "text": [
      "                   all        371        288      0.799      0.681      0.714      0.323\n"
     ]
    },
    {
     "name": "stderr",
     "output_type": "stream",
     "text": [
      "\n"
     ]
    },
    {
     "name": "stdout",
     "output_type": "stream",
     "text": [
      "\n",
      "      Epoch    GPU_mem   box_loss   cls_loss   dfl_loss  Instances       Size\n"
     ]
    },
    {
     "name": "stderr",
     "output_type": "stream",
     "text": [
      "      48/50         0G      1.406     0.7163      1.652          3        640: 100%|██████████| 158/158 [13:10<00:00,  5.01s/it]\n",
      "                 Class     Images  Instances      Box(P          R      mAP50  mAP50-95): 100%|██████████| 12/12 [00:41<00:00,  3.44s/it]"
     ]
    },
    {
     "name": "stdout",
     "output_type": "stream",
     "text": [
      "                   all        371        288      0.787      0.688      0.734      0.331\n"
     ]
    },
    {
     "name": "stderr",
     "output_type": "stream",
     "text": [
      "\n"
     ]
    },
    {
     "name": "stdout",
     "output_type": "stream",
     "text": [
      "\n",
      "      Epoch    GPU_mem   box_loss   cls_loss   dfl_loss  Instances       Size\n"
     ]
    },
    {
     "name": "stderr",
     "output_type": "stream",
     "text": [
      "      49/50         0G      1.388     0.7265      1.663          2        640: 100%|██████████| 158/158 [12:47<00:00,  4.86s/it]\n",
      "                 Class     Images  Instances      Box(P          R      mAP50  mAP50-95): 100%|██████████| 12/12 [00:39<00:00,  3.31s/it]"
     ]
    },
    {
     "name": "stdout",
     "output_type": "stream",
     "text": [
      "                   all        371        288      0.785      0.698      0.728      0.336\n"
     ]
    },
    {
     "name": "stderr",
     "output_type": "stream",
     "text": [
      "\n"
     ]
    },
    {
     "name": "stdout",
     "output_type": "stream",
     "text": [
      "\n",
      "      Epoch    GPU_mem   box_loss   cls_loss   dfl_loss  Instances       Size\n"
     ]
    },
    {
     "name": "stderr",
     "output_type": "stream",
     "text": [
      "      50/50         0G      1.369     0.7041      1.641          3        640: 100%|██████████| 158/158 [12:42<00:00,  4.83s/it]\n",
      "                 Class     Images  Instances      Box(P          R      mAP50  mAP50-95): 100%|██████████| 12/12 [00:39<00:00,  3.33s/it]"
     ]
    },
    {
     "name": "stdout",
     "output_type": "stream",
     "text": [
      "                   all        371        288      0.801      0.697      0.735      0.333\n"
     ]
    },
    {
     "name": "stderr",
     "output_type": "stream",
     "text": [
      "\n"
     ]
    },
    {
     "name": "stdout",
     "output_type": "stream",
     "text": [
      "\n",
      "50 epochs completed in 12.593 hours.\n",
      "Optimizer stripped from runs\\detect\\accident_yolov87\\weights\\last.pt, 6.2MB\n",
      "Optimizer stripped from runs\\detect\\accident_yolov87\\weights\\best.pt, 6.2MB\n",
      "\n",
      "Validating runs\\detect\\accident_yolov87\\weights\\best.pt...\n",
      "Ultralytics 8.3.31  Python-3.11.9 torch-2.5.1+cpu CPU (12th Gen Intel Core(TM) i5-1235U)\n",
      "Model summary (fused): 168 layers, 3,005,843 parameters, 0 gradients, 8.1 GFLOPs\n"
     ]
    },
    {
     "name": "stderr",
     "output_type": "stream",
     "text": [
      "                 Class     Images  Instances      Box(P          R      mAP50  mAP50-95): 100%|██████████| 12/12 [00:41<00:00,  3.49s/it]\n"
     ]
    },
    {
     "name": "stdout",
     "output_type": "stream",
     "text": [
      "                   all        371        288      0.868      0.632      0.747      0.344\n",
      "Speed: 1.9ms preprocess, 101.8ms inference, 0.0ms loss, 0.5ms postprocess per image\n",
      "Results saved to \u001b[1mruns\\detect\\accident_yolov87\u001b[0m\n"
     ]
    },
    {
     "data": {
      "text/plain": [
       "ultralytics.utils.metrics.DetMetrics object with attributes:\n",
       "\n",
       "ap_class_index: array([0])\n",
       "box: ultralytics.utils.metrics.Metric object\n",
       "confusion_matrix: <ultralytics.utils.metrics.ConfusionMatrix object at 0x000002891CECC050>\n",
       "curves: ['Precision-Recall(B)', 'F1-Confidence(B)', 'Precision-Confidence(B)', 'Recall-Confidence(B)']\n",
       "curves_results: [[array([          0,    0.001001,    0.002002,    0.003003,    0.004004,    0.005005,    0.006006,    0.007007,    0.008008,    0.009009,     0.01001,    0.011011,    0.012012,    0.013013,    0.014014,    0.015015,    0.016016,    0.017017,    0.018018,    0.019019,     0.02002,    0.021021,    0.022022,    0.023023,\n",
       "          0.024024,    0.025025,    0.026026,    0.027027,    0.028028,    0.029029,     0.03003,    0.031031,    0.032032,    0.033033,    0.034034,    0.035035,    0.036036,    0.037037,    0.038038,    0.039039,     0.04004,    0.041041,    0.042042,    0.043043,    0.044044,    0.045045,    0.046046,    0.047047,\n",
       "          0.048048,    0.049049,     0.05005,    0.051051,    0.052052,    0.053053,    0.054054,    0.055055,    0.056056,    0.057057,    0.058058,    0.059059,     0.06006,    0.061061,    0.062062,    0.063063,    0.064064,    0.065065,    0.066066,    0.067067,    0.068068,    0.069069,     0.07007,    0.071071,\n",
       "          0.072072,    0.073073,    0.074074,    0.075075,    0.076076,    0.077077,    0.078078,    0.079079,     0.08008,    0.081081,    0.082082,    0.083083,    0.084084,    0.085085,    0.086086,    0.087087,    0.088088,    0.089089,     0.09009,    0.091091,    0.092092,    0.093093,    0.094094,    0.095095,\n",
       "          0.096096,    0.097097,    0.098098,    0.099099,      0.1001,      0.1011,      0.1021,      0.1031,      0.1041,     0.10511,     0.10611,     0.10711,     0.10811,     0.10911,     0.11011,     0.11111,     0.11211,     0.11311,     0.11411,     0.11512,     0.11612,     0.11712,     0.11812,     0.11912,\n",
       "           0.12012,     0.12112,     0.12212,     0.12312,     0.12412,     0.12513,     0.12613,     0.12713,     0.12813,     0.12913,     0.13013,     0.13113,     0.13213,     0.13313,     0.13413,     0.13514,     0.13614,     0.13714,     0.13814,     0.13914,     0.14014,     0.14114,     0.14214,     0.14314,\n",
       "           0.14414,     0.14515,     0.14615,     0.14715,     0.14815,     0.14915,     0.15015,     0.15115,     0.15215,     0.15315,     0.15415,     0.15516,     0.15616,     0.15716,     0.15816,     0.15916,     0.16016,     0.16116,     0.16216,     0.16316,     0.16416,     0.16517,     0.16617,     0.16717,\n",
       "           0.16817,     0.16917,     0.17017,     0.17117,     0.17217,     0.17317,     0.17417,     0.17518,     0.17618,     0.17718,     0.17818,     0.17918,     0.18018,     0.18118,     0.18218,     0.18318,     0.18418,     0.18519,     0.18619,     0.18719,     0.18819,     0.18919,     0.19019,     0.19119,\n",
       "           0.19219,     0.19319,     0.19419,      0.1952,      0.1962,      0.1972,      0.1982,      0.1992,      0.2002,      0.2012,      0.2022,      0.2032,      0.2042,     0.20521,     0.20621,     0.20721,     0.20821,     0.20921,     0.21021,     0.21121,     0.21221,     0.21321,     0.21421,     0.21522,\n",
       "           0.21622,     0.21722,     0.21822,     0.21922,     0.22022,     0.22122,     0.22222,     0.22322,     0.22422,     0.22523,     0.22623,     0.22723,     0.22823,     0.22923,     0.23023,     0.23123,     0.23223,     0.23323,     0.23423,     0.23524,     0.23624,     0.23724,     0.23824,     0.23924,\n",
       "           0.24024,     0.24124,     0.24224,     0.24324,     0.24424,     0.24525,     0.24625,     0.24725,     0.24825,     0.24925,     0.25025,     0.25125,     0.25225,     0.25325,     0.25425,     0.25526,     0.25626,     0.25726,     0.25826,     0.25926,     0.26026,     0.26126,     0.26226,     0.26326,\n",
       "           0.26426,     0.26527,     0.26627,     0.26727,     0.26827,     0.26927,     0.27027,     0.27127,     0.27227,     0.27327,     0.27427,     0.27528,     0.27628,     0.27728,     0.27828,     0.27928,     0.28028,     0.28128,     0.28228,     0.28328,     0.28428,     0.28529,     0.28629,     0.28729,\n",
       "           0.28829,     0.28929,     0.29029,     0.29129,     0.29229,     0.29329,     0.29429,      0.2953,      0.2963,      0.2973,      0.2983,      0.2993,      0.3003,      0.3013,      0.3023,      0.3033,      0.3043,     0.30531,     0.30631,     0.30731,     0.30831,     0.30931,     0.31031,     0.31131,\n",
       "           0.31231,     0.31331,     0.31431,     0.31532,     0.31632,     0.31732,     0.31832,     0.31932,     0.32032,     0.32132,     0.32232,     0.32332,     0.32432,     0.32533,     0.32633,     0.32733,     0.32833,     0.32933,     0.33033,     0.33133,     0.33233,     0.33333,     0.33433,     0.33534,\n",
       "           0.33634,     0.33734,     0.33834,     0.33934,     0.34034,     0.34134,     0.34234,     0.34334,     0.34434,     0.34535,     0.34635,     0.34735,     0.34835,     0.34935,     0.35035,     0.35135,     0.35235,     0.35335,     0.35435,     0.35536,     0.35636,     0.35736,     0.35836,     0.35936,\n",
       "           0.36036,     0.36136,     0.36236,     0.36336,     0.36436,     0.36537,     0.36637,     0.36737,     0.36837,     0.36937,     0.37037,     0.37137,     0.37237,     0.37337,     0.37437,     0.37538,     0.37638,     0.37738,     0.37838,     0.37938,     0.38038,     0.38138,     0.38238,     0.38338,\n",
       "           0.38438,     0.38539,     0.38639,     0.38739,     0.38839,     0.38939,     0.39039,     0.39139,     0.39239,     0.39339,     0.39439,      0.3954,      0.3964,      0.3974,      0.3984,      0.3994,      0.4004,      0.4014,      0.4024,      0.4034,      0.4044,     0.40541,     0.40641,     0.40741,\n",
       "           0.40841,     0.40941,     0.41041,     0.41141,     0.41241,     0.41341,     0.41441,     0.41542,     0.41642,     0.41742,     0.41842,     0.41942,     0.42042,     0.42142,     0.42242,     0.42342,     0.42442,     0.42543,     0.42643,     0.42743,     0.42843,     0.42943,     0.43043,     0.43143,\n",
       "           0.43243,     0.43343,     0.43443,     0.43544,     0.43644,     0.43744,     0.43844,     0.43944,     0.44044,     0.44144,     0.44244,     0.44344,     0.44444,     0.44545,     0.44645,     0.44745,     0.44845,     0.44945,     0.45045,     0.45145,     0.45245,     0.45345,     0.45445,     0.45546,\n",
       "           0.45646,     0.45746,     0.45846,     0.45946,     0.46046,     0.46146,     0.46246,     0.46346,     0.46446,     0.46547,     0.46647,     0.46747,     0.46847,     0.46947,     0.47047,     0.47147,     0.47247,     0.47347,     0.47447,     0.47548,     0.47648,     0.47748,     0.47848,     0.47948,\n",
       "           0.48048,     0.48148,     0.48248,     0.48348,     0.48448,     0.48549,     0.48649,     0.48749,     0.48849,     0.48949,     0.49049,     0.49149,     0.49249,     0.49349,     0.49449,      0.4955,      0.4965,      0.4975,      0.4985,      0.4995,      0.5005,      0.5015,      0.5025,      0.5035,\n",
       "            0.5045,     0.50551,     0.50651,     0.50751,     0.50851,     0.50951,     0.51051,     0.51151,     0.51251,     0.51351,     0.51451,     0.51552,     0.51652,     0.51752,     0.51852,     0.51952,     0.52052,     0.52152,     0.52252,     0.52352,     0.52452,     0.52553,     0.52653,     0.52753,\n",
       "           0.52853,     0.52953,     0.53053,     0.53153,     0.53253,     0.53353,     0.53453,     0.53554,     0.53654,     0.53754,     0.53854,     0.53954,     0.54054,     0.54154,     0.54254,     0.54354,     0.54454,     0.54555,     0.54655,     0.54755,     0.54855,     0.54955,     0.55055,     0.55155,\n",
       "           0.55255,     0.55355,     0.55455,     0.55556,     0.55656,     0.55756,     0.55856,     0.55956,     0.56056,     0.56156,     0.56256,     0.56356,     0.56456,     0.56557,     0.56657,     0.56757,     0.56857,     0.56957,     0.57057,     0.57157,     0.57257,     0.57357,     0.57457,     0.57558,\n",
       "           0.57658,     0.57758,     0.57858,     0.57958,     0.58058,     0.58158,     0.58258,     0.58358,     0.58458,     0.58559,     0.58659,     0.58759,     0.58859,     0.58959,     0.59059,     0.59159,     0.59259,     0.59359,     0.59459,      0.5956,      0.5966,      0.5976,      0.5986,      0.5996,\n",
       "            0.6006,      0.6016,      0.6026,      0.6036,      0.6046,     0.60561,     0.60661,     0.60761,     0.60861,     0.60961,     0.61061,     0.61161,     0.61261,     0.61361,     0.61461,     0.61562,     0.61662,     0.61762,     0.61862,     0.61962,     0.62062,     0.62162,     0.62262,     0.62362,\n",
       "           0.62462,     0.62563,     0.62663,     0.62763,     0.62863,     0.62963,     0.63063,     0.63163,     0.63263,     0.63363,     0.63463,     0.63564,     0.63664,     0.63764,     0.63864,     0.63964,     0.64064,     0.64164,     0.64264,     0.64364,     0.64464,     0.64565,     0.64665,     0.64765,\n",
       "           0.64865,     0.64965,     0.65065,     0.65165,     0.65265,     0.65365,     0.65465,     0.65566,     0.65666,     0.65766,     0.65866,     0.65966,     0.66066,     0.66166,     0.66266,     0.66366,     0.66466,     0.66567,     0.66667,     0.66767,     0.66867,     0.66967,     0.67067,     0.67167,\n",
       "           0.67267,     0.67367,     0.67467,     0.67568,     0.67668,     0.67768,     0.67868,     0.67968,     0.68068,     0.68168,     0.68268,     0.68368,     0.68468,     0.68569,     0.68669,     0.68769,     0.68869,     0.68969,     0.69069,     0.69169,     0.69269,     0.69369,     0.69469,      0.6957,\n",
       "            0.6967,      0.6977,      0.6987,      0.6997,      0.7007,      0.7017,      0.7027,      0.7037,      0.7047,     0.70571,     0.70671,     0.70771,     0.70871,     0.70971,     0.71071,     0.71171,     0.71271,     0.71371,     0.71471,     0.71572,     0.71672,     0.71772,     0.71872,     0.71972,\n",
       "           0.72072,     0.72172,     0.72272,     0.72372,     0.72472,     0.72573,     0.72673,     0.72773,     0.72873,     0.72973,     0.73073,     0.73173,     0.73273,     0.73373,     0.73473,     0.73574,     0.73674,     0.73774,     0.73874,     0.73974,     0.74074,     0.74174,     0.74274,     0.74374,\n",
       "           0.74474,     0.74575,     0.74675,     0.74775,     0.74875,     0.74975,     0.75075,     0.75175,     0.75275,     0.75375,     0.75475,     0.75576,     0.75676,     0.75776,     0.75876,     0.75976,     0.76076,     0.76176,     0.76276,     0.76376,     0.76476,     0.76577,     0.76677,     0.76777,\n",
       "           0.76877,     0.76977,     0.77077,     0.77177,     0.77277,     0.77377,     0.77477,     0.77578,     0.77678,     0.77778,     0.77878,     0.77978,     0.78078,     0.78178,     0.78278,     0.78378,     0.78478,     0.78579,     0.78679,     0.78779,     0.78879,     0.78979,     0.79079,     0.79179,\n",
       "           0.79279,     0.79379,     0.79479,      0.7958,      0.7968,      0.7978,      0.7988,      0.7998,      0.8008,      0.8018,      0.8028,      0.8038,      0.8048,     0.80581,     0.80681,     0.80781,     0.80881,     0.80981,     0.81081,     0.81181,     0.81281,     0.81381,     0.81481,     0.81582,\n",
       "           0.81682,     0.81782,     0.81882,     0.81982,     0.82082,     0.82182,     0.82282,     0.82382,     0.82482,     0.82583,     0.82683,     0.82783,     0.82883,     0.82983,     0.83083,     0.83183,     0.83283,     0.83383,     0.83483,     0.83584,     0.83684,     0.83784,     0.83884,     0.83984,\n",
       "           0.84084,     0.84184,     0.84284,     0.84384,     0.84484,     0.84585,     0.84685,     0.84785,     0.84885,     0.84985,     0.85085,     0.85185,     0.85285,     0.85385,     0.85485,     0.85586,     0.85686,     0.85786,     0.85886,     0.85986,     0.86086,     0.86186,     0.86286,     0.86386,\n",
       "           0.86486,     0.86587,     0.86687,     0.86787,     0.86887,     0.86987,     0.87087,     0.87187,     0.87287,     0.87387,     0.87487,     0.87588,     0.87688,     0.87788,     0.87888,     0.87988,     0.88088,     0.88188,     0.88288,     0.88388,     0.88488,     0.88589,     0.88689,     0.88789,\n",
       "           0.88889,     0.88989,     0.89089,     0.89189,     0.89289,     0.89389,     0.89489,      0.8959,      0.8969,      0.8979,      0.8989,      0.8999,      0.9009,      0.9019,      0.9029,      0.9039,      0.9049,     0.90591,     0.90691,     0.90791,     0.90891,     0.90991,     0.91091,     0.91191,\n",
       "           0.91291,     0.91391,     0.91491,     0.91592,     0.91692,     0.91792,     0.91892,     0.91992,     0.92092,     0.92192,     0.92292,     0.92392,     0.92492,     0.92593,     0.92693,     0.92793,     0.92893,     0.92993,     0.93093,     0.93193,     0.93293,     0.93393,     0.93493,     0.93594,\n",
       "           0.93694,     0.93794,     0.93894,     0.93994,     0.94094,     0.94194,     0.94294,     0.94394,     0.94494,     0.94595,     0.94695,     0.94795,     0.94895,     0.94995,     0.95095,     0.95195,     0.95295,     0.95395,     0.95495,     0.95596,     0.95696,     0.95796,     0.95896,     0.95996,\n",
       "           0.96096,     0.96196,     0.96296,     0.96396,     0.96496,     0.96597,     0.96697,     0.96797,     0.96897,     0.96997,     0.97097,     0.97197,     0.97297,     0.97397,     0.97497,     0.97598,     0.97698,     0.97798,     0.97898,     0.97998,     0.98098,     0.98198,     0.98298,     0.98398,\n",
       "           0.98498,     0.98599,     0.98699,     0.98799,     0.98899,     0.98999,     0.99099,     0.99199,     0.99299,     0.99399,     0.99499,       0.996,       0.997,       0.998,       0.999,           1]), array([[          1,           1,           1,           1,           1,           1,           1,           1,           1,           1,           1,           1,           1,           1,           1,           1,           1,           1,           1,           1,           1,           1,           1,\n",
       "                  1,           1,           1,           1,           1,           1,           1,           1,           1,           1,           1,           1,           1,           1,           1,           1,           1,           1,           1,           1,           1,           1,           1,\n",
       "                  1,           1,           1,           1,           1,           1,           1,           1,           1,           1,           1,           1,           1,           1,           1,           1,           1,           1,           1,           1,           1,           1,           1,\n",
       "                  1,           1,           1,           1,           1,           1,           1,           1,           1,           1,           1,           1,           1,           1,           1,           1,           1,           1,           1,           1,           1,           1,           1,\n",
       "                  1,           1,           1,           1,           1,           1,           1,           1,           1,           1,           1,           1,           1,           1,           1,           1,           1,           1,           1,           1,           1,           1,           1,\n",
       "                  1,           1,           1,           1,           1,           1,           1,           1,           1,           1,           1,           1,           1,           1,           1,           1,           1,           1,           1,           1,           1,           1,           1,\n",
       "                  1,           1,           1,           1,           1,           1,           1,           1,     0.98795,     0.98795,     0.98795,     0.98795,     0.98795,     0.98795,     0.98795,     0.98795,     0.98795,     0.98795,     0.98795,     0.98795,     0.98795,     0.98795,     0.98795,\n",
       "            0.98795,     0.98795,     0.98795,     0.98795,     0.98795,     0.98795,     0.98795,     0.98795,     0.98795,     0.98795,     0.98795,     0.98795,     0.98795,     0.98795,     0.98795,     0.98795,     0.98795,     0.98795,     0.98795,     0.98795,     0.98795,     0.98795,     0.98795,\n",
       "            0.98795,     0.98795,     0.98795,     0.98795,     0.98795,     0.98795,     0.98795,     0.98795,     0.98795,     0.98795,     0.98795,     0.98795,     0.98795,     0.98795,     0.98795,     0.98795,     0.98795,     0.98795,     0.98795,     0.98795,     0.98795,     0.98795,     0.98795,\n",
       "            0.98795,     0.98795,     0.98795,     0.98795,     0.98795,     0.98795,     0.98795,     0.98795,     0.98795,     0.98795,     0.98795,     0.98795,     0.98795,     0.98795,     0.98795,     0.98795,     0.98795,     0.98795,     0.98795,     0.98795,     0.98795,     0.98795,     0.98795,\n",
       "            0.98795,     0.98795,     0.98795,     0.98795,     0.98795,     0.98795,     0.98795,     0.98795,     0.98795,     0.98795,     0.98795,     0.98795,     0.98795,     0.98795,     0.98795,     0.98795,     0.98795,     0.98795,     0.98795,     0.98795,     0.98795,     0.98795,     0.98795,\n",
       "            0.98795,     0.98795,     0.98795,     0.98795,     0.98795,     0.98795,     0.98795,     0.98795,     0.98795,     0.98795,     0.98795,     0.98795,     0.98795,     0.98795,     0.98795,     0.98795,     0.98795,     0.98795,     0.98795,     0.98795,     0.98795,     0.98795,     0.98795,\n",
       "            0.98795,     0.98795,     0.98795,     0.98795,     0.98795,     0.98795,     0.98795,     0.98795,     0.98795,     0.97872,     0.97872,     0.97872,     0.97872,     0.97872,     0.97872,     0.97872,     0.97872,     0.97872,     0.97872,     0.97872,     0.97872,     0.97872,     0.97872,\n",
       "            0.97872,     0.97872,     0.97872,     0.97872,     0.97872,     0.97872,     0.97872,     0.97872,     0.97872,     0.97872,     0.97872,     0.97872,     0.97872,     0.97872,     0.97872,     0.97872,     0.97872,     0.97872,     0.97872,     0.97872,     0.97872,     0.97391,     0.97391,\n",
       "            0.97391,     0.97391,     0.97391,     0.97391,     0.97391,     0.97391,     0.97391,     0.97391,     0.97391,     0.97391,     0.97391,     0.97391,     0.97391,     0.97391,     0.97391,     0.97391,     0.97391,     0.97391,     0.97391,     0.97391,     0.97391,     0.97391,     0.97391,\n",
       "            0.97391,     0.97391,     0.97391,     0.97391,     0.97391,     0.97391,     0.97391,     0.97391,     0.97391,     0.97391,     0.97391,     0.97391,     0.97391,     0.97391,     0.97391,     0.97391,     0.97391,     0.97391,     0.97391,     0.97391,     0.97391,     0.97391,     0.97391,\n",
       "            0.97391,     0.97391,     0.97391,     0.97391,     0.97391,     0.97391,     0.97391,     0.97391,     0.97391,     0.97391,     0.97391,     0.97391,     0.97391,     0.97391,     0.97391,     0.97391,     0.97391,     0.97391,     0.97391,     0.97391,     0.97391,     0.96581,     0.96581,\n",
       "            0.96581,     0.95798,     0.95798,     0.95798,     0.95798,      0.9542,      0.9542,      0.9542,      0.9542,      0.9542,      0.9542,      0.9542,      0.9542,      0.9542,      0.9542,      0.9542,      0.9542,      0.9542,      0.9542,      0.9542,      0.9542,      0.9542,      0.9542,\n",
       "             0.9542,      0.9542,      0.9542,      0.9542,      0.9542,      0.9542,      0.9542,      0.9542,      0.9542,      0.9542,      0.9542,      0.9542,      0.9542,      0.9542,      0.9542,      0.9542,      0.9542,      0.9542,      0.9542,      0.9542,     0.94815,     0.94815,     0.94815,\n",
       "            0.94815,     0.94815,     0.94815,     0.94815,     0.94815,     0.94815,     0.94815,     0.94203,     0.94203,     0.94203,     0.94203,     0.94203,     0.94203,     0.94203,     0.93793,     0.93793,     0.93793,     0.93793,     0.93793,     0.93793,     0.93793,     0.93793,     0.93793,\n",
       "            0.93793,     0.93793,     0.93793,     0.93793,     0.93793,     0.93793,     0.93793,     0.93793,     0.93793,     0.93793,     0.93793,     0.93793,     0.93452,     0.93452,     0.93452,     0.93452,     0.93452,     0.93452,     0.93452,     0.93452,     0.93452,     0.93452,     0.93452,\n",
       "            0.93452,     0.93452,     0.93452,     0.93452,     0.93452,     0.93452,     0.93452,     0.93452,     0.93452,     0.93452,     0.93452,     0.93452,     0.93452,     0.93452,     0.93452,     0.93452,     0.93452,     0.93452,     0.93452,     0.93452,     0.93452,     0.93452,     0.93452,\n",
       "            0.93452,     0.93452,     0.93452,     0.93452,     0.93452,     0.93452,     0.93452,     0.93452,     0.93452,     0.93452,     0.93452,     0.93452,     0.93452,     0.93452,     0.93452,     0.93452,     0.93452,     0.93452,     0.93452,     0.93452,     0.93452,     0.93452,     0.93452,\n",
       "            0.93452,     0.93452,     0.93452,     0.93452,     0.93452,     0.93452,     0.93452,     0.93452,     0.93452,     0.93452,     0.93452,     0.93452,     0.93452,     0.93452,     0.93452,     0.93452,     0.92571,     0.92571,     0.92571,     0.92571,     0.92571,     0.92571,     0.92571,\n",
       "            0.92571,     0.92571,     0.92571,     0.92571,     0.92571,     0.92571,     0.92571,     0.92571,     0.92571,     0.92571,      0.9209,      0.9209,      0.9209,      0.9209,     0.91111,     0.91111,     0.91111,      0.9071,      0.9071,      0.9071,      0.9071,      0.9071,      0.9071,\n",
       "             0.9071,     0.90155,     0.90155,     0.90155,     0.90155,     0.90155,     0.90155,     0.90155,     0.90155,     0.90155,     0.90155,     0.90155,     0.90155,     0.90155,     0.90155,     0.90155,     0.90155,     0.90155,     0.90155,     0.90155,     0.90155,     0.90155,     0.90155,\n",
       "            0.90155,     0.90155,     0.90155,     0.90155,     0.90155,     0.90155,     0.89796,     0.89796,     0.89796,     0.89796,     0.89796,     0.89796,     0.89796,     0.89394,     0.89394,     0.89394,     0.89163,     0.89163,     0.89163,     0.89163,     0.89163,     0.89163,     0.89163,\n",
       "            0.89163,     0.89163,     0.89163,     0.89163,     0.89163,     0.89163,     0.89163,     0.87081,     0.87081,     0.87081,     0.87081,     0.86792,     0.86792,     0.86792,     0.86792,     0.86792,     0.86792,     0.86792,     0.85648,     0.85648,     0.85648,     0.84163,     0.84163,\n",
       "            0.84163,     0.84163,     0.82743,     0.82743,     0.82743,     0.82456,     0.82456,     0.82456,     0.82456,     0.79747,     0.79747,     0.79747,     0.79253,     0.79253,     0.79253,     0.79253,     0.79253,     0.79253,     0.79253,     0.79098,     0.79098,     0.79098,     0.79098,\n",
       "            0.79098,     0.79098,     0.79098,     0.78862,     0.78862,     0.78862,     0.78629,     0.78629,     0.78629,     0.78629,     0.77778,     0.77778,     0.77778,     0.77559,     0.77559,     0.77559,     0.77559,     0.76744,     0.76744,     0.76744,     0.75954,     0.75954,     0.75954,\n",
       "            0.75954,     0.75758,     0.75758,     0.75758,     0.75373,     0.75373,     0.75373,     0.75373,     0.75373,     0.75373,     0.75373,     0.74908,     0.74908,     0.74908,     0.74908,     0.73646,     0.73646,     0.73646,     0.73214,     0.73214,     0.73214,     0.73214,     0.71528,\n",
       "            0.71528,     0.71528,     0.71233,     0.71233,     0.71233,     0.71233,     0.71233,     0.71233,     0.71233,     0.69435,     0.69435,     0.69435,     0.69307,     0.69307,     0.69307,     0.69307,      0.6918,      0.6918,      0.6918,     0.68167,     0.68167,     0.68167,     0.68167,\n",
       "            0.66771,     0.66771,     0.66771,     0.66049,     0.66049,     0.66049,     0.66049,     0.62865,     0.62865,     0.62865,     0.62791,     0.62791,     0.62791,     0.62791,     0.61823,     0.61823,     0.61823,     0.61345,     0.61345,     0.61345,     0.61345,     0.61345,     0.61345,\n",
       "            0.61345,     0.58201,     0.58201,     0.58201,     0.58201,     0.56522,     0.56522,     0.56522,     0.55224,     0.55224,     0.55224,     0.55224,     0.45885,     0.45885,     0.45885,     0.43495,     0.43495,     0.43495,     0.43436,     0.43436,     0.43436,     0.43436,     0.31876,\n",
       "            0.31876,     0.31876,     0.30831,     0.30831,     0.30831,     0.30831,     0.30831,     0.30831,     0.30831,     0.30831,     0.30831,     0.30831,     0.30831,     0.30831,     0.30831,     0.30831,     0.30677,     0.30677,     0.30677,     0.30677,     0.29161,     0.29161,     0.29161,\n",
       "            0.29161,     0.29161,     0.29161,     0.29161,     0.26712,     0.26712,     0.26712,     0.24868,     0.24868,     0.24868,     0.24868,     0.24868,     0.24868,     0.24868,     0.24134,     0.24134,     0.24134,     0.24134,      0.2322,      0.2322,      0.2322,     0.22462,     0.22462,\n",
       "            0.22462,     0.22462,     0.20687,     0.20687,     0.20687,     0.20687,     0.20687,     0.20687,     0.19659,     0.19659,     0.19659,     0.19659,     0.19316,     0.19316,     0.19316,     0.19137,     0.19137,     0.19137,     0.19137,     0.18919,     0.18919,     0.18919,     0.17012,\n",
       "            0.17012,     0.17012,     0.17012,     0.16814,     0.16814,     0.16814,     0.16814,     0.16814,     0.16814,     0.16814,     0.14946,     0.14946,     0.14946,     0.14213,     0.14213,     0.14213,     0.14213,     0.13944,     0.13944,     0.13944,     0.13907,     0.13907,     0.13907,\n",
       "            0.13907,     0.13443,     0.13443,     0.13443,     0.12713,     0.12713,     0.12713,     0.12713,     0.12266,     0.12266,     0.12266,     0.12202,     0.12202,     0.12202,     0.12043,     0.12043,     0.12043,     0.12043,     0.11441,     0.11441,     0.11441,      0.1073,     0.10627,\n",
       "            0.10524,     0.10421,     0.10317,     0.10214,     0.10111,     0.10008,    0.099047,    0.098016,    0.096984,    0.095952,     0.09492,    0.093889,    0.092857,    0.091825,    0.090793,    0.089762,     0.08873,    0.087698,    0.086666,    0.085635,    0.084603,    0.083571,    0.082539,\n",
       "           0.081508,    0.080476,    0.079444,    0.078412,    0.077381,    0.076349,    0.075317,    0.074286,    0.073254,    0.072222,     0.07119,    0.070159,    0.069127,    0.068095,    0.067063,    0.066032,       0.065,    0.063968,    0.062936,    0.061905,    0.060873,    0.059841,    0.058809,\n",
       "           0.057778,    0.056746,    0.055714,    0.054682,    0.053651,    0.052619,    0.051587,    0.050555,    0.049524,    0.048492,     0.04746,    0.046428,    0.045397,    0.044365,    0.043333,    0.042301,     0.04127,    0.040238,    0.039206,    0.038175,    0.037143,    0.036111,    0.035079,\n",
       "           0.034048,    0.033016,    0.031984,    0.030952,    0.029921,    0.028889,    0.027857,    0.026825,    0.025794,    0.024762,     0.02373,    0.022698,    0.021667,    0.020635,    0.019603,    0.018571,     0.01754,    0.016508,    0.015476,    0.014444,    0.013413,    0.012381,    0.011349,\n",
       "           0.010317,   0.0092857,   0.0082539,   0.0072222,   0.0061905,   0.0051587,    0.004127,   0.0030952,   0.0020635,   0.0010317,           0]]), 'Recall', 'Precision'], [array([          0,    0.001001,    0.002002,    0.003003,    0.004004,    0.005005,    0.006006,    0.007007,    0.008008,    0.009009,     0.01001,    0.011011,    0.012012,    0.013013,    0.014014,    0.015015,    0.016016,    0.017017,    0.018018,    0.019019,     0.02002,    0.021021,    0.022022,    0.023023,\n",
       "          0.024024,    0.025025,    0.026026,    0.027027,    0.028028,    0.029029,     0.03003,    0.031031,    0.032032,    0.033033,    0.034034,    0.035035,    0.036036,    0.037037,    0.038038,    0.039039,     0.04004,    0.041041,    0.042042,    0.043043,    0.044044,    0.045045,    0.046046,    0.047047,\n",
       "          0.048048,    0.049049,     0.05005,    0.051051,    0.052052,    0.053053,    0.054054,    0.055055,    0.056056,    0.057057,    0.058058,    0.059059,     0.06006,    0.061061,    0.062062,    0.063063,    0.064064,    0.065065,    0.066066,    0.067067,    0.068068,    0.069069,     0.07007,    0.071071,\n",
       "          0.072072,    0.073073,    0.074074,    0.075075,    0.076076,    0.077077,    0.078078,    0.079079,     0.08008,    0.081081,    0.082082,    0.083083,    0.084084,    0.085085,    0.086086,    0.087087,    0.088088,    0.089089,     0.09009,    0.091091,    0.092092,    0.093093,    0.094094,    0.095095,\n",
       "          0.096096,    0.097097,    0.098098,    0.099099,      0.1001,      0.1011,      0.1021,      0.1031,      0.1041,     0.10511,     0.10611,     0.10711,     0.10811,     0.10911,     0.11011,     0.11111,     0.11211,     0.11311,     0.11411,     0.11512,     0.11612,     0.11712,     0.11812,     0.11912,\n",
       "           0.12012,     0.12112,     0.12212,     0.12312,     0.12412,     0.12513,     0.12613,     0.12713,     0.12813,     0.12913,     0.13013,     0.13113,     0.13213,     0.13313,     0.13413,     0.13514,     0.13614,     0.13714,     0.13814,     0.13914,     0.14014,     0.14114,     0.14214,     0.14314,\n",
       "           0.14414,     0.14515,     0.14615,     0.14715,     0.14815,     0.14915,     0.15015,     0.15115,     0.15215,     0.15315,     0.15415,     0.15516,     0.15616,     0.15716,     0.15816,     0.15916,     0.16016,     0.16116,     0.16216,     0.16316,     0.16416,     0.16517,     0.16617,     0.16717,\n",
       "           0.16817,     0.16917,     0.17017,     0.17117,     0.17217,     0.17317,     0.17417,     0.17518,     0.17618,     0.17718,     0.17818,     0.17918,     0.18018,     0.18118,     0.18218,     0.18318,     0.18418,     0.18519,     0.18619,     0.18719,     0.18819,     0.18919,     0.19019,     0.19119,\n",
       "           0.19219,     0.19319,     0.19419,      0.1952,      0.1962,      0.1972,      0.1982,      0.1992,      0.2002,      0.2012,      0.2022,      0.2032,      0.2042,     0.20521,     0.20621,     0.20721,     0.20821,     0.20921,     0.21021,     0.21121,     0.21221,     0.21321,     0.21421,     0.21522,\n",
       "           0.21622,     0.21722,     0.21822,     0.21922,     0.22022,     0.22122,     0.22222,     0.22322,     0.22422,     0.22523,     0.22623,     0.22723,     0.22823,     0.22923,     0.23023,     0.23123,     0.23223,     0.23323,     0.23423,     0.23524,     0.23624,     0.23724,     0.23824,     0.23924,\n",
       "           0.24024,     0.24124,     0.24224,     0.24324,     0.24424,     0.24525,     0.24625,     0.24725,     0.24825,     0.24925,     0.25025,     0.25125,     0.25225,     0.25325,     0.25425,     0.25526,     0.25626,     0.25726,     0.25826,     0.25926,     0.26026,     0.26126,     0.26226,     0.26326,\n",
       "           0.26426,     0.26527,     0.26627,     0.26727,     0.26827,     0.26927,     0.27027,     0.27127,     0.27227,     0.27327,     0.27427,     0.27528,     0.27628,     0.27728,     0.27828,     0.27928,     0.28028,     0.28128,     0.28228,     0.28328,     0.28428,     0.28529,     0.28629,     0.28729,\n",
       "           0.28829,     0.28929,     0.29029,     0.29129,     0.29229,     0.29329,     0.29429,      0.2953,      0.2963,      0.2973,      0.2983,      0.2993,      0.3003,      0.3013,      0.3023,      0.3033,      0.3043,     0.30531,     0.30631,     0.30731,     0.30831,     0.30931,     0.31031,     0.31131,\n",
       "           0.31231,     0.31331,     0.31431,     0.31532,     0.31632,     0.31732,     0.31832,     0.31932,     0.32032,     0.32132,     0.32232,     0.32332,     0.32432,     0.32533,     0.32633,     0.32733,     0.32833,     0.32933,     0.33033,     0.33133,     0.33233,     0.33333,     0.33433,     0.33534,\n",
       "           0.33634,     0.33734,     0.33834,     0.33934,     0.34034,     0.34134,     0.34234,     0.34334,     0.34434,     0.34535,     0.34635,     0.34735,     0.34835,     0.34935,     0.35035,     0.35135,     0.35235,     0.35335,     0.35435,     0.35536,     0.35636,     0.35736,     0.35836,     0.35936,\n",
       "           0.36036,     0.36136,     0.36236,     0.36336,     0.36436,     0.36537,     0.36637,     0.36737,     0.36837,     0.36937,     0.37037,     0.37137,     0.37237,     0.37337,     0.37437,     0.37538,     0.37638,     0.37738,     0.37838,     0.37938,     0.38038,     0.38138,     0.38238,     0.38338,\n",
       "           0.38438,     0.38539,     0.38639,     0.38739,     0.38839,     0.38939,     0.39039,     0.39139,     0.39239,     0.39339,     0.39439,      0.3954,      0.3964,      0.3974,      0.3984,      0.3994,      0.4004,      0.4014,      0.4024,      0.4034,      0.4044,     0.40541,     0.40641,     0.40741,\n",
       "           0.40841,     0.40941,     0.41041,     0.41141,     0.41241,     0.41341,     0.41441,     0.41542,     0.41642,     0.41742,     0.41842,     0.41942,     0.42042,     0.42142,     0.42242,     0.42342,     0.42442,     0.42543,     0.42643,     0.42743,     0.42843,     0.42943,     0.43043,     0.43143,\n",
       "           0.43243,     0.43343,     0.43443,     0.43544,     0.43644,     0.43744,     0.43844,     0.43944,     0.44044,     0.44144,     0.44244,     0.44344,     0.44444,     0.44545,     0.44645,     0.44745,     0.44845,     0.44945,     0.45045,     0.45145,     0.45245,     0.45345,     0.45445,     0.45546,\n",
       "           0.45646,     0.45746,     0.45846,     0.45946,     0.46046,     0.46146,     0.46246,     0.46346,     0.46446,     0.46547,     0.46647,     0.46747,     0.46847,     0.46947,     0.47047,     0.47147,     0.47247,     0.47347,     0.47447,     0.47548,     0.47648,     0.47748,     0.47848,     0.47948,\n",
       "           0.48048,     0.48148,     0.48248,     0.48348,     0.48448,     0.48549,     0.48649,     0.48749,     0.48849,     0.48949,     0.49049,     0.49149,     0.49249,     0.49349,     0.49449,      0.4955,      0.4965,      0.4975,      0.4985,      0.4995,      0.5005,      0.5015,      0.5025,      0.5035,\n",
       "            0.5045,     0.50551,     0.50651,     0.50751,     0.50851,     0.50951,     0.51051,     0.51151,     0.51251,     0.51351,     0.51451,     0.51552,     0.51652,     0.51752,     0.51852,     0.51952,     0.52052,     0.52152,     0.52252,     0.52352,     0.52452,     0.52553,     0.52653,     0.52753,\n",
       "           0.52853,     0.52953,     0.53053,     0.53153,     0.53253,     0.53353,     0.53453,     0.53554,     0.53654,     0.53754,     0.53854,     0.53954,     0.54054,     0.54154,     0.54254,     0.54354,     0.54454,     0.54555,     0.54655,     0.54755,     0.54855,     0.54955,     0.55055,     0.55155,\n",
       "           0.55255,     0.55355,     0.55455,     0.55556,     0.55656,     0.55756,     0.55856,     0.55956,     0.56056,     0.56156,     0.56256,     0.56356,     0.56456,     0.56557,     0.56657,     0.56757,     0.56857,     0.56957,     0.57057,     0.57157,     0.57257,     0.57357,     0.57457,     0.57558,\n",
       "           0.57658,     0.57758,     0.57858,     0.57958,     0.58058,     0.58158,     0.58258,     0.58358,     0.58458,     0.58559,     0.58659,     0.58759,     0.58859,     0.58959,     0.59059,     0.59159,     0.59259,     0.59359,     0.59459,      0.5956,      0.5966,      0.5976,      0.5986,      0.5996,\n",
       "            0.6006,      0.6016,      0.6026,      0.6036,      0.6046,     0.60561,     0.60661,     0.60761,     0.60861,     0.60961,     0.61061,     0.61161,     0.61261,     0.61361,     0.61461,     0.61562,     0.61662,     0.61762,     0.61862,     0.61962,     0.62062,     0.62162,     0.62262,     0.62362,\n",
       "           0.62462,     0.62563,     0.62663,     0.62763,     0.62863,     0.62963,     0.63063,     0.63163,     0.63263,     0.63363,     0.63463,     0.63564,     0.63664,     0.63764,     0.63864,     0.63964,     0.64064,     0.64164,     0.64264,     0.64364,     0.64464,     0.64565,     0.64665,     0.64765,\n",
       "           0.64865,     0.64965,     0.65065,     0.65165,     0.65265,     0.65365,     0.65465,     0.65566,     0.65666,     0.65766,     0.65866,     0.65966,     0.66066,     0.66166,     0.66266,     0.66366,     0.66466,     0.66567,     0.66667,     0.66767,     0.66867,     0.66967,     0.67067,     0.67167,\n",
       "           0.67267,     0.67367,     0.67467,     0.67568,     0.67668,     0.67768,     0.67868,     0.67968,     0.68068,     0.68168,     0.68268,     0.68368,     0.68468,     0.68569,     0.68669,     0.68769,     0.68869,     0.68969,     0.69069,     0.69169,     0.69269,     0.69369,     0.69469,      0.6957,\n",
       "            0.6967,      0.6977,      0.6987,      0.6997,      0.7007,      0.7017,      0.7027,      0.7037,      0.7047,     0.70571,     0.70671,     0.70771,     0.70871,     0.70971,     0.71071,     0.71171,     0.71271,     0.71371,     0.71471,     0.71572,     0.71672,     0.71772,     0.71872,     0.71972,\n",
       "           0.72072,     0.72172,     0.72272,     0.72372,     0.72472,     0.72573,     0.72673,     0.72773,     0.72873,     0.72973,     0.73073,     0.73173,     0.73273,     0.73373,     0.73473,     0.73574,     0.73674,     0.73774,     0.73874,     0.73974,     0.74074,     0.74174,     0.74274,     0.74374,\n",
       "           0.74474,     0.74575,     0.74675,     0.74775,     0.74875,     0.74975,     0.75075,     0.75175,     0.75275,     0.75375,     0.75475,     0.75576,     0.75676,     0.75776,     0.75876,     0.75976,     0.76076,     0.76176,     0.76276,     0.76376,     0.76476,     0.76577,     0.76677,     0.76777,\n",
       "           0.76877,     0.76977,     0.77077,     0.77177,     0.77277,     0.77377,     0.77477,     0.77578,     0.77678,     0.77778,     0.77878,     0.77978,     0.78078,     0.78178,     0.78278,     0.78378,     0.78478,     0.78579,     0.78679,     0.78779,     0.78879,     0.78979,     0.79079,     0.79179,\n",
       "           0.79279,     0.79379,     0.79479,      0.7958,      0.7968,      0.7978,      0.7988,      0.7998,      0.8008,      0.8018,      0.8028,      0.8038,      0.8048,     0.80581,     0.80681,     0.80781,     0.80881,     0.80981,     0.81081,     0.81181,     0.81281,     0.81381,     0.81481,     0.81582,\n",
       "           0.81682,     0.81782,     0.81882,     0.81982,     0.82082,     0.82182,     0.82282,     0.82382,     0.82482,     0.82583,     0.82683,     0.82783,     0.82883,     0.82983,     0.83083,     0.83183,     0.83283,     0.83383,     0.83483,     0.83584,     0.83684,     0.83784,     0.83884,     0.83984,\n",
       "           0.84084,     0.84184,     0.84284,     0.84384,     0.84484,     0.84585,     0.84685,     0.84785,     0.84885,     0.84985,     0.85085,     0.85185,     0.85285,     0.85385,     0.85485,     0.85586,     0.85686,     0.85786,     0.85886,     0.85986,     0.86086,     0.86186,     0.86286,     0.86386,\n",
       "           0.86486,     0.86587,     0.86687,     0.86787,     0.86887,     0.86987,     0.87087,     0.87187,     0.87287,     0.87387,     0.87487,     0.87588,     0.87688,     0.87788,     0.87888,     0.87988,     0.88088,     0.88188,     0.88288,     0.88388,     0.88488,     0.88589,     0.88689,     0.88789,\n",
       "           0.88889,     0.88989,     0.89089,     0.89189,     0.89289,     0.89389,     0.89489,      0.8959,      0.8969,      0.8979,      0.8989,      0.8999,      0.9009,      0.9019,      0.9029,      0.9039,      0.9049,     0.90591,     0.90691,     0.90791,     0.90891,     0.90991,     0.91091,     0.91191,\n",
       "           0.91291,     0.91391,     0.91491,     0.91592,     0.91692,     0.91792,     0.91892,     0.91992,     0.92092,     0.92192,     0.92292,     0.92392,     0.92492,     0.92593,     0.92693,     0.92793,     0.92893,     0.92993,     0.93093,     0.93193,     0.93293,     0.93393,     0.93493,     0.93594,\n",
       "           0.93694,     0.93794,     0.93894,     0.93994,     0.94094,     0.94194,     0.94294,     0.94394,     0.94494,     0.94595,     0.94695,     0.94795,     0.94895,     0.94995,     0.95095,     0.95195,     0.95295,     0.95395,     0.95495,     0.95596,     0.95696,     0.95796,     0.95896,     0.95996,\n",
       "           0.96096,     0.96196,     0.96296,     0.96396,     0.96496,     0.96597,     0.96697,     0.96797,     0.96897,     0.96997,     0.97097,     0.97197,     0.97297,     0.97397,     0.97497,     0.97598,     0.97698,     0.97798,     0.97898,     0.97998,     0.98098,     0.98198,     0.98298,     0.98398,\n",
       "           0.98498,     0.98599,     0.98699,     0.98799,     0.98899,     0.98999,     0.99099,     0.99199,     0.99299,     0.99399,     0.99499,       0.996,       0.997,       0.998,       0.999,           1]), array([[    0.19175,     0.19175,     0.25349,     0.29942,     0.33126,     0.36144,      0.3801,     0.40364,     0.42281,     0.43768,     0.44261,     0.45307,     0.46329,     0.47277,      0.4848,     0.49397,       0.508,     0.51386,     0.52228,      0.5321,     0.53954,     0.54432,     0.54863,\n",
       "            0.55154,     0.55684,      0.5634,     0.56771,      0.5738,     0.57781,     0.58257,     0.58485,     0.58809,     0.58963,     0.59412,     0.59718,      0.5991,     0.60302,      0.6064,     0.60917,     0.61418,     0.61854,     0.61909,     0.62138,     0.62534,     0.62842,     0.63219,\n",
       "            0.63644,     0.63851,     0.64044,     0.64359,     0.64871,     0.65078,     0.65182,     0.65553,     0.65842,      0.6606,     0.65924,     0.66035,     0.66205,      0.6636,     0.66813,     0.66976,     0.67188,     0.67322,     0.67574,     0.67688,     0.67738,     0.67622,     0.67683,\n",
       "            0.67878,     0.67753,      0.6799,     0.68187,     0.68324,      0.6823,     0.68194,     0.68119,     0.68195,     0.68256,     0.68762,     0.68822,     0.68837,     0.68852,     0.68868,     0.68883,     0.68899,     0.68914,     0.69087,     0.69279,     0.69487,      0.6954,     0.69593,\n",
       "            0.69689,     0.69756,     0.69817,     0.69863,     0.69749,     0.69945,     0.70096,     0.69985,     0.70028,     0.70072,     0.70223,     0.70263,     0.70303,     0.70478,     0.70604,     0.70745,      0.7066,     0.70845,     0.70949,     0.71049,     0.71073,     0.71097,     0.71122,\n",
       "            0.71146,     0.71138,     0.71051,     0.70964,     0.71002,      0.7105,     0.70871,     0.70899,     0.70957,     0.70847,     0.70769,     0.70831,     0.70891,     0.70951,     0.71237,     0.71315,     0.71502,     0.71606,     0.71653,       0.717,     0.71558,     0.71303,     0.71332,\n",
       "            0.71362,     0.71391,      0.7141,     0.71419,     0.71429,     0.71439,     0.71449,     0.71459,     0.71469,     0.71479,     0.71489,     0.71499,     0.71509,     0.71518,     0.71523,     0.71441,     0.71359,     0.71336,     0.71433,     0.71563,     0.71615,     0.71667,     0.71827,\n",
       "            0.71882,     0.71935,     0.71975,     0.72014,     0.72054,     0.72081,     0.72107,     0.72133,      0.7216,     0.72141,     0.72158,      0.7216,     0.72092,     0.72023,     0.72008,     0.72058,     0.72107,     0.72153,     0.72198,      0.7225,     0.72417,     0.72506,     0.72615,\n",
       "            0.72543,      0.7247,     0.72408,     0.72535,     0.72566,     0.72597,     0.72629,      0.7266,     0.72614,     0.72563,     0.72512,     0.72461,     0.72355,     0.72257,     0.72397,     0.72459,     0.72425,      0.7239,     0.72355,      0.7232,     0.72286,     0.72251,     0.72247,\n",
       "            0.72278,     0.72309,      0.7234,     0.72359,     0.72338,     0.72317,     0.72296,     0.72275,     0.72254,     0.72233,     0.72212,     0.72191,      0.7217,      0.7215,     0.72157,     0.72332,      0.7242,     0.72467,     0.72513,     0.72506,     0.72474,     0.72442,      0.7241,\n",
       "            0.72378,     0.72346,     0.72314,     0.72333,     0.72562,     0.72574,     0.72586,     0.72599,     0.72611,     0.72624,     0.72636,     0.72648,     0.72661,     0.72673,     0.72685,     0.72656,     0.72538,     0.72538,     0.72535,     0.72461,     0.72387,     0.72409,     0.72493,\n",
       "             0.7252,     0.72546,     0.72573,       0.726,     0.72626,     0.72662,     0.72698,     0.72734,     0.72745,     0.72673,     0.72602,     0.72531,     0.72425,     0.72462,     0.72498,     0.72535,     0.72533,     0.72475,     0.72417,     0.72359,     0.72158,      0.7209,     0.72106,\n",
       "            0.72122,     0.72139,     0.72155,     0.72171,     0.72188,     0.72204,     0.72199,     0.72175,     0.72151,     0.72127,     0.72103,     0.72079,     0.72054,      0.7203,     0.72006,     0.71982,     0.71953,     0.71919,     0.71885,     0.71852,     0.71818,     0.71784,      0.7175,\n",
       "            0.71731,     0.71744,     0.71757,      0.7177,     0.71783,     0.71797,      0.7181,     0.71823,     0.71836,     0.71849,     0.71862,     0.71948,     0.71842,     0.71817,     0.71894,     0.71906,     0.71919,     0.71932,     0.71945,     0.71958,     0.71971,     0.71984,     0.71996,\n",
       "            0.72009,     0.72022,     0.72036,     0.72053,     0.72069,     0.72086,     0.72103,     0.72119,     0.72136,     0.72152,     0.72169,     0.72227,     0.72286,     0.72341,     0.72394,     0.72447,     0.72472,     0.72497,     0.72522,     0.72547,     0.72572,     0.72618,     0.72698,\n",
       "            0.72785,     0.72622,     0.72661,     0.72701,     0.72741,     0.72665,      0.7256,     0.72685,     0.72764,     0.72868,     0.72945,     0.72955,     0.72966,     0.72976,     0.72986,     0.72996,     0.73006,     0.73016,     0.73027,     0.73037,     0.73047,     0.73057,     0.73067,\n",
       "            0.73077,     0.73079,      0.7306,      0.7304,     0.73021,     0.73002,     0.72983,     0.72964,     0.72945,     0.72925,     0.72906,     0.72887,     0.72868,     0.72849,     0.72844,     0.72879,     0.72914,     0.72949,      0.7298,     0.72989,     0.72998,     0.73007,     0.73016,\n",
       "            0.73025,     0.73034,     0.73043,     0.73052,     0.73061,      0.7307,     0.73079,     0.73088,     0.73097,     0.73106,     0.73115,     0.73148,     0.73388,     0.73326,     0.73263,       0.732,     0.73167,     0.73181,     0.73196,     0.73211,     0.73225,      0.7324,     0.73255,\n",
       "            0.73269,     0.73284,     0.73298,     0.73316,     0.73338,      0.7336,     0.73381,     0.73403,     0.73425,     0.73446,     0.73476,      0.7351,     0.73544,     0.73577,     0.73586,     0.73545,     0.73503,     0.73462,      0.7342,     0.73379,     0.73337,     0.73297,     0.73257,\n",
       "            0.73216,     0.73176,     0.73135,     0.73095,     0.73118,     0.73145,     0.73172,       0.732,     0.73227,     0.73222,     0.73189,     0.73157,     0.73124,     0.73092,     0.73059,     0.73027,     0.72994,     0.72997,     0.73017,     0.73037,     0.73056,     0.73076,     0.73096,\n",
       "            0.73115,     0.73191,     0.73317,     0.73369,     0.73422,     0.73449,     0.73473,     0.73497,      0.7352,     0.73544,     0.73568,     0.73646,     0.73693,     0.73578,     0.73468,     0.73453,     0.73438,     0.73422,     0.73407,     0.73392,     0.73376,     0.73361,     0.73346,\n",
       "             0.7333,     0.73315,     0.73299,     0.73284,     0.73269,     0.73253,     0.73238,     0.73222,     0.73176,     0.73025,     0.72933,     0.72897,     0.72861,     0.72825,     0.72789,     0.72753,     0.72717,     0.72695,     0.72716,     0.72737,     0.72757,     0.72778,     0.72799,\n",
       "            0.72819,     0.72836,     0.72623,      0.7261,     0.72651,     0.72692,       0.727,     0.72523,     0.72391,      0.7228,     0.72221,     0.72301,     0.72332,     0.72291,     0.72249,     0.72207,     0.72165,     0.72123,     0.72056,     0.71757,      0.7165,     0.71543,     0.71432,\n",
       "            0.71321,     0.71196,     0.71062,     0.70818,     0.70305,     0.70339,      0.7036,     0.70381,     0.70402,     0.70424,     0.70445,     0.70466,     0.70487,     0.70451,     0.70411,     0.70371,      0.7033,      0.7029,      0.7025,     0.70205,     0.70118,     0.70032,     0.69945,\n",
       "            0.70036,     0.70043,     0.69968,     0.69892,     0.69817,     0.69856,     0.69911,     0.69978,       0.701,     0.69896,      0.6964,     0.69549,     0.69459,     0.69352,     0.69232,     0.68841,     0.68736,     0.68632,     0.68596,     0.68711,     0.68744,     0.68777,     0.68809,\n",
       "            0.68842,     0.68784,     0.68618,     0.68469,     0.68325,     0.67926,     0.67807,     0.67686,     0.67552,     0.67418,     0.67195,     0.67063,     0.66989,     0.66914,     0.66839,     0.66779,     0.66727,     0.66674,     0.66621,     0.66568,     0.66505,     0.66293,     0.66168,\n",
       "             0.6609,     0.66012,     0.65933,     0.65627,     0.65457,     0.65189,     0.64977,     0.64935,     0.64892,      0.6485,     0.64808,     0.64765,     0.64723,     0.64645,     0.64545,     0.64445,     0.64314,     0.64155,     0.63415,     0.63171,     0.63242,      0.6322,     0.62969,\n",
       "            0.62818,     0.62675,     0.62723,     0.62772,     0.62796,     0.62351,     0.61671,     0.61454,     0.61305,     0.61059,     0.60978,     0.60415,     0.60506,     0.60392,     0.60278,     0.59864,     0.59435,     0.58923,       0.588,     0.58677,     0.58612,     0.58562,     0.58511,\n",
       "             0.5846,     0.58409,     0.58358,      0.5796,     0.57844,     0.57729,     0.57461,     0.56895,     0.56772,     0.56649,     0.56393,     0.56114,     0.55913,      0.5601,      0.5592,      0.5583,      0.5574,     0.55775,     0.55539,     0.55472,     0.55513,     0.55553,     0.55038,\n",
       "            0.54238,     0.53724,     0.53443,     0.52956,      0.5274,     0.52386,     0.51993,     0.51206,     0.51006,     0.50839,     0.50386,     0.50337,     0.50288,     0.50239,      0.5019,     0.50141,     0.50092,     0.50042,     0.49484,     0.48117,      0.4758,     0.47266,     0.46969,\n",
       "            0.46678,     0.46455,      0.4628,     0.45626,     0.45229,     0.44989,     0.44811,     0.44658,     0.44505,     0.44151,     0.43933,     0.43728,     0.43643,     0.43558,     0.43472,     0.43387,     0.42409,     0.41995,     0.41811,     0.41282,     0.40788,     0.40019,     0.39036,\n",
       "            0.38731,     0.38463,     0.38217,     0.37837,     0.37446,        0.37,       0.364,     0.36158,     0.36005,     0.35852,     0.35541,     0.34655,     0.33437,     0.30667,     0.28655,     0.27387,     0.26579,       0.254,      0.2425,     0.24047,     0.23808,     0.23114,     0.22664,\n",
       "            0.22198,     0.22042,     0.21886,      0.2173,     0.21269,     0.20953,     0.20737,     0.20539,     0.20424,     0.20309,     0.20193,     0.20078,     0.19964,     0.19855,     0.19746,     0.19637,     0.19528,     0.19397,     0.19149,       0.189,     0.18769,     0.18655,     0.18541,\n",
       "            0.18427,     0.18313,      0.1807,     0.17803,     0.17533,     0.17261,     0.16849,     0.16472,     0.16274,     0.16075,     0.15772,     0.15356,     0.14845,     0.14661,     0.14515,     0.14369,     0.14223,     0.14007,     0.13774,     0.13539,     0.13298,     0.13056,     0.12631,\n",
       "             0.1227,     0.12051,     0.11832,     0.11215,     0.10953,     0.10739,     0.10526,     0.10422,     0.10318,     0.10214,      0.1011,     0.10006,    0.099016,    0.096549,    0.094067,    0.092299,    0.091387,    0.090475,    0.089561,    0.088646,    0.087731,    0.086815,    0.085378,\n",
       "           0.083466,    0.081551,    0.079862,    0.079141,    0.078419,    0.077698,    0.076975,    0.076252,    0.075528,    0.074804,     0.07408,    0.073346,    0.072593,     0.07184,    0.071086,    0.070332,    0.069577,    0.068821,    0.068065,    0.067308,     0.06687,    0.066542,    0.066213,\n",
       "           0.065885,    0.065556,    0.065228,    0.064899,     0.06457,    0.064241,    0.063912,    0.063583,    0.063254,    0.062924,    0.062595,    0.062265,    0.061935,    0.061605,    0.061275,    0.060945,    0.060615,    0.058045,    0.055407,    0.053947,    0.053728,    0.053508,    0.053289,\n",
       "           0.053069,     0.05285,     0.05263,    0.052411,    0.052191,    0.051971,    0.051752,    0.051532,    0.051312,    0.051092,    0.050872,    0.050652,    0.050432,    0.050212,    0.049992,    0.049772,    0.049552,    0.049331,    0.049111,    0.048891,     0.04867,     0.04845,    0.048229,\n",
       "           0.048008,    0.047788,    0.047567,    0.047296,    0.046975,    0.046653,    0.046332,     0.04601,    0.045689,    0.045367,    0.045045,    0.044723,    0.044401,    0.044079,    0.043757,    0.043435,    0.043112,     0.04279,    0.042467,    0.042144,    0.041821,    0.041498,    0.041175,\n",
       "           0.040852,    0.040202,    0.039512,    0.038821,     0.03813,    0.037438,    0.036745,    0.036053,    0.035359,    0.034665,    0.033998,    0.033419,    0.032841,    0.032262,    0.031682,    0.031103,    0.030523,    0.029942,    0.029362,     0.02878,    0.028199,    0.027617,    0.024523,\n",
       "           0.018219,    0.013639,    0.013422,    0.013205,    0.012988,    0.012771,    0.012554,    0.012337,     0.01212,    0.011903,    0.011685,    0.011468,    0.011251,    0.011033,    0.010816,    0.010598,    0.010381,    0.010163,   0.0099454,   0.0097277,   0.0095099,   0.0092921,   0.0090742,\n",
       "          0.0088563,   0.0086384,   0.0084204,   0.0082023,   0.0079842,   0.0077661,   0.0075479,   0.0073296,   0.0071114,           0,           0,           0,           0,           0,           0,           0,           0,           0,           0,           0,           0,           0,           0,\n",
       "                  0,           0,           0,           0,           0,           0,           0,           0,           0,           0,           0,           0,           0,           0,           0,           0,           0,           0,           0,           0,           0,           0,           0,\n",
       "                  0,           0,           0,           0,           0,           0,           0,           0,           0,           0,           0]]), 'Confidence', 'F1'], [array([          0,    0.001001,    0.002002,    0.003003,    0.004004,    0.005005,    0.006006,    0.007007,    0.008008,    0.009009,     0.01001,    0.011011,    0.012012,    0.013013,    0.014014,    0.015015,    0.016016,    0.017017,    0.018018,    0.019019,     0.02002,    0.021021,    0.022022,    0.023023,\n",
       "          0.024024,    0.025025,    0.026026,    0.027027,    0.028028,    0.029029,     0.03003,    0.031031,    0.032032,    0.033033,    0.034034,    0.035035,    0.036036,    0.037037,    0.038038,    0.039039,     0.04004,    0.041041,    0.042042,    0.043043,    0.044044,    0.045045,    0.046046,    0.047047,\n",
       "          0.048048,    0.049049,     0.05005,    0.051051,    0.052052,    0.053053,    0.054054,    0.055055,    0.056056,    0.057057,    0.058058,    0.059059,     0.06006,    0.061061,    0.062062,    0.063063,    0.064064,    0.065065,    0.066066,    0.067067,    0.068068,    0.069069,     0.07007,    0.071071,\n",
       "          0.072072,    0.073073,    0.074074,    0.075075,    0.076076,    0.077077,    0.078078,    0.079079,     0.08008,    0.081081,    0.082082,    0.083083,    0.084084,    0.085085,    0.086086,    0.087087,    0.088088,    0.089089,     0.09009,    0.091091,    0.092092,    0.093093,    0.094094,    0.095095,\n",
       "          0.096096,    0.097097,    0.098098,    0.099099,      0.1001,      0.1011,      0.1021,      0.1031,      0.1041,     0.10511,     0.10611,     0.10711,     0.10811,     0.10911,     0.11011,     0.11111,     0.11211,     0.11311,     0.11411,     0.11512,     0.11612,     0.11712,     0.11812,     0.11912,\n",
       "           0.12012,     0.12112,     0.12212,     0.12312,     0.12412,     0.12513,     0.12613,     0.12713,     0.12813,     0.12913,     0.13013,     0.13113,     0.13213,     0.13313,     0.13413,     0.13514,     0.13614,     0.13714,     0.13814,     0.13914,     0.14014,     0.14114,     0.14214,     0.14314,\n",
       "           0.14414,     0.14515,     0.14615,     0.14715,     0.14815,     0.14915,     0.15015,     0.15115,     0.15215,     0.15315,     0.15415,     0.15516,     0.15616,     0.15716,     0.15816,     0.15916,     0.16016,     0.16116,     0.16216,     0.16316,     0.16416,     0.16517,     0.16617,     0.16717,\n",
       "           0.16817,     0.16917,     0.17017,     0.17117,     0.17217,     0.17317,     0.17417,     0.17518,     0.17618,     0.17718,     0.17818,     0.17918,     0.18018,     0.18118,     0.18218,     0.18318,     0.18418,     0.18519,     0.18619,     0.18719,     0.18819,     0.18919,     0.19019,     0.19119,\n",
       "           0.19219,     0.19319,     0.19419,      0.1952,      0.1962,      0.1972,      0.1982,      0.1992,      0.2002,      0.2012,      0.2022,      0.2032,      0.2042,     0.20521,     0.20621,     0.20721,     0.20821,     0.20921,     0.21021,     0.21121,     0.21221,     0.21321,     0.21421,     0.21522,\n",
       "           0.21622,     0.21722,     0.21822,     0.21922,     0.22022,     0.22122,     0.22222,     0.22322,     0.22422,     0.22523,     0.22623,     0.22723,     0.22823,     0.22923,     0.23023,     0.23123,     0.23223,     0.23323,     0.23423,     0.23524,     0.23624,     0.23724,     0.23824,     0.23924,\n",
       "           0.24024,     0.24124,     0.24224,     0.24324,     0.24424,     0.24525,     0.24625,     0.24725,     0.24825,     0.24925,     0.25025,     0.25125,     0.25225,     0.25325,     0.25425,     0.25526,     0.25626,     0.25726,     0.25826,     0.25926,     0.26026,     0.26126,     0.26226,     0.26326,\n",
       "           0.26426,     0.26527,     0.26627,     0.26727,     0.26827,     0.26927,     0.27027,     0.27127,     0.27227,     0.27327,     0.27427,     0.27528,     0.27628,     0.27728,     0.27828,     0.27928,     0.28028,     0.28128,     0.28228,     0.28328,     0.28428,     0.28529,     0.28629,     0.28729,\n",
       "           0.28829,     0.28929,     0.29029,     0.29129,     0.29229,     0.29329,     0.29429,      0.2953,      0.2963,      0.2973,      0.2983,      0.2993,      0.3003,      0.3013,      0.3023,      0.3033,      0.3043,     0.30531,     0.30631,     0.30731,     0.30831,     0.30931,     0.31031,     0.31131,\n",
       "           0.31231,     0.31331,     0.31431,     0.31532,     0.31632,     0.31732,     0.31832,     0.31932,     0.32032,     0.32132,     0.32232,     0.32332,     0.32432,     0.32533,     0.32633,     0.32733,     0.32833,     0.32933,     0.33033,     0.33133,     0.33233,     0.33333,     0.33433,     0.33534,\n",
       "           0.33634,     0.33734,     0.33834,     0.33934,     0.34034,     0.34134,     0.34234,     0.34334,     0.34434,     0.34535,     0.34635,     0.34735,     0.34835,     0.34935,     0.35035,     0.35135,     0.35235,     0.35335,     0.35435,     0.35536,     0.35636,     0.35736,     0.35836,     0.35936,\n",
       "           0.36036,     0.36136,     0.36236,     0.36336,     0.36436,     0.36537,     0.36637,     0.36737,     0.36837,     0.36937,     0.37037,     0.37137,     0.37237,     0.37337,     0.37437,     0.37538,     0.37638,     0.37738,     0.37838,     0.37938,     0.38038,     0.38138,     0.38238,     0.38338,\n",
       "           0.38438,     0.38539,     0.38639,     0.38739,     0.38839,     0.38939,     0.39039,     0.39139,     0.39239,     0.39339,     0.39439,      0.3954,      0.3964,      0.3974,      0.3984,      0.3994,      0.4004,      0.4014,      0.4024,      0.4034,      0.4044,     0.40541,     0.40641,     0.40741,\n",
       "           0.40841,     0.40941,     0.41041,     0.41141,     0.41241,     0.41341,     0.41441,     0.41542,     0.41642,     0.41742,     0.41842,     0.41942,     0.42042,     0.42142,     0.42242,     0.42342,     0.42442,     0.42543,     0.42643,     0.42743,     0.42843,     0.42943,     0.43043,     0.43143,\n",
       "           0.43243,     0.43343,     0.43443,     0.43544,     0.43644,     0.43744,     0.43844,     0.43944,     0.44044,     0.44144,     0.44244,     0.44344,     0.44444,     0.44545,     0.44645,     0.44745,     0.44845,     0.44945,     0.45045,     0.45145,     0.45245,     0.45345,     0.45445,     0.45546,\n",
       "           0.45646,     0.45746,     0.45846,     0.45946,     0.46046,     0.46146,     0.46246,     0.46346,     0.46446,     0.46547,     0.46647,     0.46747,     0.46847,     0.46947,     0.47047,     0.47147,     0.47247,     0.47347,     0.47447,     0.47548,     0.47648,     0.47748,     0.47848,     0.47948,\n",
       "           0.48048,     0.48148,     0.48248,     0.48348,     0.48448,     0.48549,     0.48649,     0.48749,     0.48849,     0.48949,     0.49049,     0.49149,     0.49249,     0.49349,     0.49449,      0.4955,      0.4965,      0.4975,      0.4985,      0.4995,      0.5005,      0.5015,      0.5025,      0.5035,\n",
       "            0.5045,     0.50551,     0.50651,     0.50751,     0.50851,     0.50951,     0.51051,     0.51151,     0.51251,     0.51351,     0.51451,     0.51552,     0.51652,     0.51752,     0.51852,     0.51952,     0.52052,     0.52152,     0.52252,     0.52352,     0.52452,     0.52553,     0.52653,     0.52753,\n",
       "           0.52853,     0.52953,     0.53053,     0.53153,     0.53253,     0.53353,     0.53453,     0.53554,     0.53654,     0.53754,     0.53854,     0.53954,     0.54054,     0.54154,     0.54254,     0.54354,     0.54454,     0.54555,     0.54655,     0.54755,     0.54855,     0.54955,     0.55055,     0.55155,\n",
       "           0.55255,     0.55355,     0.55455,     0.55556,     0.55656,     0.55756,     0.55856,     0.55956,     0.56056,     0.56156,     0.56256,     0.56356,     0.56456,     0.56557,     0.56657,     0.56757,     0.56857,     0.56957,     0.57057,     0.57157,     0.57257,     0.57357,     0.57457,     0.57558,\n",
       "           0.57658,     0.57758,     0.57858,     0.57958,     0.58058,     0.58158,     0.58258,     0.58358,     0.58458,     0.58559,     0.58659,     0.58759,     0.58859,     0.58959,     0.59059,     0.59159,     0.59259,     0.59359,     0.59459,      0.5956,      0.5966,      0.5976,      0.5986,      0.5996,\n",
       "            0.6006,      0.6016,      0.6026,      0.6036,      0.6046,     0.60561,     0.60661,     0.60761,     0.60861,     0.60961,     0.61061,     0.61161,     0.61261,     0.61361,     0.61461,     0.61562,     0.61662,     0.61762,     0.61862,     0.61962,     0.62062,     0.62162,     0.62262,     0.62362,\n",
       "           0.62462,     0.62563,     0.62663,     0.62763,     0.62863,     0.62963,     0.63063,     0.63163,     0.63263,     0.63363,     0.63463,     0.63564,     0.63664,     0.63764,     0.63864,     0.63964,     0.64064,     0.64164,     0.64264,     0.64364,     0.64464,     0.64565,     0.64665,     0.64765,\n",
       "           0.64865,     0.64965,     0.65065,     0.65165,     0.65265,     0.65365,     0.65465,     0.65566,     0.65666,     0.65766,     0.65866,     0.65966,     0.66066,     0.66166,     0.66266,     0.66366,     0.66466,     0.66567,     0.66667,     0.66767,     0.66867,     0.66967,     0.67067,     0.67167,\n",
       "           0.67267,     0.67367,     0.67467,     0.67568,     0.67668,     0.67768,     0.67868,     0.67968,     0.68068,     0.68168,     0.68268,     0.68368,     0.68468,     0.68569,     0.68669,     0.68769,     0.68869,     0.68969,     0.69069,     0.69169,     0.69269,     0.69369,     0.69469,      0.6957,\n",
       "            0.6967,      0.6977,      0.6987,      0.6997,      0.7007,      0.7017,      0.7027,      0.7037,      0.7047,     0.70571,     0.70671,     0.70771,     0.70871,     0.70971,     0.71071,     0.71171,     0.71271,     0.71371,     0.71471,     0.71572,     0.71672,     0.71772,     0.71872,     0.71972,\n",
       "           0.72072,     0.72172,     0.72272,     0.72372,     0.72472,     0.72573,     0.72673,     0.72773,     0.72873,     0.72973,     0.73073,     0.73173,     0.73273,     0.73373,     0.73473,     0.73574,     0.73674,     0.73774,     0.73874,     0.73974,     0.74074,     0.74174,     0.74274,     0.74374,\n",
       "           0.74474,     0.74575,     0.74675,     0.74775,     0.74875,     0.74975,     0.75075,     0.75175,     0.75275,     0.75375,     0.75475,     0.75576,     0.75676,     0.75776,     0.75876,     0.75976,     0.76076,     0.76176,     0.76276,     0.76376,     0.76476,     0.76577,     0.76677,     0.76777,\n",
       "           0.76877,     0.76977,     0.77077,     0.77177,     0.77277,     0.77377,     0.77477,     0.77578,     0.77678,     0.77778,     0.77878,     0.77978,     0.78078,     0.78178,     0.78278,     0.78378,     0.78478,     0.78579,     0.78679,     0.78779,     0.78879,     0.78979,     0.79079,     0.79179,\n",
       "           0.79279,     0.79379,     0.79479,      0.7958,      0.7968,      0.7978,      0.7988,      0.7998,      0.8008,      0.8018,      0.8028,      0.8038,      0.8048,     0.80581,     0.80681,     0.80781,     0.80881,     0.80981,     0.81081,     0.81181,     0.81281,     0.81381,     0.81481,     0.81582,\n",
       "           0.81682,     0.81782,     0.81882,     0.81982,     0.82082,     0.82182,     0.82282,     0.82382,     0.82482,     0.82583,     0.82683,     0.82783,     0.82883,     0.82983,     0.83083,     0.83183,     0.83283,     0.83383,     0.83483,     0.83584,     0.83684,     0.83784,     0.83884,     0.83984,\n",
       "           0.84084,     0.84184,     0.84284,     0.84384,     0.84484,     0.84585,     0.84685,     0.84785,     0.84885,     0.84985,     0.85085,     0.85185,     0.85285,     0.85385,     0.85485,     0.85586,     0.85686,     0.85786,     0.85886,     0.85986,     0.86086,     0.86186,     0.86286,     0.86386,\n",
       "           0.86486,     0.86587,     0.86687,     0.86787,     0.86887,     0.86987,     0.87087,     0.87187,     0.87287,     0.87387,     0.87487,     0.87588,     0.87688,     0.87788,     0.87888,     0.87988,     0.88088,     0.88188,     0.88288,     0.88388,     0.88488,     0.88589,     0.88689,     0.88789,\n",
       "           0.88889,     0.88989,     0.89089,     0.89189,     0.89289,     0.89389,     0.89489,      0.8959,      0.8969,      0.8979,      0.8989,      0.8999,      0.9009,      0.9019,      0.9029,      0.9039,      0.9049,     0.90591,     0.90691,     0.90791,     0.90891,     0.90991,     0.91091,     0.91191,\n",
       "           0.91291,     0.91391,     0.91491,     0.91592,     0.91692,     0.91792,     0.91892,     0.91992,     0.92092,     0.92192,     0.92292,     0.92392,     0.92492,     0.92593,     0.92693,     0.92793,     0.92893,     0.92993,     0.93093,     0.93193,     0.93293,     0.93393,     0.93493,     0.93594,\n",
       "           0.93694,     0.93794,     0.93894,     0.93994,     0.94094,     0.94194,     0.94294,     0.94394,     0.94494,     0.94595,     0.94695,     0.94795,     0.94895,     0.94995,     0.95095,     0.95195,     0.95295,     0.95395,     0.95495,     0.95596,     0.95696,     0.95796,     0.95896,     0.95996,\n",
       "           0.96096,     0.96196,     0.96296,     0.96396,     0.96496,     0.96597,     0.96697,     0.96797,     0.96897,     0.96997,     0.97097,     0.97197,     0.97297,     0.97397,     0.97497,     0.97598,     0.97698,     0.97798,     0.97898,     0.97998,     0.98098,     0.98198,     0.98298,     0.98398,\n",
       "           0.98498,     0.98599,     0.98699,     0.98799,     0.98899,     0.98999,     0.99099,     0.99199,     0.99299,     0.99399,     0.99499,       0.996,       0.997,       0.998,       0.999,           1]), array([[    0.10737,     0.10737,     0.14852,     0.18168,      0.2065,      0.2313,     0.24808,      0.2689,     0.28619,     0.30095,     0.30823,     0.31847,     0.32928,     0.33894,     0.35145,     0.36116,     0.37636,     0.38283,     0.39225,     0.40344,     0.41205,     0.41765,     0.42276,\n",
       "            0.42622,     0.43258,     0.44279,     0.44814,     0.45578,     0.46209,     0.46821,     0.47117,     0.47538,      0.4774,     0.48332,     0.48739,     0.48994,     0.49521,     0.49979,     0.50356,     0.51044,     0.51649,     0.51726,     0.52047,     0.52605,     0.53042,     0.53582,\n",
       "            0.54195,     0.54496,     0.54777,     0.55419,     0.56184,     0.56495,     0.56842,      0.5741,     0.57854,     0.58192,     0.58183,     0.58356,     0.58621,     0.58865,     0.59582,     0.59841,     0.60181,     0.60396,     0.60803,     0.60989,     0.61255,     0.61333,     0.61433,\n",
       "            0.61802,     0.61783,     0.62179,     0.62509,     0.62739,     0.62726,     0.62763,     0.62795,     0.63014,     0.63117,     0.63988,     0.64091,     0.64118,     0.64145,     0.64172,     0.64199,     0.64225,     0.64252,     0.64553,      0.6489,     0.65255,     0.65349,     0.65442,\n",
       "            0.65613,     0.65732,      0.6584,     0.66014,     0.65993,     0.66346,     0.66729,     0.66699,     0.66778,     0.66858,     0.67132,     0.67205,     0.67279,       0.676,     0.67832,     0.68094,     0.68108,      0.6858,     0.68777,     0.68963,     0.69009,     0.69055,     0.69101,\n",
       "            0.69148,     0.69169,     0.69128,     0.69087,     0.69185,       0.693,     0.69216,     0.69303,     0.69415,     0.69379,     0.69373,     0.69492,     0.69609,     0.69723,     0.70277,      0.7043,     0.70796,        0.71,     0.71092,     0.71185,     0.71159,     0.71079,     0.71138,\n",
       "            0.71197,     0.71255,     0.71292,     0.71311,     0.71331,     0.71351,     0.71371,     0.71391,      0.7141,      0.7143,      0.7145,      0.7147,     0.71489,     0.71509,     0.71526,     0.71489,     0.71453,     0.71493,     0.71687,      0.7195,     0.72055,     0.72159,     0.72486,\n",
       "            0.72598,     0.72706,     0.72787,     0.72868,     0.72949,     0.73004,     0.73058,     0.73112,     0.73166,     0.73196,     0.73534,     0.73624,     0.73595,     0.73567,     0.73597,     0.73701,     0.73805,     0.73901,     0.73996,     0.74105,     0.74457,     0.74645,     0.74902,\n",
       "            0.74872,     0.74843,     0.74828,       0.751,     0.75167,     0.75234,     0.75302,     0.75369,     0.75354,     0.75333,     0.75313,     0.75292,      0.7525,     0.75306,     0.75612,     0.75756,     0.75742,     0.75728,     0.75714,       0.757,     0.75687,     0.75673,     0.75697,\n",
       "            0.75765,     0.75834,     0.75902,     0.75952,     0.75944,     0.75936,     0.75927,     0.75919,     0.75911,     0.75903,     0.75894,     0.75886,     0.75878,     0.75869,      0.7592,     0.76308,     0.76505,     0.76608,     0.76712,     0.76736,     0.76723,     0.76711,     0.76699,\n",
       "            0.76686,     0.76674,     0.76662,     0.76742,     0.77259,     0.77287,     0.77315,     0.77343,     0.77371,       0.774,     0.77428,     0.77456,     0.77484,     0.77512,      0.7754,     0.77545,       0.775,     0.77652,     0.77756,     0.77729,     0.77701,      0.7781,     0.78005,\n",
       "            0.78067,     0.78129,     0.78191,     0.78253,     0.78315,     0.78398,     0.78482,     0.78565,     0.78623,     0.78597,     0.78571,     0.78545,     0.78788,     0.78874,      0.7896,     0.79046,      0.7909,     0.79069,     0.79049,     0.79028,     0.78955,      0.7896,     0.78999,\n",
       "            0.79038,     0.79077,     0.79117,     0.79156,     0.79195,     0.79234,     0.79249,      0.7924,     0.79231,     0.79223,     0.79214,     0.79206,     0.79197,     0.79188,      0.7918,     0.79171,     0.79161,     0.79149,     0.79136,     0.79124,     0.79112,       0.791,     0.79088,\n",
       "             0.7909,     0.79122,     0.79154,     0.79186,     0.79218,      0.7925,     0.79282,     0.79314,     0.79346,     0.79378,      0.7941,      0.7962,     0.79691,     0.79812,     0.80002,     0.80033,     0.80065,     0.80097,     0.80129,     0.80161,     0.80193,     0.80225,     0.80257,\n",
       "            0.80289,      0.8032,     0.80355,     0.80397,     0.80438,      0.8048,     0.80521,     0.80562,     0.80604,     0.80645,     0.80687,     0.80833,      0.8098,     0.81119,     0.81253,     0.81386,     0.81449,     0.81512,     0.81575,     0.81638,       0.817,     0.81818,     0.82023,\n",
       "            0.82243,      0.8238,     0.82482,     0.82585,     0.82688,     0.82713,     0.82784,      0.8311,     0.83318,      0.8359,     0.83794,     0.83821,     0.83848,     0.83875,     0.83902,     0.83929,     0.83956,     0.83983,      0.8401,     0.84036,     0.84063,      0.8409,     0.84117,\n",
       "            0.84144,     0.84161,     0.84156,      0.8415,     0.84145,     0.84139,     0.84134,     0.84128,     0.84123,     0.84117,     0.84112,     0.84106,       0.841,     0.84095,     0.84116,     0.84209,     0.84302,     0.84396,     0.84479,     0.84503,     0.84527,     0.84551,     0.84575,\n",
       "            0.84599,     0.84624,     0.84648,     0.84672,     0.84696,      0.8472,     0.84745,     0.84769,     0.84793,     0.84817,     0.84841,     0.84931,     0.85642,     0.85625,     0.85608,     0.85592,     0.85597,     0.85637,     0.85677,     0.85717,     0.85757,     0.85798,     0.85838,\n",
       "            0.85878,     0.85918,     0.85958,     0.86007,     0.86067,     0.86127,     0.86187,     0.86247,     0.86307,     0.86366,     0.86449,     0.86543,     0.86636,      0.8673,     0.86789,     0.86779,     0.86769,     0.86758,     0.86748,     0.86738,     0.86728,     0.86717,     0.86707,\n",
       "            0.86697,     0.86687,     0.86677,     0.86667,     0.86739,     0.86815,     0.86892,     0.86969,     0.87046,     0.87077,     0.87069,     0.87061,     0.87053,     0.87045,     0.87038,      0.8703,     0.87022,     0.87058,     0.87114,      0.8717,     0.87226,     0.87282,     0.87338,\n",
       "            0.87394,      0.8761,     0.87972,     0.88123,     0.88274,     0.88353,     0.88422,     0.88491,      0.8856,     0.88629,     0.88698,     0.88927,     0.89155,     0.89131,     0.89109,     0.89105,     0.89102,     0.89099,     0.89096,     0.89093,     0.89089,     0.89086,     0.89083,\n",
       "             0.8908,     0.89077,     0.89073,      0.8907,     0.89067,     0.89064,      0.8906,     0.89057,     0.89047,     0.89016,     0.88996,     0.88989,     0.88981,     0.88973,     0.88966,     0.88958,      0.8895,      0.8896,     0.89022,     0.89084,     0.89146,     0.89209,     0.89271,\n",
       "            0.89333,     0.89393,     0.89349,     0.89439,     0.89564,      0.8969,      0.8979,     0.89755,     0.89729,     0.89707,     0.89757,     0.90007,     0.90152,     0.90144,     0.90136,     0.90128,      0.9012,     0.90112,     0.90099,     0.90041,      0.9002,     0.89999,     0.89977,\n",
       "            0.89955,     0.89931,     0.89904,     0.89856,     0.89753,     0.90217,     0.90287,     0.90357,     0.90426,     0.90496,     0.90566,     0.90635,     0.90705,     0.90703,     0.90696,     0.90689,     0.90681,     0.90674,     0.90666,     0.90658,     0.90642,     0.90626,     0.90609,\n",
       "            0.90946,     0.91104,      0.9109,     0.91077,     0.91063,     0.91228,     0.91417,     0.91646,     0.92063,     0.92283,      0.9252,     0.92506,     0.92492,     0.92476,     0.92457,     0.92397,     0.92381,     0.92364,     0.92488,     0.92908,     0.93028,     0.93148,     0.93268,\n",
       "            0.93388,     0.93442,      0.9342,     0.93399,     0.93379,     0.93324,     0.93308,     0.93291,     0.93272,     0.93253,     0.93222,     0.93203,     0.93192,     0.93182,     0.93171,     0.93163,     0.93155,     0.93147,      0.9314,     0.93132,     0.93123,     0.93092,     0.93074,\n",
       "            0.93063,     0.93051,      0.9304,     0.92995,      0.9297,      0.9293,     0.92898,     0.92892,     0.92885,     0.92879,     0.92872,     0.92866,      0.9286,     0.92848,     0.92833,     0.92817,     0.92797,     0.92773,     0.92658,      0.9262,     0.92979,     0.93231,     0.93194,\n",
       "            0.93172,     0.93159,     0.93374,      0.9359,      0.9379,      0.9373,     0.93635,     0.93605,     0.93584,     0.93549,     0.93944,     0.94302,     0.94813,       0.948,     0.94786,     0.94738,     0.95396,     0.95341,     0.95328,     0.95315,     0.95308,     0.95302,     0.95297,\n",
       "            0.95291,     0.95286,      0.9528,     0.95237,     0.95224,     0.95211,     0.95181,     0.95117,     0.95103,     0.95089,      0.9506,     0.95027,     0.95004,     0.95797,     0.95788,     0.95779,      0.9577,     0.96415,     0.96559,     0.96714,      0.9696,     0.97206,     0.97356,\n",
       "            0.97304,      0.9727,     0.97251,     0.97217,     0.97202,     0.97177,     0.97149,     0.97091,     0.97076,     0.97064,      0.9703,     0.97026,     0.97022,     0.97018,     0.97015,     0.97011,     0.97007,     0.97003,     0.96959,     0.97869,     0.97838,      0.9782,     0.97802,\n",
       "            0.97785,     0.97771,     0.97761,      0.9772,     0.97694,     0.97679,     0.97667,     0.97657,     0.97647,     0.98255,     0.98786,     0.98779,     0.98775,     0.98772,     0.98769,     0.98766,      0.9873,     0.98715,     0.98708,     0.98687,     0.98667,     0.98636,     0.98593,\n",
       "             0.9858,     0.98568,     0.98556,     0.98539,      0.9852,     0.98498,     0.98469,     0.98456,     0.98448,      0.9844,     0.98424,     0.98376,     0.98306,     0.98125,     0.97973,     0.97866,     0.97792,     0.98343,           1,           1,           1,           1,           1,\n",
       "                  1,           1,           1,           1,           1,           1,           1,           1,           1,           1,           1,           1,           1,           1,           1,           1,           1,           1,           1,           1,           1,           1,           1,\n",
       "                  1,           1,           1,           1,           1,           1,           1,           1,           1,           1,           1,           1,           1,           1,           1,           1,           1,           1,           1,           1,           1,           1,           1,\n",
       "                  1,           1,           1,           1,           1,           1,           1,           1,           1,           1,           1,           1,           1,           1,           1,           1,           1,           1,           1,           1,           1,           1,           1,\n",
       "                  1,           1,           1,           1,           1,           1,           1,           1,           1,           1,           1,           1,           1,           1,           1,           1,           1,           1,           1,           1,           1,           1,           1,\n",
       "                  1,           1,           1,           1,           1,           1,           1,           1,           1,           1,           1,           1,           1,           1,           1,           1,           1,           1,           1,           1,           1,           1,           1,\n",
       "                  1,           1,           1,           1,           1,           1,           1,           1,           1,           1,           1,           1,           1,           1,           1,           1,           1,           1,           1,           1,           1,           1,           1,\n",
       "                  1,           1,           1,           1,           1,           1,           1,           1,           1,           1,           1,           1,           1,           1,           1,           1,           1,           1,           1,           1,           1,           1,           1,\n",
       "                  1,           1,           1,           1,           1,           1,           1,           1,           1,           1,           1,           1,           1,           1,           1,           1,           1,           1,           1,           1,           1,           1,           1,\n",
       "                  1,           1,           1,           1,           1,           1,           1,           1,           1,           1,           1,           1,           1,           1,           1,           1,           1,           1,           1,           1,           1,           1,           1,\n",
       "                  1,           1,           1,           1,           1,           1,           1,           1,           1,           1,           1,           1,           1,           1,           1,           1,           1,           1,           1,           1,           1,           1,           1,\n",
       "                  1,           1,           1,           1,           1,           1,           1,           1,           1,           1,           1,           1,           1,           1,           1,           1,           1,           1,           1,           1,           1,           1,           1,\n",
       "                  1,           1,           1,           1,           1,           1,           1,           1,           1,           1,           1]]), 'Confidence', 'Precision'], [array([          0,    0.001001,    0.002002,    0.003003,    0.004004,    0.005005,    0.006006,    0.007007,    0.008008,    0.009009,     0.01001,    0.011011,    0.012012,    0.013013,    0.014014,    0.015015,    0.016016,    0.017017,    0.018018,    0.019019,     0.02002,    0.021021,    0.022022,    0.023023,\n",
       "          0.024024,    0.025025,    0.026026,    0.027027,    0.028028,    0.029029,     0.03003,    0.031031,    0.032032,    0.033033,    0.034034,    0.035035,    0.036036,    0.037037,    0.038038,    0.039039,     0.04004,    0.041041,    0.042042,    0.043043,    0.044044,    0.045045,    0.046046,    0.047047,\n",
       "          0.048048,    0.049049,     0.05005,    0.051051,    0.052052,    0.053053,    0.054054,    0.055055,    0.056056,    0.057057,    0.058058,    0.059059,     0.06006,    0.061061,    0.062062,    0.063063,    0.064064,    0.065065,    0.066066,    0.067067,    0.068068,    0.069069,     0.07007,    0.071071,\n",
       "          0.072072,    0.073073,    0.074074,    0.075075,    0.076076,    0.077077,    0.078078,    0.079079,     0.08008,    0.081081,    0.082082,    0.083083,    0.084084,    0.085085,    0.086086,    0.087087,    0.088088,    0.089089,     0.09009,    0.091091,    0.092092,    0.093093,    0.094094,    0.095095,\n",
       "          0.096096,    0.097097,    0.098098,    0.099099,      0.1001,      0.1011,      0.1021,      0.1031,      0.1041,     0.10511,     0.10611,     0.10711,     0.10811,     0.10911,     0.11011,     0.11111,     0.11211,     0.11311,     0.11411,     0.11512,     0.11612,     0.11712,     0.11812,     0.11912,\n",
       "           0.12012,     0.12112,     0.12212,     0.12312,     0.12412,     0.12513,     0.12613,     0.12713,     0.12813,     0.12913,     0.13013,     0.13113,     0.13213,     0.13313,     0.13413,     0.13514,     0.13614,     0.13714,     0.13814,     0.13914,     0.14014,     0.14114,     0.14214,     0.14314,\n",
       "           0.14414,     0.14515,     0.14615,     0.14715,     0.14815,     0.14915,     0.15015,     0.15115,     0.15215,     0.15315,     0.15415,     0.15516,     0.15616,     0.15716,     0.15816,     0.15916,     0.16016,     0.16116,     0.16216,     0.16316,     0.16416,     0.16517,     0.16617,     0.16717,\n",
       "           0.16817,     0.16917,     0.17017,     0.17117,     0.17217,     0.17317,     0.17417,     0.17518,     0.17618,     0.17718,     0.17818,     0.17918,     0.18018,     0.18118,     0.18218,     0.18318,     0.18418,     0.18519,     0.18619,     0.18719,     0.18819,     0.18919,     0.19019,     0.19119,\n",
       "           0.19219,     0.19319,     0.19419,      0.1952,      0.1962,      0.1972,      0.1982,      0.1992,      0.2002,      0.2012,      0.2022,      0.2032,      0.2042,     0.20521,     0.20621,     0.20721,     0.20821,     0.20921,     0.21021,     0.21121,     0.21221,     0.21321,     0.21421,     0.21522,\n",
       "           0.21622,     0.21722,     0.21822,     0.21922,     0.22022,     0.22122,     0.22222,     0.22322,     0.22422,     0.22523,     0.22623,     0.22723,     0.22823,     0.22923,     0.23023,     0.23123,     0.23223,     0.23323,     0.23423,     0.23524,     0.23624,     0.23724,     0.23824,     0.23924,\n",
       "           0.24024,     0.24124,     0.24224,     0.24324,     0.24424,     0.24525,     0.24625,     0.24725,     0.24825,     0.24925,     0.25025,     0.25125,     0.25225,     0.25325,     0.25425,     0.25526,     0.25626,     0.25726,     0.25826,     0.25926,     0.26026,     0.26126,     0.26226,     0.26326,\n",
       "           0.26426,     0.26527,     0.26627,     0.26727,     0.26827,     0.26927,     0.27027,     0.27127,     0.27227,     0.27327,     0.27427,     0.27528,     0.27628,     0.27728,     0.27828,     0.27928,     0.28028,     0.28128,     0.28228,     0.28328,     0.28428,     0.28529,     0.28629,     0.28729,\n",
       "           0.28829,     0.28929,     0.29029,     0.29129,     0.29229,     0.29329,     0.29429,      0.2953,      0.2963,      0.2973,      0.2983,      0.2993,      0.3003,      0.3013,      0.3023,      0.3033,      0.3043,     0.30531,     0.30631,     0.30731,     0.30831,     0.30931,     0.31031,     0.31131,\n",
       "           0.31231,     0.31331,     0.31431,     0.31532,     0.31632,     0.31732,     0.31832,     0.31932,     0.32032,     0.32132,     0.32232,     0.32332,     0.32432,     0.32533,     0.32633,     0.32733,     0.32833,     0.32933,     0.33033,     0.33133,     0.33233,     0.33333,     0.33433,     0.33534,\n",
       "           0.33634,     0.33734,     0.33834,     0.33934,     0.34034,     0.34134,     0.34234,     0.34334,     0.34434,     0.34535,     0.34635,     0.34735,     0.34835,     0.34935,     0.35035,     0.35135,     0.35235,     0.35335,     0.35435,     0.35536,     0.35636,     0.35736,     0.35836,     0.35936,\n",
       "           0.36036,     0.36136,     0.36236,     0.36336,     0.36436,     0.36537,     0.36637,     0.36737,     0.36837,     0.36937,     0.37037,     0.37137,     0.37237,     0.37337,     0.37437,     0.37538,     0.37638,     0.37738,     0.37838,     0.37938,     0.38038,     0.38138,     0.38238,     0.38338,\n",
       "           0.38438,     0.38539,     0.38639,     0.38739,     0.38839,     0.38939,     0.39039,     0.39139,     0.39239,     0.39339,     0.39439,      0.3954,      0.3964,      0.3974,      0.3984,      0.3994,      0.4004,      0.4014,      0.4024,      0.4034,      0.4044,     0.40541,     0.40641,     0.40741,\n",
       "           0.40841,     0.40941,     0.41041,     0.41141,     0.41241,     0.41341,     0.41441,     0.41542,     0.41642,     0.41742,     0.41842,     0.41942,     0.42042,     0.42142,     0.42242,     0.42342,     0.42442,     0.42543,     0.42643,     0.42743,     0.42843,     0.42943,     0.43043,     0.43143,\n",
       "           0.43243,     0.43343,     0.43443,     0.43544,     0.43644,     0.43744,     0.43844,     0.43944,     0.44044,     0.44144,     0.44244,     0.44344,     0.44444,     0.44545,     0.44645,     0.44745,     0.44845,     0.44945,     0.45045,     0.45145,     0.45245,     0.45345,     0.45445,     0.45546,\n",
       "           0.45646,     0.45746,     0.45846,     0.45946,     0.46046,     0.46146,     0.46246,     0.46346,     0.46446,     0.46547,     0.46647,     0.46747,     0.46847,     0.46947,     0.47047,     0.47147,     0.47247,     0.47347,     0.47447,     0.47548,     0.47648,     0.47748,     0.47848,     0.47948,\n",
       "           0.48048,     0.48148,     0.48248,     0.48348,     0.48448,     0.48549,     0.48649,     0.48749,     0.48849,     0.48949,     0.49049,     0.49149,     0.49249,     0.49349,     0.49449,      0.4955,      0.4965,      0.4975,      0.4985,      0.4995,      0.5005,      0.5015,      0.5025,      0.5035,\n",
       "            0.5045,     0.50551,     0.50651,     0.50751,     0.50851,     0.50951,     0.51051,     0.51151,     0.51251,     0.51351,     0.51451,     0.51552,     0.51652,     0.51752,     0.51852,     0.51952,     0.52052,     0.52152,     0.52252,     0.52352,     0.52452,     0.52553,     0.52653,     0.52753,\n",
       "           0.52853,     0.52953,     0.53053,     0.53153,     0.53253,     0.53353,     0.53453,     0.53554,     0.53654,     0.53754,     0.53854,     0.53954,     0.54054,     0.54154,     0.54254,     0.54354,     0.54454,     0.54555,     0.54655,     0.54755,     0.54855,     0.54955,     0.55055,     0.55155,\n",
       "           0.55255,     0.55355,     0.55455,     0.55556,     0.55656,     0.55756,     0.55856,     0.55956,     0.56056,     0.56156,     0.56256,     0.56356,     0.56456,     0.56557,     0.56657,     0.56757,     0.56857,     0.56957,     0.57057,     0.57157,     0.57257,     0.57357,     0.57457,     0.57558,\n",
       "           0.57658,     0.57758,     0.57858,     0.57958,     0.58058,     0.58158,     0.58258,     0.58358,     0.58458,     0.58559,     0.58659,     0.58759,     0.58859,     0.58959,     0.59059,     0.59159,     0.59259,     0.59359,     0.59459,      0.5956,      0.5966,      0.5976,      0.5986,      0.5996,\n",
       "            0.6006,      0.6016,      0.6026,      0.6036,      0.6046,     0.60561,     0.60661,     0.60761,     0.60861,     0.60961,     0.61061,     0.61161,     0.61261,     0.61361,     0.61461,     0.61562,     0.61662,     0.61762,     0.61862,     0.61962,     0.62062,     0.62162,     0.62262,     0.62362,\n",
       "           0.62462,     0.62563,     0.62663,     0.62763,     0.62863,     0.62963,     0.63063,     0.63163,     0.63263,     0.63363,     0.63463,     0.63564,     0.63664,     0.63764,     0.63864,     0.63964,     0.64064,     0.64164,     0.64264,     0.64364,     0.64464,     0.64565,     0.64665,     0.64765,\n",
       "           0.64865,     0.64965,     0.65065,     0.65165,     0.65265,     0.65365,     0.65465,     0.65566,     0.65666,     0.65766,     0.65866,     0.65966,     0.66066,     0.66166,     0.66266,     0.66366,     0.66466,     0.66567,     0.66667,     0.66767,     0.66867,     0.66967,     0.67067,     0.67167,\n",
       "           0.67267,     0.67367,     0.67467,     0.67568,     0.67668,     0.67768,     0.67868,     0.67968,     0.68068,     0.68168,     0.68268,     0.68368,     0.68468,     0.68569,     0.68669,     0.68769,     0.68869,     0.68969,     0.69069,     0.69169,     0.69269,     0.69369,     0.69469,      0.6957,\n",
       "            0.6967,      0.6977,      0.6987,      0.6997,      0.7007,      0.7017,      0.7027,      0.7037,      0.7047,     0.70571,     0.70671,     0.70771,     0.70871,     0.70971,     0.71071,     0.71171,     0.71271,     0.71371,     0.71471,     0.71572,     0.71672,     0.71772,     0.71872,     0.71972,\n",
       "           0.72072,     0.72172,     0.72272,     0.72372,     0.72472,     0.72573,     0.72673,     0.72773,     0.72873,     0.72973,     0.73073,     0.73173,     0.73273,     0.73373,     0.73473,     0.73574,     0.73674,     0.73774,     0.73874,     0.73974,     0.74074,     0.74174,     0.74274,     0.74374,\n",
       "           0.74474,     0.74575,     0.74675,     0.74775,     0.74875,     0.74975,     0.75075,     0.75175,     0.75275,     0.75375,     0.75475,     0.75576,     0.75676,     0.75776,     0.75876,     0.75976,     0.76076,     0.76176,     0.76276,     0.76376,     0.76476,     0.76577,     0.76677,     0.76777,\n",
       "           0.76877,     0.76977,     0.77077,     0.77177,     0.77277,     0.77377,     0.77477,     0.77578,     0.77678,     0.77778,     0.77878,     0.77978,     0.78078,     0.78178,     0.78278,     0.78378,     0.78478,     0.78579,     0.78679,     0.78779,     0.78879,     0.78979,     0.79079,     0.79179,\n",
       "           0.79279,     0.79379,     0.79479,      0.7958,      0.7968,      0.7978,      0.7988,      0.7998,      0.8008,      0.8018,      0.8028,      0.8038,      0.8048,     0.80581,     0.80681,     0.80781,     0.80881,     0.80981,     0.81081,     0.81181,     0.81281,     0.81381,     0.81481,     0.81582,\n",
       "           0.81682,     0.81782,     0.81882,     0.81982,     0.82082,     0.82182,     0.82282,     0.82382,     0.82482,     0.82583,     0.82683,     0.82783,     0.82883,     0.82983,     0.83083,     0.83183,     0.83283,     0.83383,     0.83483,     0.83584,     0.83684,     0.83784,     0.83884,     0.83984,\n",
       "           0.84084,     0.84184,     0.84284,     0.84384,     0.84484,     0.84585,     0.84685,     0.84785,     0.84885,     0.84985,     0.85085,     0.85185,     0.85285,     0.85385,     0.85485,     0.85586,     0.85686,     0.85786,     0.85886,     0.85986,     0.86086,     0.86186,     0.86286,     0.86386,\n",
       "           0.86486,     0.86587,     0.86687,     0.86787,     0.86887,     0.86987,     0.87087,     0.87187,     0.87287,     0.87387,     0.87487,     0.87588,     0.87688,     0.87788,     0.87888,     0.87988,     0.88088,     0.88188,     0.88288,     0.88388,     0.88488,     0.88589,     0.88689,     0.88789,\n",
       "           0.88889,     0.88989,     0.89089,     0.89189,     0.89289,     0.89389,     0.89489,      0.8959,      0.8969,      0.8979,      0.8989,      0.8999,      0.9009,      0.9019,      0.9029,      0.9039,      0.9049,     0.90591,     0.90691,     0.90791,     0.90891,     0.90991,     0.91091,     0.91191,\n",
       "           0.91291,     0.91391,     0.91491,     0.91592,     0.91692,     0.91792,     0.91892,     0.91992,     0.92092,     0.92192,     0.92292,     0.92392,     0.92492,     0.92593,     0.92693,     0.92793,     0.92893,     0.92993,     0.93093,     0.93193,     0.93293,     0.93393,     0.93493,     0.93594,\n",
       "           0.93694,     0.93794,     0.93894,     0.93994,     0.94094,     0.94194,     0.94294,     0.94394,     0.94494,     0.94595,     0.94695,     0.94795,     0.94895,     0.94995,     0.95095,     0.95195,     0.95295,     0.95395,     0.95495,     0.95596,     0.95696,     0.95796,     0.95896,     0.95996,\n",
       "           0.96096,     0.96196,     0.96296,     0.96396,     0.96496,     0.96597,     0.96697,     0.96797,     0.96897,     0.96997,     0.97097,     0.97197,     0.97297,     0.97397,     0.97497,     0.97598,     0.97698,     0.97798,     0.97898,     0.97998,     0.98098,     0.98198,     0.98298,     0.98398,\n",
       "           0.98498,     0.98599,     0.98699,     0.98799,     0.98899,     0.98999,     0.99099,     0.99199,     0.99299,     0.99399,     0.99499,       0.996,       0.997,       0.998,       0.999,           1]), array([[    0.89583,     0.89583,     0.86458,     0.85069,     0.83681,     0.82639,      0.8125,     0.80903,     0.80903,     0.80208,     0.78472,     0.78472,     0.78125,     0.78125,     0.78125,     0.78125,     0.78125,     0.78125,     0.78125,     0.78125,     0.78125,     0.78125,     0.78125,\n",
       "            0.78125,     0.78125,     0.77431,     0.77431,     0.77431,     0.77083,     0.77083,     0.77083,     0.77083,     0.77083,     0.77083,     0.77083,     0.77083,     0.77083,     0.77083,     0.77083,     0.77083,     0.77083,     0.77083,     0.77083,     0.77083,     0.77083,     0.77083,\n",
       "            0.77083,     0.77083,     0.77083,     0.76736,     0.76736,     0.76736,     0.76389,     0.76389,     0.76389,     0.76389,     0.76042,     0.76042,     0.76042,     0.76042,     0.76042,     0.76042,     0.76042,     0.76042,     0.76042,     0.76042,     0.75755,     0.75347,     0.75347,\n",
       "            0.75279,        0.75,        0.75,        0.75,        0.75,     0.74792,     0.74653,     0.74429,     0.74306,     0.74306,     0.74306,     0.74306,     0.74306,     0.74306,     0.74306,     0.74306,     0.74306,     0.74306,     0.74306,     0.74306,     0.74306,     0.74306,     0.74306,\n",
       "            0.74306,     0.74306,     0.74306,     0.74188,     0.73958,     0.73958,      0.7382,     0.73611,     0.73611,     0.73611,     0.73611,     0.73611,     0.73611,     0.73611,     0.73611,     0.73611,     0.73411,     0.73264,     0.73264,     0.73264,     0.73264,     0.73264,     0.73264,\n",
       "            0.73264,     0.73224,     0.73084,     0.72945,     0.72917,     0.72892,     0.72606,     0.72569,     0.72569,     0.72378,     0.72222,     0.72222,     0.72222,     0.72222,     0.72222,     0.72222,     0.72222,     0.72222,     0.72222,     0.72222,     0.71962,     0.71528,     0.71528,\n",
       "            0.71528,     0.71528,     0.71528,     0.71528,     0.71528,     0.71528,     0.71528,     0.71528,     0.71528,     0.71528,     0.71528,     0.71528,     0.71528,     0.71528,      0.7152,     0.71393,     0.71265,     0.71181,     0.71181,     0.71181,     0.71181,     0.71181,     0.71181,\n",
       "            0.71181,     0.71181,     0.71181,     0.71181,     0.71181,     0.71181,     0.71181,     0.71181,     0.71181,     0.71116,     0.70833,     0.70753,     0.70649,     0.70544,     0.70486,     0.70486,     0.70486,     0.70486,     0.70486,     0.70486,     0.70486,     0.70486,     0.70464,\n",
       "            0.70354,     0.70244,     0.70139,     0.70139,     0.70139,     0.70139,     0.70139,     0.70139,     0.70066,     0.69989,     0.69912,     0.69835,     0.69676,     0.69444,     0.69444,     0.69438,     0.69386,     0.69334,     0.69281,     0.69229,     0.69177,     0.69125,     0.69097,\n",
       "            0.69097,     0.69097,     0.69097,      0.6909,     0.69059,     0.69027,     0.68996,     0.68965,     0.68934,     0.68902,     0.68871,      0.6884,     0.68809,     0.68777,      0.6875,      0.6875,      0.6875,      0.6875,      0.6875,     0.68717,      0.6867,     0.68623,     0.68576,\n",
       "            0.68528,     0.68481,     0.68434,     0.68403,     0.68403,     0.68403,     0.68403,     0.68403,     0.68403,     0.68403,     0.68403,     0.68403,     0.68403,     0.68403,     0.68403,     0.68346,     0.68172,     0.68056,     0.67971,     0.67863,     0.67754,     0.67708,     0.67708,\n",
       "            0.67708,     0.67708,     0.67708,     0.67708,     0.67708,     0.67708,     0.67708,     0.67708,     0.67684,      0.6758,     0.67476,     0.67372,     0.67014,     0.67014,     0.67014,     0.67014,     0.66981,     0.66897,     0.66813,     0.66729,     0.66439,     0.66319,     0.66319,\n",
       "            0.66319,     0.66319,     0.66319,     0.66319,     0.66319,     0.66319,     0.66301,     0.66267,     0.66232,     0.66198,     0.66163,     0.66128,     0.66094,     0.66059,     0.66024,      0.6599,     0.65948,       0.659,     0.65852,     0.65803,     0.65755,     0.65707,     0.65658,\n",
       "            0.65625,     0.65625,     0.65625,     0.65625,     0.65625,     0.65625,     0.65625,     0.65625,     0.65625,     0.65625,     0.65625,     0.65625,       0.654,     0.65278,     0.65278,     0.65278,     0.65278,     0.65278,     0.65278,     0.65278,     0.65278,     0.65278,     0.65278,\n",
       "            0.65278,     0.65278,     0.65278,     0.65278,     0.65278,     0.65278,     0.65278,     0.65278,     0.65278,     0.65278,     0.65278,     0.65278,     0.65278,     0.65278,     0.65278,     0.65278,     0.65278,     0.65278,     0.65278,     0.65278,     0.65278,     0.65278,     0.65278,\n",
       "            0.65278,     0.64931,     0.64931,     0.64931,     0.64931,     0.64793,     0.64583,     0.64583,     0.64583,     0.64583,     0.64583,     0.64583,     0.64583,     0.64583,     0.64583,     0.64583,     0.64583,     0.64583,     0.64583,     0.64583,     0.64583,     0.64583,     0.64583,\n",
       "            0.64583,     0.64575,     0.64549,     0.64522,     0.64495,     0.64469,     0.64442,     0.64415,     0.64389,     0.64362,     0.64336,     0.64309,     0.64282,     0.64256,     0.64236,     0.64236,     0.64236,     0.64236,     0.64236,     0.64236,     0.64236,     0.64236,     0.64236,\n",
       "            0.64236,     0.64236,     0.64236,     0.64236,     0.64236,     0.64236,     0.64236,     0.64236,     0.64236,     0.64236,     0.64236,     0.64236,     0.64202,     0.64116,     0.64029,     0.63942,     0.63889,     0.63889,     0.63889,     0.63889,     0.63889,     0.63889,     0.63889,\n",
       "            0.63889,     0.63889,     0.63889,     0.63889,     0.63889,     0.63889,     0.63889,     0.63889,     0.63889,     0.63889,     0.63889,     0.63889,     0.63889,     0.63889,      0.6387,     0.63813,     0.63756,     0.63699,     0.63642,     0.63585,     0.63529,     0.63474,     0.63419,\n",
       "            0.63363,     0.63308,     0.63253,     0.63198,     0.63194,     0.63194,     0.63194,     0.63194,     0.63194,     0.63171,     0.63127,     0.63082,     0.63038,     0.62994,      0.6295,     0.62905,     0.62861,     0.62847,     0.62847,     0.62847,     0.62847,     0.62847,     0.62847,\n",
       "            0.62847,     0.62847,     0.62847,     0.62847,     0.62847,     0.62847,     0.62847,     0.62847,     0.62847,     0.62847,     0.62847,     0.62847,     0.62801,     0.62646,     0.62499,     0.62478,     0.62458,     0.62437,     0.62416,     0.62396,     0.62375,     0.62354,     0.62334,\n",
       "            0.62313,     0.62292,     0.62272,     0.62251,     0.62231,      0.6221,     0.62189,     0.62169,     0.62106,     0.61905,     0.61781,     0.61733,     0.61686,     0.61638,      0.6159,     0.61542,     0.61494,     0.61458,     0.61458,     0.61458,     0.61458,     0.61458,     0.61458,\n",
       "            0.61458,     0.61454,     0.61171,     0.61111,     0.61111,     0.61111,     0.61075,     0.60842,     0.60668,     0.60523,     0.60417,     0.60417,     0.60395,      0.6034,     0.60285,     0.60231,     0.60176,     0.60121,     0.60034,     0.59645,     0.59507,     0.59369,     0.59225,\n",
       "            0.59082,     0.58921,     0.58749,     0.58437,     0.57784,     0.57639,     0.57639,     0.57639,     0.57639,     0.57639,     0.57639,     0.57639,     0.57639,     0.57592,     0.57541,      0.5749,      0.5744,     0.57389,     0.57338,     0.57282,     0.57173,     0.57064,     0.56955,\n",
       "            0.56944,     0.56892,     0.56797,     0.56703,     0.56609,     0.56597,     0.56597,     0.56597,     0.56597,      0.5625,     0.55833,     0.55721,      0.5561,      0.5548,     0.55332,     0.54855,     0.54729,     0.54602,     0.54514,     0.54514,     0.54514,     0.54514,     0.54514,\n",
       "            0.54514,     0.54422,     0.54223,     0.54044,     0.53871,     0.53394,     0.53253,      0.5311,     0.52951,     0.52792,     0.52529,     0.52375,     0.52287,     0.52199,     0.52112,     0.52042,      0.5198,     0.51918,     0.51856,     0.51794,     0.51721,     0.51475,      0.5133,\n",
       "            0.51239,     0.51149,     0.51058,     0.50704,      0.5051,     0.50203,     0.49961,     0.49913,     0.49865,     0.49816,     0.49768,      0.4972,     0.49672,     0.49584,     0.49471,     0.49358,     0.49209,     0.49031,     0.48202,     0.47931,     0.47917,     0.47826,     0.47548,\n",
       "            0.47382,     0.47222,     0.47222,     0.47222,     0.47199,     0.46712,     0.45976,     0.45743,     0.45583,     0.45319,     0.45139,     0.44444,     0.44429,      0.4431,      0.4419,     0.43757,     0.43164,     0.42637,     0.42511,     0.42385,     0.42319,     0.42267,     0.42215,\n",
       "            0.42163,     0.42111,     0.42059,     0.41656,     0.41539,     0.41422,     0.41152,     0.40586,     0.40464,     0.40341,     0.40087,     0.39811,     0.39614,     0.39574,     0.39486,     0.39398,     0.39309,     0.39236,     0.38979,     0.38889,     0.38889,     0.38889,     0.38363,\n",
       "            0.37597,     0.37111,     0.36846,     0.36389,     0.36187,     0.35859,     0.35494,     0.34772,      0.3459,     0.34438,     0.34028,     0.33984,     0.33939,     0.33895,     0.33851,     0.33807,     0.33763,     0.33719,     0.33219,     0.31901,     0.31433,     0.31161,     0.30906,\n",
       "            0.30656,     0.30465,     0.30316,     0.29761,     0.29426,     0.29225,     0.29076,     0.28948,     0.28821,     0.28472,     0.28248,     0.28079,     0.28009,     0.27939,     0.27869,       0.278,     0.27004,      0.2667,     0.26523,       0.261,     0.25707,     0.25102,     0.24336,\n",
       "              0.241,     0.23893,     0.23704,     0.23413,     0.23116,     0.22778,     0.22327,     0.22145,     0.22031,     0.21917,     0.21686,     0.21032,     0.20144,     0.18173,     0.16782,     0.15921,     0.15379,     0.14583,     0.13798,     0.13667,     0.13513,     0.13067,      0.1278,\n",
       "            0.12485,     0.12386,     0.12288,     0.12189,       0.119,     0.11703,     0.11568,     0.11445,     0.11373,     0.11302,     0.11231,     0.11159,     0.11089,     0.11022,     0.10955,     0.10888,     0.10821,      0.1074,     0.10588,     0.10436,     0.10356,     0.10287,     0.10218,\n",
       "            0.10149,      0.1008,    0.099321,    0.097711,    0.096086,    0.094456,    0.091992,    0.089752,    0.088577,    0.087401,    0.085612,    0.083163,    0.080176,    0.079102,    0.078254,    0.077406,    0.076558,     0.07531,    0.073963,    0.072608,    0.071223,    0.069839,    0.067415,\n",
       "           0.065362,     0.06412,    0.062878,    0.059408,    0.057937,    0.056743,    0.055553,    0.054975,    0.054397,     0.05382,    0.053242,    0.052665,    0.052087,    0.050723,    0.049355,    0.048382,    0.047882,    0.047381,     0.04688,    0.046379,    0.045878,    0.045377,    0.044592,\n",
       "           0.043551,    0.042509,    0.041592,    0.041201,     0.04081,    0.040419,    0.040028,    0.039637,    0.039246,    0.038855,    0.038464,    0.038069,    0.037664,    0.037258,    0.036853,    0.036448,    0.036042,    0.035637,    0.035231,    0.034826,    0.034592,    0.034416,     0.03424,\n",
       "           0.034065,    0.033889,    0.033713,    0.033538,    0.033362,    0.033187,    0.033011,    0.032835,     0.03266,    0.032484,    0.032308,    0.032133,    0.031957,    0.031782,    0.031606,     0.03143,    0.031255,     0.02989,    0.028493,    0.027721,    0.027605,     0.02749,    0.027374,\n",
       "           0.027258,    0.027142,    0.027026,    0.026911,    0.026795,    0.026679,    0.026563,    0.026447,    0.026332,    0.026216,      0.0261,    0.025984,    0.025868,    0.025753,    0.025637,    0.025521,    0.025405,    0.025289,    0.025174,    0.025058,    0.024942,    0.024826,     0.02471,\n",
       "           0.024595,    0.024479,    0.024363,    0.024221,    0.024052,    0.023884,    0.023715,    0.023547,    0.023378,     0.02321,    0.023042,    0.022873,    0.022705,    0.022536,    0.022368,    0.022199,    0.022031,    0.021863,    0.021694,    0.021526,    0.021357,    0.021189,     0.02102,\n",
       "           0.020852,    0.020514,    0.020154,    0.019795,    0.019435,    0.019076,    0.018717,    0.018357,    0.017998,    0.017638,    0.017293,    0.016994,    0.016694,    0.016395,    0.016096,    0.015797,    0.015498,    0.015199,    0.014899,      0.0146,    0.014301,    0.014002,    0.012414,\n",
       "          0.0091933,   0.0068665,   0.0067565,   0.0066466,   0.0065367,   0.0064267,   0.0063168,   0.0062069,   0.0060969,    0.005987,    0.005877,   0.0057671,   0.0056572,   0.0055472,   0.0054373,   0.0053274,   0.0052174,   0.0051075,   0.0049975,   0.0048876,   0.0047777,   0.0046677,   0.0045578,\n",
       "          0.0044479,   0.0043379,    0.004228,   0.0041181,   0.0040081,   0.0038982,   0.0037882,   0.0036783,   0.0035684,           0,           0,           0,           0,           0,           0,           0,           0,           0,           0,           0,           0,           0,           0,\n",
       "                  0,           0,           0,           0,           0,           0,           0,           0,           0,           0,           0,           0,           0,           0,           0,           0,           0,           0,           0,           0,           0,           0,           0,\n",
       "                  0,           0,           0,           0,           0,           0,           0,           0,           0,           0,           0]]), 'Confidence', 'Recall']]\n",
       "fitness: 0.3840842288643356\n",
       "keys: ['metrics/precision(B)', 'metrics/recall(B)', 'metrics/mAP50(B)', 'metrics/mAP50-95(B)']\n",
       "maps: array([    0.34375])\n",
       "names: {0: 'accident'}\n",
       "plot: True\n",
       "results_dict: {'metrics/precision(B)': 0.8681545385564369, 'metrics/recall(B)': 0.6319444444444444, 'metrics/mAP50(B)': 0.7470767586767454, 'metrics/mAP50-95(B)': 0.3437517255518455, 'fitness': 0.3840842288643356}\n",
       "save_dir: WindowsPath('runs/detect/accident_yolov87')\n",
       "speed: {'preprocess': 1.8551208259603085, 'inference': 101.8200261252267, 'loss': 0.0, 'postprocess': 0.5491326118736576}\n",
       "task: 'detect'"
      ]
     },
     "execution_count": 8,
     "metadata": {},
     "output_type": "execute_result"
    }
   ],
   "source": [
    "\n",
    "#model = YOLO(\"yolov8n.pt\")  # You can also use yolov8s.pt, yolov8m.pt, etc.\n",
    "\n",
    "# Train it on your dataset\n",
    "model.train(\n",
    "    data=r\"C:\\Users\\ayush\\Downloads\\Accident detection model.v2i.yolov8\\data.yaml\",       # Refers to the YAML file you already have\n",
    "    epochs=50,\n",
    "    imgsz=640,\n",
    "    batch=16,\n",
    "    name=\"accident_yolov8\"\n",
    ")"
   ]
  },
  {
   "cell_type": "code",
   "execution_count": 10,
   "metadata": {},
   "outputs": [
    {
     "name": "stdout",
     "output_type": "stream",
     "text": [
      "Ultralytics 8.3.31  Python-3.11.9 torch-2.5.1+cpu CPU (12th Gen Intel Core(TM) i5-1235U)\n"
     ]
    },
    {
     "name": "stderr",
     "output_type": "stream",
     "text": [
      "\u001b[34m\u001b[1mval: \u001b[0mScanning C:\\Users\\ayush\\Downloads\\Accident detection model.v2i.yolov8\\test\\labels.cache... 362 images, 186 backgrounds, 0 corrupt: 100%|██████████| 362/362 [00:00<?, ?it/s]\n",
      "                 Class     Images  Instances      Box(P          R      mAP50  mAP50-95): 100%|██████████| 23/23 [00:33<00:00,  1.46s/it]\n"
     ]
    },
    {
     "name": "stdout",
     "output_type": "stream",
     "text": [
      "                   all        362        204      0.782      0.833      0.833      0.416\n",
      "Speed: 1.4ms preprocess, 83.6ms inference, 0.0ms loss, 0.4ms postprocess per image\n",
      "Results saved to \u001b[1mruns\\detect\\accident_yolov873\u001b[0m\n",
      "ultralytics.utils.metrics.DetMetrics object with attributes:\n",
      "\n",
      "ap_class_index: array([0])\n",
      "box: ultralytics.utils.metrics.Metric object\n",
      "confusion_matrix: <ultralytics.utils.metrics.ConfusionMatrix object at 0x00000289200C16D0>\n",
      "curves: ['Precision-Recall(B)', 'F1-Confidence(B)', 'Precision-Confidence(B)', 'Recall-Confidence(B)']\n",
      "curves_results: [[array([          0,    0.001001,    0.002002,    0.003003,    0.004004,    0.005005,    0.006006,    0.007007,    0.008008,    0.009009,     0.01001,    0.011011,    0.012012,    0.013013,    0.014014,    0.015015,    0.016016,    0.017017,    0.018018,    0.019019,     0.02002,    0.021021,    0.022022,    0.023023,\n",
      "          0.024024,    0.025025,    0.026026,    0.027027,    0.028028,    0.029029,     0.03003,    0.031031,    0.032032,    0.033033,    0.034034,    0.035035,    0.036036,    0.037037,    0.038038,    0.039039,     0.04004,    0.041041,    0.042042,    0.043043,    0.044044,    0.045045,    0.046046,    0.047047,\n",
      "          0.048048,    0.049049,     0.05005,    0.051051,    0.052052,    0.053053,    0.054054,    0.055055,    0.056056,    0.057057,    0.058058,    0.059059,     0.06006,    0.061061,    0.062062,    0.063063,    0.064064,    0.065065,    0.066066,    0.067067,    0.068068,    0.069069,     0.07007,    0.071071,\n",
      "          0.072072,    0.073073,    0.074074,    0.075075,    0.076076,    0.077077,    0.078078,    0.079079,     0.08008,    0.081081,    0.082082,    0.083083,    0.084084,    0.085085,    0.086086,    0.087087,    0.088088,    0.089089,     0.09009,    0.091091,    0.092092,    0.093093,    0.094094,    0.095095,\n",
      "          0.096096,    0.097097,    0.098098,    0.099099,      0.1001,      0.1011,      0.1021,      0.1031,      0.1041,     0.10511,     0.10611,     0.10711,     0.10811,     0.10911,     0.11011,     0.11111,     0.11211,     0.11311,     0.11411,     0.11512,     0.11612,     0.11712,     0.11812,     0.11912,\n",
      "           0.12012,     0.12112,     0.12212,     0.12312,     0.12412,     0.12513,     0.12613,     0.12713,     0.12813,     0.12913,     0.13013,     0.13113,     0.13213,     0.13313,     0.13413,     0.13514,     0.13614,     0.13714,     0.13814,     0.13914,     0.14014,     0.14114,     0.14214,     0.14314,\n",
      "           0.14414,     0.14515,     0.14615,     0.14715,     0.14815,     0.14915,     0.15015,     0.15115,     0.15215,     0.15315,     0.15415,     0.15516,     0.15616,     0.15716,     0.15816,     0.15916,     0.16016,     0.16116,     0.16216,     0.16316,     0.16416,     0.16517,     0.16617,     0.16717,\n",
      "           0.16817,     0.16917,     0.17017,     0.17117,     0.17217,     0.17317,     0.17417,     0.17518,     0.17618,     0.17718,     0.17818,     0.17918,     0.18018,     0.18118,     0.18218,     0.18318,     0.18418,     0.18519,     0.18619,     0.18719,     0.18819,     0.18919,     0.19019,     0.19119,\n",
      "           0.19219,     0.19319,     0.19419,      0.1952,      0.1962,      0.1972,      0.1982,      0.1992,      0.2002,      0.2012,      0.2022,      0.2032,      0.2042,     0.20521,     0.20621,     0.20721,     0.20821,     0.20921,     0.21021,     0.21121,     0.21221,     0.21321,     0.21421,     0.21522,\n",
      "           0.21622,     0.21722,     0.21822,     0.21922,     0.22022,     0.22122,     0.22222,     0.22322,     0.22422,     0.22523,     0.22623,     0.22723,     0.22823,     0.22923,     0.23023,     0.23123,     0.23223,     0.23323,     0.23423,     0.23524,     0.23624,     0.23724,     0.23824,     0.23924,\n",
      "           0.24024,     0.24124,     0.24224,     0.24324,     0.24424,     0.24525,     0.24625,     0.24725,     0.24825,     0.24925,     0.25025,     0.25125,     0.25225,     0.25325,     0.25425,     0.25526,     0.25626,     0.25726,     0.25826,     0.25926,     0.26026,     0.26126,     0.26226,     0.26326,\n",
      "           0.26426,     0.26527,     0.26627,     0.26727,     0.26827,     0.26927,     0.27027,     0.27127,     0.27227,     0.27327,     0.27427,     0.27528,     0.27628,     0.27728,     0.27828,     0.27928,     0.28028,     0.28128,     0.28228,     0.28328,     0.28428,     0.28529,     0.28629,     0.28729,\n",
      "           0.28829,     0.28929,     0.29029,     0.29129,     0.29229,     0.29329,     0.29429,      0.2953,      0.2963,      0.2973,      0.2983,      0.2993,      0.3003,      0.3013,      0.3023,      0.3033,      0.3043,     0.30531,     0.30631,     0.30731,     0.30831,     0.30931,     0.31031,     0.31131,\n",
      "           0.31231,     0.31331,     0.31431,     0.31532,     0.31632,     0.31732,     0.31832,     0.31932,     0.32032,     0.32132,     0.32232,     0.32332,     0.32432,     0.32533,     0.32633,     0.32733,     0.32833,     0.32933,     0.33033,     0.33133,     0.33233,     0.33333,     0.33433,     0.33534,\n",
      "           0.33634,     0.33734,     0.33834,     0.33934,     0.34034,     0.34134,     0.34234,     0.34334,     0.34434,     0.34535,     0.34635,     0.34735,     0.34835,     0.34935,     0.35035,     0.35135,     0.35235,     0.35335,     0.35435,     0.35536,     0.35636,     0.35736,     0.35836,     0.35936,\n",
      "           0.36036,     0.36136,     0.36236,     0.36336,     0.36436,     0.36537,     0.36637,     0.36737,     0.36837,     0.36937,     0.37037,     0.37137,     0.37237,     0.37337,     0.37437,     0.37538,     0.37638,     0.37738,     0.37838,     0.37938,     0.38038,     0.38138,     0.38238,     0.38338,\n",
      "           0.38438,     0.38539,     0.38639,     0.38739,     0.38839,     0.38939,     0.39039,     0.39139,     0.39239,     0.39339,     0.39439,      0.3954,      0.3964,      0.3974,      0.3984,      0.3994,      0.4004,      0.4014,      0.4024,      0.4034,      0.4044,     0.40541,     0.40641,     0.40741,\n",
      "           0.40841,     0.40941,     0.41041,     0.41141,     0.41241,     0.41341,     0.41441,     0.41542,     0.41642,     0.41742,     0.41842,     0.41942,     0.42042,     0.42142,     0.42242,     0.42342,     0.42442,     0.42543,     0.42643,     0.42743,     0.42843,     0.42943,     0.43043,     0.43143,\n",
      "           0.43243,     0.43343,     0.43443,     0.43544,     0.43644,     0.43744,     0.43844,     0.43944,     0.44044,     0.44144,     0.44244,     0.44344,     0.44444,     0.44545,     0.44645,     0.44745,     0.44845,     0.44945,     0.45045,     0.45145,     0.45245,     0.45345,     0.45445,     0.45546,\n",
      "           0.45646,     0.45746,     0.45846,     0.45946,     0.46046,     0.46146,     0.46246,     0.46346,     0.46446,     0.46547,     0.46647,     0.46747,     0.46847,     0.46947,     0.47047,     0.47147,     0.47247,     0.47347,     0.47447,     0.47548,     0.47648,     0.47748,     0.47848,     0.47948,\n",
      "           0.48048,     0.48148,     0.48248,     0.48348,     0.48448,     0.48549,     0.48649,     0.48749,     0.48849,     0.48949,     0.49049,     0.49149,     0.49249,     0.49349,     0.49449,      0.4955,      0.4965,      0.4975,      0.4985,      0.4995,      0.5005,      0.5015,      0.5025,      0.5035,\n",
      "            0.5045,     0.50551,     0.50651,     0.50751,     0.50851,     0.50951,     0.51051,     0.51151,     0.51251,     0.51351,     0.51451,     0.51552,     0.51652,     0.51752,     0.51852,     0.51952,     0.52052,     0.52152,     0.52252,     0.52352,     0.52452,     0.52553,     0.52653,     0.52753,\n",
      "           0.52853,     0.52953,     0.53053,     0.53153,     0.53253,     0.53353,     0.53453,     0.53554,     0.53654,     0.53754,     0.53854,     0.53954,     0.54054,     0.54154,     0.54254,     0.54354,     0.54454,     0.54555,     0.54655,     0.54755,     0.54855,     0.54955,     0.55055,     0.55155,\n",
      "           0.55255,     0.55355,     0.55455,     0.55556,     0.55656,     0.55756,     0.55856,     0.55956,     0.56056,     0.56156,     0.56256,     0.56356,     0.56456,     0.56557,     0.56657,     0.56757,     0.56857,     0.56957,     0.57057,     0.57157,     0.57257,     0.57357,     0.57457,     0.57558,\n",
      "           0.57658,     0.57758,     0.57858,     0.57958,     0.58058,     0.58158,     0.58258,     0.58358,     0.58458,     0.58559,     0.58659,     0.58759,     0.58859,     0.58959,     0.59059,     0.59159,     0.59259,     0.59359,     0.59459,      0.5956,      0.5966,      0.5976,      0.5986,      0.5996,\n",
      "            0.6006,      0.6016,      0.6026,      0.6036,      0.6046,     0.60561,     0.60661,     0.60761,     0.60861,     0.60961,     0.61061,     0.61161,     0.61261,     0.61361,     0.61461,     0.61562,     0.61662,     0.61762,     0.61862,     0.61962,     0.62062,     0.62162,     0.62262,     0.62362,\n",
      "           0.62462,     0.62563,     0.62663,     0.62763,     0.62863,     0.62963,     0.63063,     0.63163,     0.63263,     0.63363,     0.63463,     0.63564,     0.63664,     0.63764,     0.63864,     0.63964,     0.64064,     0.64164,     0.64264,     0.64364,     0.64464,     0.64565,     0.64665,     0.64765,\n",
      "           0.64865,     0.64965,     0.65065,     0.65165,     0.65265,     0.65365,     0.65465,     0.65566,     0.65666,     0.65766,     0.65866,     0.65966,     0.66066,     0.66166,     0.66266,     0.66366,     0.66466,     0.66567,     0.66667,     0.66767,     0.66867,     0.66967,     0.67067,     0.67167,\n",
      "           0.67267,     0.67367,     0.67467,     0.67568,     0.67668,     0.67768,     0.67868,     0.67968,     0.68068,     0.68168,     0.68268,     0.68368,     0.68468,     0.68569,     0.68669,     0.68769,     0.68869,     0.68969,     0.69069,     0.69169,     0.69269,     0.69369,     0.69469,      0.6957,\n",
      "            0.6967,      0.6977,      0.6987,      0.6997,      0.7007,      0.7017,      0.7027,      0.7037,      0.7047,     0.70571,     0.70671,     0.70771,     0.70871,     0.70971,     0.71071,     0.71171,     0.71271,     0.71371,     0.71471,     0.71572,     0.71672,     0.71772,     0.71872,     0.71972,\n",
      "           0.72072,     0.72172,     0.72272,     0.72372,     0.72472,     0.72573,     0.72673,     0.72773,     0.72873,     0.72973,     0.73073,     0.73173,     0.73273,     0.73373,     0.73473,     0.73574,     0.73674,     0.73774,     0.73874,     0.73974,     0.74074,     0.74174,     0.74274,     0.74374,\n",
      "           0.74474,     0.74575,     0.74675,     0.74775,     0.74875,     0.74975,     0.75075,     0.75175,     0.75275,     0.75375,     0.75475,     0.75576,     0.75676,     0.75776,     0.75876,     0.75976,     0.76076,     0.76176,     0.76276,     0.76376,     0.76476,     0.76577,     0.76677,     0.76777,\n",
      "           0.76877,     0.76977,     0.77077,     0.77177,     0.77277,     0.77377,     0.77477,     0.77578,     0.77678,     0.77778,     0.77878,     0.77978,     0.78078,     0.78178,     0.78278,     0.78378,     0.78478,     0.78579,     0.78679,     0.78779,     0.78879,     0.78979,     0.79079,     0.79179,\n",
      "           0.79279,     0.79379,     0.79479,      0.7958,      0.7968,      0.7978,      0.7988,      0.7998,      0.8008,      0.8018,      0.8028,      0.8038,      0.8048,     0.80581,     0.80681,     0.80781,     0.80881,     0.80981,     0.81081,     0.81181,     0.81281,     0.81381,     0.81481,     0.81582,\n",
      "           0.81682,     0.81782,     0.81882,     0.81982,     0.82082,     0.82182,     0.82282,     0.82382,     0.82482,     0.82583,     0.82683,     0.82783,     0.82883,     0.82983,     0.83083,     0.83183,     0.83283,     0.83383,     0.83483,     0.83584,     0.83684,     0.83784,     0.83884,     0.83984,\n",
      "           0.84084,     0.84184,     0.84284,     0.84384,     0.84484,     0.84585,     0.84685,     0.84785,     0.84885,     0.84985,     0.85085,     0.85185,     0.85285,     0.85385,     0.85485,     0.85586,     0.85686,     0.85786,     0.85886,     0.85986,     0.86086,     0.86186,     0.86286,     0.86386,\n",
      "           0.86486,     0.86587,     0.86687,     0.86787,     0.86887,     0.86987,     0.87087,     0.87187,     0.87287,     0.87387,     0.87487,     0.87588,     0.87688,     0.87788,     0.87888,     0.87988,     0.88088,     0.88188,     0.88288,     0.88388,     0.88488,     0.88589,     0.88689,     0.88789,\n",
      "           0.88889,     0.88989,     0.89089,     0.89189,     0.89289,     0.89389,     0.89489,      0.8959,      0.8969,      0.8979,      0.8989,      0.8999,      0.9009,      0.9019,      0.9029,      0.9039,      0.9049,     0.90591,     0.90691,     0.90791,     0.90891,     0.90991,     0.91091,     0.91191,\n",
      "           0.91291,     0.91391,     0.91491,     0.91592,     0.91692,     0.91792,     0.91892,     0.91992,     0.92092,     0.92192,     0.92292,     0.92392,     0.92492,     0.92593,     0.92693,     0.92793,     0.92893,     0.92993,     0.93093,     0.93193,     0.93293,     0.93393,     0.93493,     0.93594,\n",
      "           0.93694,     0.93794,     0.93894,     0.93994,     0.94094,     0.94194,     0.94294,     0.94394,     0.94494,     0.94595,     0.94695,     0.94795,     0.94895,     0.94995,     0.95095,     0.95195,     0.95295,     0.95395,     0.95495,     0.95596,     0.95696,     0.95796,     0.95896,     0.95996,\n",
      "           0.96096,     0.96196,     0.96296,     0.96396,     0.96496,     0.96597,     0.96697,     0.96797,     0.96897,     0.96997,     0.97097,     0.97197,     0.97297,     0.97397,     0.97497,     0.97598,     0.97698,     0.97798,     0.97898,     0.97998,     0.98098,     0.98198,     0.98298,     0.98398,\n",
      "           0.98498,     0.98599,     0.98699,     0.98799,     0.98899,     0.98999,     0.99099,     0.99199,     0.99299,     0.99399,     0.99499,       0.996,       0.997,       0.998,       0.999,           1]), array([[          1,           1,           1,           1,           1,           1,           1,           1,           1,           1,           1,           1,           1,           1,           1,           1,           1,           1,           1,           1,           1,           1,           1,\n",
      "                  1,           1,           1,           1,           1,           1,           1,           1,           1,           1,           1,           1,           1,           1,           1,           1,           1,           1,           1,           1,           1,           1,           1,\n",
      "                  1,           1,           1,           1,           1,           1,           1,           1,           1,           1,           1,           1,           1,           1,           1,           1,           1,           1,           1,           1,           1,           1,           1,\n",
      "                  1,           1,           1,           1,           1,           1,           1,           1,           1,           1,           1,           1,           1,           1,           1,           1,           1,           1,           1,           1,           1,           1,           1,\n",
      "                  1,           1,           1,           1,           1,           1,           1,           1,           1,           1,           1,           1,           1,           1,           1,           1,           1,           1,           1,           1,           1,           1,           1,\n",
      "                  1,           1,           1,           1,           1,           1,           1,           1,     0.96429,     0.96429,     0.96429,     0.96429,     0.96429,     0.96429,     0.96429,     0.96429,     0.96429,     0.96429,     0.94286,     0.94286,     0.94286,     0.94286,     0.94286,\n",
      "            0.94286,     0.94286,     0.94286,     0.94286,     0.94286,     0.94286,     0.94286,     0.94286,     0.94286,     0.94286,     0.94286,     0.94286,     0.94286,     0.94286,     0.94286,     0.94286,     0.94286,     0.94286,     0.94286,     0.94286,     0.94286,     0.94286,     0.94286,\n",
      "            0.94286,     0.92105,     0.92105,     0.92105,     0.92105,     0.92105,     0.92105,     0.92105,     0.92105,     0.92105,     0.92105,     0.92105,     0.92105,     0.92105,     0.92105,     0.92105,     0.92105,     0.92105,     0.92105,     0.92105,     0.92105,     0.92105,     0.92105,\n",
      "            0.92105,     0.92105,     0.92105,     0.92105,     0.92105,     0.92105,     0.92105,     0.92105,     0.92105,     0.92105,     0.92105,     0.92105,     0.92105,     0.92105,     0.92105,     0.92105,     0.92105,     0.92105,     0.92105,     0.92105,     0.92105,     0.92105,     0.92105,\n",
      "            0.92105,     0.92105,     0.92105,     0.92105,     0.92105,     0.92105,     0.92105,     0.92105,     0.92105,     0.92105,     0.92105,     0.92105,     0.92105,     0.92105,     0.92105,     0.92105,     0.92105,     0.92105,     0.92105,     0.92105,     0.92105,     0.92105,     0.92105,\n",
      "            0.92105,     0.92105,     0.92105,     0.92105,     0.92105,     0.92105,     0.92105,     0.92105,     0.92105,     0.92105,     0.92105,     0.92105,     0.92105,     0.92105,     0.92105,     0.92105,     0.92105,     0.92105,     0.92105,     0.92105,     0.92105,     0.92105,     0.92105,\n",
      "            0.92105,     0.92105,     0.92105,     0.92105,     0.92105,     0.92105,     0.92105,     0.92105,     0.92105,     0.92105,     0.92105,     0.92105,     0.92105,     0.92105,     0.92105,     0.92105,     0.92105,     0.92105,     0.92105,     0.92105,     0.92105,     0.92105,     0.92105,\n",
      "            0.92105,     0.92105,     0.92105,     0.92105,     0.92105,     0.92105,     0.92105,     0.92105,     0.92105,     0.92105,     0.92105,     0.92105,     0.92105,     0.92105,     0.92105,     0.92105,     0.92105,     0.92105,     0.92105,     0.92105,     0.92105,     0.92105,     0.92105,\n",
      "            0.92105,     0.92105,     0.92105,     0.92105,     0.92105,     0.92105,     0.92105,     0.92105,     0.92105,     0.92105,     0.92105,     0.92105,     0.92105,     0.92105,     0.92105,     0.92105,     0.92105,     0.92105,     0.92105,     0.92105,     0.92105,     0.92105,     0.92105,\n",
      "            0.92105,     0.92105,     0.92105,     0.92105,     0.92105,     0.92105,     0.92105,     0.92105,     0.92105,     0.92105,     0.92105,     0.92105,     0.92105,     0.92105,     0.92105,     0.92105,     0.92105,     0.92105,     0.92105,     0.92105,     0.92105,     0.91818,     0.91818,\n",
      "            0.91818,     0.91818,     0.91818,     0.91818,     0.91818,     0.91818,     0.91818,     0.91818,     0.91818,     0.91818,     0.91818,     0.91818,     0.91818,     0.91818,     0.91818,     0.91818,     0.91818,     0.91818,     0.91818,     0.91818,     0.91818,     0.91818,     0.91818,\n",
      "            0.91818,     0.91818,     0.91818,     0.91818,     0.91818,     0.91818,     0.91818,     0.91818,     0.91818,     0.91818,     0.91818,     0.91818,     0.91818,     0.91818,     0.91818,     0.91818,     0.91818,     0.91818,     0.91818,     0.91818,     0.91818,     0.91818,     0.91818,\n",
      "            0.91818,     0.91818,     0.91818,     0.91818,     0.91818,     0.91818,     0.91818,     0.91818,     0.91818,     0.91818,     0.91818,     0.91818,     0.91818,     0.91818,     0.91818,     0.91818,     0.91818,     0.91818,     0.91818,     0.91818,     0.91818,     0.91818,     0.91818,\n",
      "            0.91818,     0.91818,     0.91818,     0.91818,     0.91818,     0.91818,     0.91818,     0.91818,     0.91818,     0.91818,     0.91818,     0.91818,     0.91818,     0.91818,     0.91818,     0.91818,     0.91818,     0.91818,     0.91818,     0.91818,     0.91818,     0.91818,     0.91818,\n",
      "            0.91818,     0.91818,     0.91818,     0.91818,     0.91818,     0.91818,     0.91818,     0.91818,     0.91818,     0.91818,     0.91818,     0.91818,     0.91818,     0.91818,     0.91818,     0.91818,     0.91818,     0.91818,     0.91818,     0.91818,     0.91818,     0.91818,     0.91818,\n",
      "            0.91818,     0.91818,     0.91818,     0.91818,     0.91818,     0.91818,     0.91818,     0.91818,     0.91818,     0.91818,     0.91818,     0.91818,     0.91818,     0.91818,     0.91818,     0.91818,     0.91818,     0.91818,     0.91818,     0.91818,     0.91818,     0.91818,     0.91818,\n",
      "            0.91818,     0.91818,     0.91818,     0.91818,     0.91818,     0.91818,     0.91818,     0.91818,     0.91818,     0.91818,     0.91818,     0.91818,     0.90517,     0.90517,     0.90517,     0.90517,     0.90517,     0.90517,     0.90517,     0.90517,     0.90517,     0.90517,     0.90517,\n",
      "            0.90517,     0.90517,     0.90517,     0.90517,     0.90517,     0.90517,     0.90517,     0.90517,     0.90517,      0.8843,      0.8843,      0.8843,      0.8843,      0.8843,      0.8843,      0.8843,      0.8843,      0.8843,     0.87805,     0.87805,     0.87805,     0.87805,     0.87805,\n",
      "            0.87302,     0.87302,     0.87302,     0.87302,     0.87302,     0.87302,     0.87302,     0.87302,     0.87302,     0.87302,     0.87218,     0.87218,     0.87218,     0.87218,     0.87218,     0.87218,     0.87218,     0.87218,     0.87218,     0.87218,     0.87218,     0.87218,     0.87218,\n",
      "            0.87218,     0.87218,     0.87218,     0.87218,     0.87218,     0.87218,     0.87218,     0.87218,     0.87218,     0.87218,     0.87218,     0.87218,     0.87218,     0.87218,     0.87218,     0.87218,     0.87218,      0.8662,      0.8662,      0.8662,      0.8662,      0.8662,      0.8662,\n",
      "             0.8662,      0.8662,      0.8662,      0.8662,      0.8662,      0.8662,      0.8662,      0.8662,      0.8662,      0.8662,      0.8662,      0.8662,      0.8662,      0.8662,      0.8662,      0.8662,      0.8662,      0.8662,      0.8662,      0.8662,      0.8662,      0.8662,      0.8662,\n",
      "             0.8662,      0.8662,      0.8662,      0.8662,      0.8662,      0.8642,      0.8642,      0.8642,      0.8642,      0.8642,      0.8642,      0.8642,      0.8642,      0.8642,      0.8642,      0.8642,      0.8642,      0.8642,      0.8642,      0.8642,      0.8642,      0.8642,      0.8642,\n",
      "             0.8642,      0.8642,      0.8642,      0.8642,      0.8642,      0.8642,      0.8642,      0.8642,      0.8642,      0.8642,      0.8642,      0.8642,      0.8642,      0.8642,      0.8642,      0.8642,      0.8642,      0.8642,      0.8642,      0.8642,      0.8642,      0.8642,      0.8642,\n",
      "             0.8642,      0.8642,      0.8642,      0.8642,      0.8642,      0.8642,      0.8642,      0.8642,      0.8642,      0.8642,      0.8642,      0.8642,      0.8642,      0.8642,      0.8642,      0.8642,      0.8642,      0.8642,      0.8642,      0.8642,      0.8642,      0.8642,      0.8642,\n",
      "             0.8642,      0.8642,      0.8642,      0.8642,      0.8642,      0.8642,      0.8642,      0.8642,      0.8642,      0.8642,      0.8642,      0.8642,      0.8642,      0.8642,      0.8642,      0.8642,      0.8642,      0.8642,      0.8642,     0.85629,     0.85629,     0.85629,     0.85629,\n",
      "            0.85629,     0.85629,     0.85629,     0.85629,     0.85629,     0.85629,     0.85629,     0.85629,     0.85629,     0.85629,     0.85629,      0.8538,      0.8538,      0.8538,      0.8538,      0.8538,      0.8538,      0.8538,      0.8538,      0.8538,      0.8538,      0.8538,      0.8538,\n",
      "             0.8538,      0.8538,     0.84659,     0.84659,     0.84659,     0.84659,     0.84659,     0.84659,     0.84659,     0.84659,     0.84659,     0.84659,     0.84659,     0.84659,     0.84659,     0.84659,     0.84659,     0.83889,     0.83889,     0.83889,     0.83889,     0.83889,     0.83889,\n",
      "            0.83889,     0.83889,     0.83889,     0.83889,     0.83607,     0.83607,     0.83607,     0.83607,     0.83607,     0.83607,     0.83607,     0.83607,     0.83607,     0.83607,     0.83243,     0.83243,     0.83243,     0.83243,     0.83243,     0.82888,     0.82888,     0.82888,     0.82888,\n",
      "            0.82888,     0.82828,     0.82828,     0.82828,     0.82828,     0.82828,     0.82828,     0.82828,     0.82828,     0.82828,     0.82828,     0.82828,     0.82828,     0.82828,     0.82828,     0.82828,     0.82828,     0.82828,     0.82828,     0.82828,     0.82828,     0.82828,     0.82828,\n",
      "            0.82828,     0.82828,     0.82828,     0.82828,     0.82828,     0.82828,     0.82828,     0.82828,     0.82828,     0.82828,     0.82828,     0.82828,     0.82828,     0.82828,     0.82828,     0.82828,     0.82828,     0.82828,     0.82828,     0.82828,     0.82828,     0.82828,      0.8209,\n",
      "             0.8209,      0.8209,      0.8209,      0.8209,     0.81773,     0.81773,     0.81773,     0.81773,     0.80288,     0.80288,     0.80288,     0.80288,     0.80288,     0.80095,     0.80095,     0.80095,     0.80095,     0.80095,     0.80095,     0.80095,     0.80095,     0.80095,     0.80095,\n",
      "            0.78704,     0.78704,     0.78704,     0.78704,     0.78704,     0.76444,     0.76444,     0.76444,     0.76444,     0.76444,     0.76444,     0.76444,     0.76444,     0.76444,     0.76444,        0.75,        0.75,        0.75,        0.75,        0.75,        0.75,        0.75,        0.75,\n",
      "               0.75,        0.75,      0.7384,      0.7384,      0.7384,      0.7384,      0.7364,      0.7364,      0.7364,      0.7364,      0.7364,      0.7284,      0.7284,      0.7284,      0.7284,      0.7284,     0.72653,     0.72653,     0.72653,     0.72653,     0.72653,       0.716,       0.716,\n",
      "              0.716,       0.716,       0.716,     0.68441,     0.68441,     0.68441,     0.68441,     0.68441,     0.68045,     0.68045,     0.68045,     0.68045,     0.68045,     0.62543,     0.62543,     0.62543,     0.62543,     0.62543,     0.62162,     0.62162,     0.62162,     0.62162,     0.62162,\n",
      "            0.62162,     0.62162,     0.62162,     0.62162,     0.62162,     0.59871,     0.59871,     0.59871,     0.59871,     0.58491,     0.58491,     0.58491,     0.58491,     0.58491,     0.57057,     0.57057,     0.57057,     0.57057,     0.57057,     0.57057,     0.57057,     0.57057,     0.57057,\n",
      "            0.57057,     0.57057,     0.57057,     0.57057,     0.57057,     0.57057,     0.57057,     0.57057,     0.57057,     0.57057,     0.57057,     0.48849,     0.48849,     0.48849,     0.48849,     0.48849,     0.48485,     0.48485,     0.48485,     0.48485,     0.48485,      0.4089,      0.4089,\n",
      "             0.4089,      0.4089,      0.4089,     0.29261,     0.29261,     0.29261,     0.29261,     0.29261,     0.27273,     0.27273,     0.27273,     0.27273,     0.08544,     0.08544,     0.08544,     0.08544,     0.08544,    0.078486,    0.076474,    0.074461,    0.072449,    0.070436,    0.068424,\n",
      "           0.066412,    0.064399,    0.062387,    0.060374,    0.058362,    0.056349,    0.054337,    0.052324,    0.050312,    0.048299,    0.046287,    0.044274,    0.042262,    0.040249,    0.038237,    0.036224,    0.034212,      0.0322,    0.030187,    0.028175,    0.026162,     0.02415,    0.022137,\n",
      "           0.020125,    0.018112,      0.0161,    0.014087,    0.012075,    0.010062,   0.0080499,   0.0060374,   0.0040249,   0.0020125,           0]]), 'Recall', 'Precision'], [array([          0,    0.001001,    0.002002,    0.003003,    0.004004,    0.005005,    0.006006,    0.007007,    0.008008,    0.009009,     0.01001,    0.011011,    0.012012,    0.013013,    0.014014,    0.015015,    0.016016,    0.017017,    0.018018,    0.019019,     0.02002,    0.021021,    0.022022,    0.023023,\n",
      "          0.024024,    0.025025,    0.026026,    0.027027,    0.028028,    0.029029,     0.03003,    0.031031,    0.032032,    0.033033,    0.034034,    0.035035,    0.036036,    0.037037,    0.038038,    0.039039,     0.04004,    0.041041,    0.042042,    0.043043,    0.044044,    0.045045,    0.046046,    0.047047,\n",
      "          0.048048,    0.049049,     0.05005,    0.051051,    0.052052,    0.053053,    0.054054,    0.055055,    0.056056,    0.057057,    0.058058,    0.059059,     0.06006,    0.061061,    0.062062,    0.063063,    0.064064,    0.065065,    0.066066,    0.067067,    0.068068,    0.069069,     0.07007,    0.071071,\n",
      "          0.072072,    0.073073,    0.074074,    0.075075,    0.076076,    0.077077,    0.078078,    0.079079,     0.08008,    0.081081,    0.082082,    0.083083,    0.084084,    0.085085,    0.086086,    0.087087,    0.088088,    0.089089,     0.09009,    0.091091,    0.092092,    0.093093,    0.094094,    0.095095,\n",
      "          0.096096,    0.097097,    0.098098,    0.099099,      0.1001,      0.1011,      0.1021,      0.1031,      0.1041,     0.10511,     0.10611,     0.10711,     0.10811,     0.10911,     0.11011,     0.11111,     0.11211,     0.11311,     0.11411,     0.11512,     0.11612,     0.11712,     0.11812,     0.11912,\n",
      "           0.12012,     0.12112,     0.12212,     0.12312,     0.12412,     0.12513,     0.12613,     0.12713,     0.12813,     0.12913,     0.13013,     0.13113,     0.13213,     0.13313,     0.13413,     0.13514,     0.13614,     0.13714,     0.13814,     0.13914,     0.14014,     0.14114,     0.14214,     0.14314,\n",
      "           0.14414,     0.14515,     0.14615,     0.14715,     0.14815,     0.14915,     0.15015,     0.15115,     0.15215,     0.15315,     0.15415,     0.15516,     0.15616,     0.15716,     0.15816,     0.15916,     0.16016,     0.16116,     0.16216,     0.16316,     0.16416,     0.16517,     0.16617,     0.16717,\n",
      "           0.16817,     0.16917,     0.17017,     0.17117,     0.17217,     0.17317,     0.17417,     0.17518,     0.17618,     0.17718,     0.17818,     0.17918,     0.18018,     0.18118,     0.18218,     0.18318,     0.18418,     0.18519,     0.18619,     0.18719,     0.18819,     0.18919,     0.19019,     0.19119,\n",
      "           0.19219,     0.19319,     0.19419,      0.1952,      0.1962,      0.1972,      0.1982,      0.1992,      0.2002,      0.2012,      0.2022,      0.2032,      0.2042,     0.20521,     0.20621,     0.20721,     0.20821,     0.20921,     0.21021,     0.21121,     0.21221,     0.21321,     0.21421,     0.21522,\n",
      "           0.21622,     0.21722,     0.21822,     0.21922,     0.22022,     0.22122,     0.22222,     0.22322,     0.22422,     0.22523,     0.22623,     0.22723,     0.22823,     0.22923,     0.23023,     0.23123,     0.23223,     0.23323,     0.23423,     0.23524,     0.23624,     0.23724,     0.23824,     0.23924,\n",
      "           0.24024,     0.24124,     0.24224,     0.24324,     0.24424,     0.24525,     0.24625,     0.24725,     0.24825,     0.24925,     0.25025,     0.25125,     0.25225,     0.25325,     0.25425,     0.25526,     0.25626,     0.25726,     0.25826,     0.25926,     0.26026,     0.26126,     0.26226,     0.26326,\n",
      "           0.26426,     0.26527,     0.26627,     0.26727,     0.26827,     0.26927,     0.27027,     0.27127,     0.27227,     0.27327,     0.27427,     0.27528,     0.27628,     0.27728,     0.27828,     0.27928,     0.28028,     0.28128,     0.28228,     0.28328,     0.28428,     0.28529,     0.28629,     0.28729,\n",
      "           0.28829,     0.28929,     0.29029,     0.29129,     0.29229,     0.29329,     0.29429,      0.2953,      0.2963,      0.2973,      0.2983,      0.2993,      0.3003,      0.3013,      0.3023,      0.3033,      0.3043,     0.30531,     0.30631,     0.30731,     0.30831,     0.30931,     0.31031,     0.31131,\n",
      "           0.31231,     0.31331,     0.31431,     0.31532,     0.31632,     0.31732,     0.31832,     0.31932,     0.32032,     0.32132,     0.32232,     0.32332,     0.32432,     0.32533,     0.32633,     0.32733,     0.32833,     0.32933,     0.33033,     0.33133,     0.33233,     0.33333,     0.33433,     0.33534,\n",
      "           0.33634,     0.33734,     0.33834,     0.33934,     0.34034,     0.34134,     0.34234,     0.34334,     0.34434,     0.34535,     0.34635,     0.34735,     0.34835,     0.34935,     0.35035,     0.35135,     0.35235,     0.35335,     0.35435,     0.35536,     0.35636,     0.35736,     0.35836,     0.35936,\n",
      "           0.36036,     0.36136,     0.36236,     0.36336,     0.36436,     0.36537,     0.36637,     0.36737,     0.36837,     0.36937,     0.37037,     0.37137,     0.37237,     0.37337,     0.37437,     0.37538,     0.37638,     0.37738,     0.37838,     0.37938,     0.38038,     0.38138,     0.38238,     0.38338,\n",
      "           0.38438,     0.38539,     0.38639,     0.38739,     0.38839,     0.38939,     0.39039,     0.39139,     0.39239,     0.39339,     0.39439,      0.3954,      0.3964,      0.3974,      0.3984,      0.3994,      0.4004,      0.4014,      0.4024,      0.4034,      0.4044,     0.40541,     0.40641,     0.40741,\n",
      "           0.40841,     0.40941,     0.41041,     0.41141,     0.41241,     0.41341,     0.41441,     0.41542,     0.41642,     0.41742,     0.41842,     0.41942,     0.42042,     0.42142,     0.42242,     0.42342,     0.42442,     0.42543,     0.42643,     0.42743,     0.42843,     0.42943,     0.43043,     0.43143,\n",
      "           0.43243,     0.43343,     0.43443,     0.43544,     0.43644,     0.43744,     0.43844,     0.43944,     0.44044,     0.44144,     0.44244,     0.44344,     0.44444,     0.44545,     0.44645,     0.44745,     0.44845,     0.44945,     0.45045,     0.45145,     0.45245,     0.45345,     0.45445,     0.45546,\n",
      "           0.45646,     0.45746,     0.45846,     0.45946,     0.46046,     0.46146,     0.46246,     0.46346,     0.46446,     0.46547,     0.46647,     0.46747,     0.46847,     0.46947,     0.47047,     0.47147,     0.47247,     0.47347,     0.47447,     0.47548,     0.47648,     0.47748,     0.47848,     0.47948,\n",
      "           0.48048,     0.48148,     0.48248,     0.48348,     0.48448,     0.48549,     0.48649,     0.48749,     0.48849,     0.48949,     0.49049,     0.49149,     0.49249,     0.49349,     0.49449,      0.4955,      0.4965,      0.4975,      0.4985,      0.4995,      0.5005,      0.5015,      0.5025,      0.5035,\n",
      "            0.5045,     0.50551,     0.50651,     0.50751,     0.50851,     0.50951,     0.51051,     0.51151,     0.51251,     0.51351,     0.51451,     0.51552,     0.51652,     0.51752,     0.51852,     0.51952,     0.52052,     0.52152,     0.52252,     0.52352,     0.52452,     0.52553,     0.52653,     0.52753,\n",
      "           0.52853,     0.52953,     0.53053,     0.53153,     0.53253,     0.53353,     0.53453,     0.53554,     0.53654,     0.53754,     0.53854,     0.53954,     0.54054,     0.54154,     0.54254,     0.54354,     0.54454,     0.54555,     0.54655,     0.54755,     0.54855,     0.54955,     0.55055,     0.55155,\n",
      "           0.55255,     0.55355,     0.55455,     0.55556,     0.55656,     0.55756,     0.55856,     0.55956,     0.56056,     0.56156,     0.56256,     0.56356,     0.56456,     0.56557,     0.56657,     0.56757,     0.56857,     0.56957,     0.57057,     0.57157,     0.57257,     0.57357,     0.57457,     0.57558,\n",
      "           0.57658,     0.57758,     0.57858,     0.57958,     0.58058,     0.58158,     0.58258,     0.58358,     0.58458,     0.58559,     0.58659,     0.58759,     0.58859,     0.58959,     0.59059,     0.59159,     0.59259,     0.59359,     0.59459,      0.5956,      0.5966,      0.5976,      0.5986,      0.5996,\n",
      "            0.6006,      0.6016,      0.6026,      0.6036,      0.6046,     0.60561,     0.60661,     0.60761,     0.60861,     0.60961,     0.61061,     0.61161,     0.61261,     0.61361,     0.61461,     0.61562,     0.61662,     0.61762,     0.61862,     0.61962,     0.62062,     0.62162,     0.62262,     0.62362,\n",
      "           0.62462,     0.62563,     0.62663,     0.62763,     0.62863,     0.62963,     0.63063,     0.63163,     0.63263,     0.63363,     0.63463,     0.63564,     0.63664,     0.63764,     0.63864,     0.63964,     0.64064,     0.64164,     0.64264,     0.64364,     0.64464,     0.64565,     0.64665,     0.64765,\n",
      "           0.64865,     0.64965,     0.65065,     0.65165,     0.65265,     0.65365,     0.65465,     0.65566,     0.65666,     0.65766,     0.65866,     0.65966,     0.66066,     0.66166,     0.66266,     0.66366,     0.66466,     0.66567,     0.66667,     0.66767,     0.66867,     0.66967,     0.67067,     0.67167,\n",
      "           0.67267,     0.67367,     0.67467,     0.67568,     0.67668,     0.67768,     0.67868,     0.67968,     0.68068,     0.68168,     0.68268,     0.68368,     0.68468,     0.68569,     0.68669,     0.68769,     0.68869,     0.68969,     0.69069,     0.69169,     0.69269,     0.69369,     0.69469,      0.6957,\n",
      "            0.6967,      0.6977,      0.6987,      0.6997,      0.7007,      0.7017,      0.7027,      0.7037,      0.7047,     0.70571,     0.70671,     0.70771,     0.70871,     0.70971,     0.71071,     0.71171,     0.71271,     0.71371,     0.71471,     0.71572,     0.71672,     0.71772,     0.71872,     0.71972,\n",
      "           0.72072,     0.72172,     0.72272,     0.72372,     0.72472,     0.72573,     0.72673,     0.72773,     0.72873,     0.72973,     0.73073,     0.73173,     0.73273,     0.73373,     0.73473,     0.73574,     0.73674,     0.73774,     0.73874,     0.73974,     0.74074,     0.74174,     0.74274,     0.74374,\n",
      "           0.74474,     0.74575,     0.74675,     0.74775,     0.74875,     0.74975,     0.75075,     0.75175,     0.75275,     0.75375,     0.75475,     0.75576,     0.75676,     0.75776,     0.75876,     0.75976,     0.76076,     0.76176,     0.76276,     0.76376,     0.76476,     0.76577,     0.76677,     0.76777,\n",
      "           0.76877,     0.76977,     0.77077,     0.77177,     0.77277,     0.77377,     0.77477,     0.77578,     0.77678,     0.77778,     0.77878,     0.77978,     0.78078,     0.78178,     0.78278,     0.78378,     0.78478,     0.78579,     0.78679,     0.78779,     0.78879,     0.78979,     0.79079,     0.79179,\n",
      "           0.79279,     0.79379,     0.79479,      0.7958,      0.7968,      0.7978,      0.7988,      0.7998,      0.8008,      0.8018,      0.8028,      0.8038,      0.8048,     0.80581,     0.80681,     0.80781,     0.80881,     0.80981,     0.81081,     0.81181,     0.81281,     0.81381,     0.81481,     0.81582,\n",
      "           0.81682,     0.81782,     0.81882,     0.81982,     0.82082,     0.82182,     0.82282,     0.82382,     0.82482,     0.82583,     0.82683,     0.82783,     0.82883,     0.82983,     0.83083,     0.83183,     0.83283,     0.83383,     0.83483,     0.83584,     0.83684,     0.83784,     0.83884,     0.83984,\n",
      "           0.84084,     0.84184,     0.84284,     0.84384,     0.84484,     0.84585,     0.84685,     0.84785,     0.84885,     0.84985,     0.85085,     0.85185,     0.85285,     0.85385,     0.85485,     0.85586,     0.85686,     0.85786,     0.85886,     0.85986,     0.86086,     0.86186,     0.86286,     0.86386,\n",
      "           0.86486,     0.86587,     0.86687,     0.86787,     0.86887,     0.86987,     0.87087,     0.87187,     0.87287,     0.87387,     0.87487,     0.87588,     0.87688,     0.87788,     0.87888,     0.87988,     0.88088,     0.88188,     0.88288,     0.88388,     0.88488,     0.88589,     0.88689,     0.88789,\n",
      "           0.88889,     0.88989,     0.89089,     0.89189,     0.89289,     0.89389,     0.89489,      0.8959,      0.8969,      0.8979,      0.8989,      0.8999,      0.9009,      0.9019,      0.9029,      0.9039,      0.9049,     0.90591,     0.90691,     0.90791,     0.90891,     0.90991,     0.91091,     0.91191,\n",
      "           0.91291,     0.91391,     0.91491,     0.91592,     0.91692,     0.91792,     0.91892,     0.91992,     0.92092,     0.92192,     0.92292,     0.92392,     0.92492,     0.92593,     0.92693,     0.92793,     0.92893,     0.92993,     0.93093,     0.93193,     0.93293,     0.93393,     0.93493,     0.93594,\n",
      "           0.93694,     0.93794,     0.93894,     0.93994,     0.94094,     0.94194,     0.94294,     0.94394,     0.94494,     0.94595,     0.94695,     0.94795,     0.94895,     0.94995,     0.95095,     0.95195,     0.95295,     0.95395,     0.95495,     0.95596,     0.95696,     0.95796,     0.95896,     0.95996,\n",
      "           0.96096,     0.96196,     0.96296,     0.96396,     0.96496,     0.96597,     0.96697,     0.96797,     0.96897,     0.96997,     0.97097,     0.97197,     0.97297,     0.97397,     0.97497,     0.97598,     0.97698,     0.97798,     0.97898,     0.97998,     0.98098,     0.98198,     0.98298,     0.98398,\n",
      "           0.98498,     0.98599,     0.98699,     0.98799,     0.98899,     0.98999,     0.99099,     0.99199,     0.99299,     0.99399,     0.99499,       0.996,       0.997,       0.998,       0.999,           1]), array([[    0.14572,     0.14575,     0.21023,     0.25387,     0.28365,     0.30955,     0.32893,     0.34597,     0.36306,     0.37407,     0.38593,     0.39601,      0.4054,     0.41906,       0.425,     0.43602,     0.44421,     0.44859,     0.45416,     0.46087,     0.46825,     0.47555,     0.48415,\n",
      "            0.49017,     0.49564,     0.49917,     0.50453,     0.50769,     0.51149,     0.51671,     0.51931,     0.52343,     0.52735,     0.52937,     0.53233,       0.533,     0.53596,      0.5379,     0.53914,     0.54147,     0.54374,     0.54594,     0.54712,     0.54929,     0.55232,     0.55965,\n",
      "            0.56519,     0.56601,     0.56694,     0.56854,     0.56906,     0.57308,     0.57476,     0.57822,     0.58155,     0.58276,     0.58349,     0.58594,     0.58862,     0.59065,     0.59253,     0.59347,     0.59635,     0.59877,     0.60041,     0.60291,     0.60362,     0.60666,     0.60725,\n",
      "            0.60836,     0.60974,      0.6114,     0.61232,     0.61339,     0.61761,     0.61803,     0.61927,     0.62175,     0.62283,      0.6238,     0.62436,     0.62493,     0.62559,      0.6274,     0.63233,     0.63482,     0.63604,     0.63632,     0.63661,     0.63738,     0.63908,     0.63781,\n",
      "            0.63834,     0.63885,     0.63922,      0.6396,      0.6401,     0.64089,      0.6415,     0.64152,     0.64146,     0.64242,     0.64375,     0.64711,     0.64901,        0.65,     0.65089,     0.65242,     0.65392,     0.65686,     0.65887,      0.6595,     0.66085,      0.6644,      0.6651,\n",
      "            0.66612,     0.66866,     0.67011,     0.67203,     0.67371,     0.67502,      0.6753,     0.67558,     0.67585,     0.67613,     0.67761,     0.67791,     0.67822,     0.67852,      0.6794,     0.68067,      0.6818,     0.68245,     0.68283,      0.6832,     0.68361,     0.68407,     0.68454,\n",
      "            0.68526,     0.68641,     0.68861,      0.6894,     0.69062,     0.69291,     0.69407,     0.69525,     0.69623,     0.69662,     0.69701,     0.69736,     0.69765,     0.69793,     0.69822,      0.6985,     0.69907,     0.69968,     0.70016,     0.70061,     0.70105,     0.70258,     0.70357,\n",
      "            0.70417,      0.7047,     0.70527,     0.70588,     0.70649,      0.7071,     0.70678,     0.70496,     0.70463,      0.7043,     0.70396,     0.70363,      0.7033,     0.70297,     0.70189,     0.70229,     0.70269,     0.70237,     0.70093,     0.70184,     0.70344,     0.70385,     0.70426,\n",
      "            0.70462,     0.70485,     0.70509,     0.70532,     0.70555,     0.70579,     0.70751,     0.70801,      0.7085,     0.70896,     0.70942,     0.70987,     0.71022,     0.71055,     0.71088,     0.71121,     0.71153,     0.71184,     0.71215,     0.71246,     0.71247,     0.71205,     0.71163,\n",
      "            0.71121,     0.71079,     0.71037,     0.71033,     0.71063,     0.71092,     0.71122,     0.71152,     0.71316,     0.71354,     0.71391,     0.71428,     0.71606,     0.71767,     0.71849,     0.71904,     0.71959,      0.7204,     0.71949,     0.71934,     0.71999,      0.7222,      0.7239,\n",
      "            0.72481,      0.7254,     0.72631,     0.72878,     0.72897,     0.72917,     0.72936,     0.72955,     0.72975,     0.72994,     0.73013,     0.73214,     0.73278,     0.73457,     0.73484,     0.73512,      0.7354,     0.73567,     0.73595,     0.73508,     0.73392,     0.73171,     0.73221,\n",
      "            0.73269,     0.73302,     0.73334,     0.73367,     0.73408,      0.7346,     0.73513,     0.73468,     0.73352,     0.73293,     0.73331,     0.73368,     0.73406,     0.73613,     0.73712,     0.73772,     0.73825,     0.73878,     0.73941,     0.74004,     0.74052,     0.74091,      0.7413,\n",
      "            0.74168,     0.74239,     0.74323,     0.74498,     0.74576,     0.74642,     0.74658,     0.74673,     0.74689,     0.74705,      0.7472,     0.74736,     0.74752,     0.74767,     0.74783,     0.74954,     0.74983,     0.75012,     0.75041,      0.7507,     0.75099,     0.75226,     0.75397,\n",
      "            0.75436,     0.75459,     0.75481,     0.75503,     0.75525,     0.75547,     0.75569,     0.75735,     0.75759,     0.75782,     0.75805,     0.75829,     0.75852,     0.75876,     0.76009,     0.76084,     0.76121,     0.76159,     0.76196,     0.76298,     0.76393,     0.76439,     0.76486,\n",
      "            0.76532,     0.76734,     0.76797,     0.76865,     0.77003,     0.76918,     0.76833,     0.76796,     0.76957,     0.77023,     0.77087,     0.77017,     0.76947,     0.76876,     0.76992,     0.77008,     0.77023,     0.77039,     0.77055,      0.7707,     0.77086,     0.77101,     0.77117,\n",
      "            0.77132,     0.77148,     0.77215,     0.77324,     0.77379,     0.77434,     0.77488,     0.77593,     0.77681,     0.77742,     0.77802,     0.77887,     0.77986,      0.7802,     0.78047,     0.78073,       0.781,     0.78127,     0.78153,     0.78315,     0.78404,     0.78477,     0.78526,\n",
      "            0.78556,     0.78585,     0.78615,     0.78645,     0.78675,     0.78721,     0.78771,     0.78822,     0.78825,     0.78743,      0.7866,     0.78658,      0.7883,     0.78914,     0.78993,     0.79071,      0.7913,     0.79168,     0.79207,     0.79245,     0.79284,     0.79262,     0.79234,\n",
      "            0.79205,     0.79177,     0.79149,      0.7912,     0.79092,     0.79064,     0.79036,     0.79037,     0.79088,      0.7914,     0.79191,     0.79087,     0.78971,     0.78972,     0.79055,      0.7914,     0.79229,     0.79292,     0.79322,     0.79352,     0.79382,     0.79412,     0.79442,\n",
      "            0.79249,     0.79354,     0.79325,     0.79295,     0.79266,     0.79237,     0.79207,     0.79178,     0.79149,     0.79119,     0.79093,     0.79137,     0.79181,     0.79225,     0.79269,     0.79418,     0.79478,     0.79512,     0.79546,      0.7958,     0.79613,     0.79642,     0.79359,\n",
      "             0.7949,     0.79632,     0.79946,     0.80016,     0.80038,     0.80061,     0.80083,     0.80105,     0.80127,     0.80149,     0.80171,     0.80165,     0.80097,     0.80029,     0.79961,     0.79895,     0.79833,     0.79772,      0.7971,     0.79649,     0.79686,     0.79784,     0.79846,\n",
      "            0.79893,      0.7994,     0.79986,     0.80012,     0.80028,     0.80045,     0.80062,     0.80078,     0.80095,     0.80111,     0.80128,     0.80144,     0.80161,     0.80178,     0.80204,      0.8025,     0.80297,     0.80343,     0.80387,     0.80423,     0.80459,     0.80495,     0.80531,\n",
      "            0.80566,     0.80619,     0.80673,     0.80727,     0.80767,     0.80784,     0.80801,     0.80819,     0.80836,     0.80853,     0.80871,     0.80888,     0.80905,     0.80923,      0.8094,      0.8093,     0.80849,     0.80769,     0.80688,     0.80744,     0.80843,     0.80949,     0.81056,\n",
      "            0.81156,     0.81278,     0.81266,     0.81115,     0.81043,     0.80971,     0.80898,     0.81062,      0.8099,     0.80911,     0.80832,      0.8081,     0.80909,     0.81024,     0.81175,     0.81304,     0.81428,     0.81545,     0.81502,     0.81411,      0.8132,     0.81192,     0.81366,\n",
      "            0.81482,     0.81588,     0.80762,      0.8041,      0.8016,      0.7964,     0.79669,     0.79517,     0.79162,     0.79143,     0.79212,     0.79282,     0.79022,     0.79149,     0.79006,     0.78917,     0.79056,     0.78928,      0.7877,     0.78625,     0.78481,     0.78303,     0.78157,\n",
      "            0.78414,     0.77983,     0.77852,     0.77744,     0.77666,     0.77587,     0.77509,     0.77691,     0.77848,     0.77806,     0.77764,     0.77722,      0.7768,     0.77638,     0.77596,     0.77554,     0.77207,     0.76978,     0.77072,     0.76657,      0.7648,     0.76109,     0.76237,\n",
      "            0.76346,      0.7644,     0.76451,     0.76295,     0.76101,     0.75756,     0.75524,     0.75192,     0.74828,     0.74442,     0.74296,     0.74149,     0.73926,       0.736,      0.7318,     0.72915,     0.72726,     0.72756,     0.72865,     0.72311,     0.71785,     0.71744,     0.71702,\n",
      "             0.7166,     0.71618,     0.71576,     0.71534,     0.71492,      0.7145,     0.71293,     0.71004,     0.70717,     0.70898,     0.70959,      0.7102,      0.7108,     0.70863,     0.70575,     0.69923,     0.69515,     0.69297,     0.68439,       0.687,     0.68795,      0.6872,     0.68471,\n",
      "            0.68086,     0.66854,     0.66649,      0.6647,     0.66518,     0.66566,     0.66614,     0.66662,     0.66358,     0.65869,     0.65927,     0.65985,     0.66043,     0.65716,     0.65705,     0.65777,     0.65828,     0.65326,     0.65037,     0.65107,     0.65177,     0.65237,     0.65286,\n",
      "            0.65334,     0.65382,     0.65468,     0.65601,     0.65536,     0.65471,     0.65407,     0.65342,     0.65277,     0.65212,     0.64951,     0.64672,     0.64412,     0.63972,     0.64151,     0.64251,     0.63893,     0.63695,     0.63496,     0.63343,     0.63198,     0.63054,     0.62942,\n",
      "            0.62839,     0.62736,     0.62633,     0.62396,     0.62075,     0.61877,     0.61677,     0.61449,      0.6122,     0.61007,     0.60793,     0.60276,     0.60183,      0.6009,     0.59997,     0.59904,     0.59706,     0.59441,     0.58895,     0.58475,     0.58165,     0.57383,     0.57062,\n",
      "             0.5662,     0.55183,     0.53965,     0.53655,     0.53785,     0.52733,     0.52073,     0.50761,      0.5048,     0.49138,     0.48664,     0.48188,     0.47619,     0.47209,     0.46634,     0.46405,     0.46175,     0.46004,     0.45838,     0.45672,      0.4542,      0.4508,     0.44653,\n",
      "            0.44303,     0.44038,     0.43075,     0.42565,     0.42392,     0.42219,     0.40853,     0.40532,     0.39568,     0.38486,     0.38152,     0.37838,     0.37934,     0.37636,     0.37331,     0.36935,     0.36285,     0.35348,     0.33848,     0.33449,     0.33087,     0.32883,     0.31515,\n",
      "            0.31043,     0.29487,     0.28727,     0.28496,     0.28265,     0.28208,     0.27978,     0.27747,     0.27516,     0.27547,     0.27596,     0.27082,     0.25536,     0.24974,     0.24492,     0.24058,     0.23237,     0.22484,     0.22272,      0.2206,     0.21847,     0.21749,     0.21768,\n",
      "            0.21786,     0.21805,     0.21823,      0.2177,       0.216,      0.2143,      0.2126,     0.21089,     0.20413,     0.19978,     0.19626,     0.19275,     0.18924,     0.18635,     0.18519,     0.18402,     0.18285,     0.18168,     0.18051,     0.17934,     0.17673,      0.1714,     0.16749,\n",
      "             0.1639,     0.15938,     0.15398,     0.15221,     0.15052,     0.14884,     0.14715,     0.14544,     0.13683,     0.13581,     0.13478,     0.13376,     0.13274,     0.13171,     0.13069,     0.12966,     0.12863,      0.1196,     0.11844,     0.11729,     0.11613,     0.11498,     0.11382,\n",
      "            0.11266,      0.1115,     0.10938,     0.10678,     0.10417,     0.10197,     0.10078,    0.099594,    0.098401,    0.097207,    0.096012,    0.094815,    0.093617,    0.092519,    0.091436,    0.090352,    0.089266,    0.088179,    0.087091,    0.086002,    0.084911,    0.084093,    0.083435,\n",
      "           0.082776,    0.082117,    0.081458,    0.080798,    0.080138,    0.079477,    0.078816,    0.078154,    0.077492,    0.076829,    0.076166,    0.075503,    0.075359,    0.075241,    0.075123,    0.075005,    0.074887,    0.074769,    0.074651,    0.074532,    0.074414,    0.074296,    0.074178,\n",
      "            0.07406,    0.073941,    0.073823,    0.073705,    0.073587,    0.073468,     0.07335,    0.073232,    0.073113,    0.072995,    0.072877,    0.072758,     0.07264,    0.072521,    0.072403,    0.072284,    0.072166,    0.072048,    0.071929,    0.071811,    0.071692,    0.071574,    0.071455,\n",
      "           0.071336,    0.071218,    0.071099,    0.070981,    0.070862,    0.070743,    0.070625,    0.070506,    0.070387,    0.070269,     0.07015,    0.070031,    0.069913,    0.069794,    0.069675,    0.069556,    0.069438,    0.069319,      0.0692,    0.069081,    0.068962,    0.068843,    0.068724,\n",
      "           0.068606,    0.068487,    0.068368,    0.068249,     0.06813,    0.068011,    0.067892,    0.067773,    0.067654,    0.067535,    0.067416,    0.067297,    0.067178,    0.067059,     0.06694,     0.06682,    0.066701,    0.066582,    0.066463,    0.066082,     0.06141,     0.05565,    0.038418,\n",
      "            0.03781,    0.037201,    0.036591,    0.035982,    0.035372,    0.034761,     0.03415,    0.033539,    0.032927,    0.032315,    0.031703,     0.03109,    0.030477,    0.029864,     0.02925,    0.026968,    0.023419,    0.019858,    0.018974,    0.018468,    0.017962,    0.017456,     0.01695,\n",
      "           0.016443,    0.015936,    0.015428,    0.014921,    0.014413,    0.013905,    0.013396,    0.012888,    0.012379,     0.01187,     0.01136,    0.010851,    0.010341,   0.0098306,           0,           0,           0,           0,           0,           0,           0,           0,           0,\n",
      "                  0,           0,           0,           0,           0,           0,           0,           0,           0,           0,           0,           0,           0,           0,           0,           0,           0,           0,           0,           0,           0,           0,           0,\n",
      "                  0,           0,           0,           0,           0,           0,           0,           0,           0,           0,           0]]), 'Confidence', 'F1'], [array([          0,    0.001001,    0.002002,    0.003003,    0.004004,    0.005005,    0.006006,    0.007007,    0.008008,    0.009009,     0.01001,    0.011011,    0.012012,    0.013013,    0.014014,    0.015015,    0.016016,    0.017017,    0.018018,    0.019019,     0.02002,    0.021021,    0.022022,    0.023023,\n",
      "          0.024024,    0.025025,    0.026026,    0.027027,    0.028028,    0.029029,     0.03003,    0.031031,    0.032032,    0.033033,    0.034034,    0.035035,    0.036036,    0.037037,    0.038038,    0.039039,     0.04004,    0.041041,    0.042042,    0.043043,    0.044044,    0.045045,    0.046046,    0.047047,\n",
      "          0.048048,    0.049049,     0.05005,    0.051051,    0.052052,    0.053053,    0.054054,    0.055055,    0.056056,    0.057057,    0.058058,    0.059059,     0.06006,    0.061061,    0.062062,    0.063063,    0.064064,    0.065065,    0.066066,    0.067067,    0.068068,    0.069069,     0.07007,    0.071071,\n",
      "          0.072072,    0.073073,    0.074074,    0.075075,    0.076076,    0.077077,    0.078078,    0.079079,     0.08008,    0.081081,    0.082082,    0.083083,    0.084084,    0.085085,    0.086086,    0.087087,    0.088088,    0.089089,     0.09009,    0.091091,    0.092092,    0.093093,    0.094094,    0.095095,\n",
      "          0.096096,    0.097097,    0.098098,    0.099099,      0.1001,      0.1011,      0.1021,      0.1031,      0.1041,     0.10511,     0.10611,     0.10711,     0.10811,     0.10911,     0.11011,     0.11111,     0.11211,     0.11311,     0.11411,     0.11512,     0.11612,     0.11712,     0.11812,     0.11912,\n",
      "           0.12012,     0.12112,     0.12212,     0.12312,     0.12412,     0.12513,     0.12613,     0.12713,     0.12813,     0.12913,     0.13013,     0.13113,     0.13213,     0.13313,     0.13413,     0.13514,     0.13614,     0.13714,     0.13814,     0.13914,     0.14014,     0.14114,     0.14214,     0.14314,\n",
      "           0.14414,     0.14515,     0.14615,     0.14715,     0.14815,     0.14915,     0.15015,     0.15115,     0.15215,     0.15315,     0.15415,     0.15516,     0.15616,     0.15716,     0.15816,     0.15916,     0.16016,     0.16116,     0.16216,     0.16316,     0.16416,     0.16517,     0.16617,     0.16717,\n",
      "           0.16817,     0.16917,     0.17017,     0.17117,     0.17217,     0.17317,     0.17417,     0.17518,     0.17618,     0.17718,     0.17818,     0.17918,     0.18018,     0.18118,     0.18218,     0.18318,     0.18418,     0.18519,     0.18619,     0.18719,     0.18819,     0.18919,     0.19019,     0.19119,\n",
      "           0.19219,     0.19319,     0.19419,      0.1952,      0.1962,      0.1972,      0.1982,      0.1992,      0.2002,      0.2012,      0.2022,      0.2032,      0.2042,     0.20521,     0.20621,     0.20721,     0.20821,     0.20921,     0.21021,     0.21121,     0.21221,     0.21321,     0.21421,     0.21522,\n",
      "           0.21622,     0.21722,     0.21822,     0.21922,     0.22022,     0.22122,     0.22222,     0.22322,     0.22422,     0.22523,     0.22623,     0.22723,     0.22823,     0.22923,     0.23023,     0.23123,     0.23223,     0.23323,     0.23423,     0.23524,     0.23624,     0.23724,     0.23824,     0.23924,\n",
      "           0.24024,     0.24124,     0.24224,     0.24324,     0.24424,     0.24525,     0.24625,     0.24725,     0.24825,     0.24925,     0.25025,     0.25125,     0.25225,     0.25325,     0.25425,     0.25526,     0.25626,     0.25726,     0.25826,     0.25926,     0.26026,     0.26126,     0.26226,     0.26326,\n",
      "           0.26426,     0.26527,     0.26627,     0.26727,     0.26827,     0.26927,     0.27027,     0.27127,     0.27227,     0.27327,     0.27427,     0.27528,     0.27628,     0.27728,     0.27828,     0.27928,     0.28028,     0.28128,     0.28228,     0.28328,     0.28428,     0.28529,     0.28629,     0.28729,\n",
      "           0.28829,     0.28929,     0.29029,     0.29129,     0.29229,     0.29329,     0.29429,      0.2953,      0.2963,      0.2973,      0.2983,      0.2993,      0.3003,      0.3013,      0.3023,      0.3033,      0.3043,     0.30531,     0.30631,     0.30731,     0.30831,     0.30931,     0.31031,     0.31131,\n",
      "           0.31231,     0.31331,     0.31431,     0.31532,     0.31632,     0.31732,     0.31832,     0.31932,     0.32032,     0.32132,     0.32232,     0.32332,     0.32432,     0.32533,     0.32633,     0.32733,     0.32833,     0.32933,     0.33033,     0.33133,     0.33233,     0.33333,     0.33433,     0.33534,\n",
      "           0.33634,     0.33734,     0.33834,     0.33934,     0.34034,     0.34134,     0.34234,     0.34334,     0.34434,     0.34535,     0.34635,     0.34735,     0.34835,     0.34935,     0.35035,     0.35135,     0.35235,     0.35335,     0.35435,     0.35536,     0.35636,     0.35736,     0.35836,     0.35936,\n",
      "           0.36036,     0.36136,     0.36236,     0.36336,     0.36436,     0.36537,     0.36637,     0.36737,     0.36837,     0.36937,     0.37037,     0.37137,     0.37237,     0.37337,     0.37437,     0.37538,     0.37638,     0.37738,     0.37838,     0.37938,     0.38038,     0.38138,     0.38238,     0.38338,\n",
      "           0.38438,     0.38539,     0.38639,     0.38739,     0.38839,     0.38939,     0.39039,     0.39139,     0.39239,     0.39339,     0.39439,      0.3954,      0.3964,      0.3974,      0.3984,      0.3994,      0.4004,      0.4014,      0.4024,      0.4034,      0.4044,     0.40541,     0.40641,     0.40741,\n",
      "           0.40841,     0.40941,     0.41041,     0.41141,     0.41241,     0.41341,     0.41441,     0.41542,     0.41642,     0.41742,     0.41842,     0.41942,     0.42042,     0.42142,     0.42242,     0.42342,     0.42442,     0.42543,     0.42643,     0.42743,     0.42843,     0.42943,     0.43043,     0.43143,\n",
      "           0.43243,     0.43343,     0.43443,     0.43544,     0.43644,     0.43744,     0.43844,     0.43944,     0.44044,     0.44144,     0.44244,     0.44344,     0.44444,     0.44545,     0.44645,     0.44745,     0.44845,     0.44945,     0.45045,     0.45145,     0.45245,     0.45345,     0.45445,     0.45546,\n",
      "           0.45646,     0.45746,     0.45846,     0.45946,     0.46046,     0.46146,     0.46246,     0.46346,     0.46446,     0.46547,     0.46647,     0.46747,     0.46847,     0.46947,     0.47047,     0.47147,     0.47247,     0.47347,     0.47447,     0.47548,     0.47648,     0.47748,     0.47848,     0.47948,\n",
      "           0.48048,     0.48148,     0.48248,     0.48348,     0.48448,     0.48549,     0.48649,     0.48749,     0.48849,     0.48949,     0.49049,     0.49149,     0.49249,     0.49349,     0.49449,      0.4955,      0.4965,      0.4975,      0.4985,      0.4995,      0.5005,      0.5015,      0.5025,      0.5035,\n",
      "            0.5045,     0.50551,     0.50651,     0.50751,     0.50851,     0.50951,     0.51051,     0.51151,     0.51251,     0.51351,     0.51451,     0.51552,     0.51652,     0.51752,     0.51852,     0.51952,     0.52052,     0.52152,     0.52252,     0.52352,     0.52452,     0.52553,     0.52653,     0.52753,\n",
      "           0.52853,     0.52953,     0.53053,     0.53153,     0.53253,     0.53353,     0.53453,     0.53554,     0.53654,     0.53754,     0.53854,     0.53954,     0.54054,     0.54154,     0.54254,     0.54354,     0.54454,     0.54555,     0.54655,     0.54755,     0.54855,     0.54955,     0.55055,     0.55155,\n",
      "           0.55255,     0.55355,     0.55455,     0.55556,     0.55656,     0.55756,     0.55856,     0.55956,     0.56056,     0.56156,     0.56256,     0.56356,     0.56456,     0.56557,     0.56657,     0.56757,     0.56857,     0.56957,     0.57057,     0.57157,     0.57257,     0.57357,     0.57457,     0.57558,\n",
      "           0.57658,     0.57758,     0.57858,     0.57958,     0.58058,     0.58158,     0.58258,     0.58358,     0.58458,     0.58559,     0.58659,     0.58759,     0.58859,     0.58959,     0.59059,     0.59159,     0.59259,     0.59359,     0.59459,      0.5956,      0.5966,      0.5976,      0.5986,      0.5996,\n",
      "            0.6006,      0.6016,      0.6026,      0.6036,      0.6046,     0.60561,     0.60661,     0.60761,     0.60861,     0.60961,     0.61061,     0.61161,     0.61261,     0.61361,     0.61461,     0.61562,     0.61662,     0.61762,     0.61862,     0.61962,     0.62062,     0.62162,     0.62262,     0.62362,\n",
      "           0.62462,     0.62563,     0.62663,     0.62763,     0.62863,     0.62963,     0.63063,     0.63163,     0.63263,     0.63363,     0.63463,     0.63564,     0.63664,     0.63764,     0.63864,     0.63964,     0.64064,     0.64164,     0.64264,     0.64364,     0.64464,     0.64565,     0.64665,     0.64765,\n",
      "           0.64865,     0.64965,     0.65065,     0.65165,     0.65265,     0.65365,     0.65465,     0.65566,     0.65666,     0.65766,     0.65866,     0.65966,     0.66066,     0.66166,     0.66266,     0.66366,     0.66466,     0.66567,     0.66667,     0.66767,     0.66867,     0.66967,     0.67067,     0.67167,\n",
      "           0.67267,     0.67367,     0.67467,     0.67568,     0.67668,     0.67768,     0.67868,     0.67968,     0.68068,     0.68168,     0.68268,     0.68368,     0.68468,     0.68569,     0.68669,     0.68769,     0.68869,     0.68969,     0.69069,     0.69169,     0.69269,     0.69369,     0.69469,      0.6957,\n",
      "            0.6967,      0.6977,      0.6987,      0.6997,      0.7007,      0.7017,      0.7027,      0.7037,      0.7047,     0.70571,     0.70671,     0.70771,     0.70871,     0.70971,     0.71071,     0.71171,     0.71271,     0.71371,     0.71471,     0.71572,     0.71672,     0.71772,     0.71872,     0.71972,\n",
      "           0.72072,     0.72172,     0.72272,     0.72372,     0.72472,     0.72573,     0.72673,     0.72773,     0.72873,     0.72973,     0.73073,     0.73173,     0.73273,     0.73373,     0.73473,     0.73574,     0.73674,     0.73774,     0.73874,     0.73974,     0.74074,     0.74174,     0.74274,     0.74374,\n",
      "           0.74474,     0.74575,     0.74675,     0.74775,     0.74875,     0.74975,     0.75075,     0.75175,     0.75275,     0.75375,     0.75475,     0.75576,     0.75676,     0.75776,     0.75876,     0.75976,     0.76076,     0.76176,     0.76276,     0.76376,     0.76476,     0.76577,     0.76677,     0.76777,\n",
      "           0.76877,     0.76977,     0.77077,     0.77177,     0.77277,     0.77377,     0.77477,     0.77578,     0.77678,     0.77778,     0.77878,     0.77978,     0.78078,     0.78178,     0.78278,     0.78378,     0.78478,     0.78579,     0.78679,     0.78779,     0.78879,     0.78979,     0.79079,     0.79179,\n",
      "           0.79279,     0.79379,     0.79479,      0.7958,      0.7968,      0.7978,      0.7988,      0.7998,      0.8008,      0.8018,      0.8028,      0.8038,      0.8048,     0.80581,     0.80681,     0.80781,     0.80881,     0.80981,     0.81081,     0.81181,     0.81281,     0.81381,     0.81481,     0.81582,\n",
      "           0.81682,     0.81782,     0.81882,     0.81982,     0.82082,     0.82182,     0.82282,     0.82382,     0.82482,     0.82583,     0.82683,     0.82783,     0.82883,     0.82983,     0.83083,     0.83183,     0.83283,     0.83383,     0.83483,     0.83584,     0.83684,     0.83784,     0.83884,     0.83984,\n",
      "           0.84084,     0.84184,     0.84284,     0.84384,     0.84484,     0.84585,     0.84685,     0.84785,     0.84885,     0.84985,     0.85085,     0.85185,     0.85285,     0.85385,     0.85485,     0.85586,     0.85686,     0.85786,     0.85886,     0.85986,     0.86086,     0.86186,     0.86286,     0.86386,\n",
      "           0.86486,     0.86587,     0.86687,     0.86787,     0.86887,     0.86987,     0.87087,     0.87187,     0.87287,     0.87387,     0.87487,     0.87588,     0.87688,     0.87788,     0.87888,     0.87988,     0.88088,     0.88188,     0.88288,     0.88388,     0.88488,     0.88589,     0.88689,     0.88789,\n",
      "           0.88889,     0.88989,     0.89089,     0.89189,     0.89289,     0.89389,     0.89489,      0.8959,      0.8969,      0.8979,      0.8989,      0.8999,      0.9009,      0.9019,      0.9029,      0.9039,      0.9049,     0.90591,     0.90691,     0.90791,     0.90891,     0.90991,     0.91091,     0.91191,\n",
      "           0.91291,     0.91391,     0.91491,     0.91592,     0.91692,     0.91792,     0.91892,     0.91992,     0.92092,     0.92192,     0.92292,     0.92392,     0.92492,     0.92593,     0.92693,     0.92793,     0.92893,     0.92993,     0.93093,     0.93193,     0.93293,     0.93393,     0.93493,     0.93594,\n",
      "           0.93694,     0.93794,     0.93894,     0.93994,     0.94094,     0.94194,     0.94294,     0.94394,     0.94494,     0.94595,     0.94695,     0.94795,     0.94895,     0.94995,     0.95095,     0.95195,     0.95295,     0.95395,     0.95495,     0.95596,     0.95696,     0.95796,     0.95896,     0.95996,\n",
      "           0.96096,     0.96196,     0.96296,     0.96396,     0.96496,     0.96597,     0.96697,     0.96797,     0.96897,     0.96997,     0.97097,     0.97197,     0.97297,     0.97397,     0.97497,     0.97598,     0.97698,     0.97798,     0.97898,     0.97998,     0.98098,     0.98198,     0.98298,     0.98398,\n",
      "           0.98498,     0.98599,     0.98699,     0.98799,     0.98899,     0.98999,     0.99099,     0.99199,     0.99299,     0.99399,     0.99499,       0.996,       0.997,       0.998,       0.999,           1]), array([[   0.078842,    0.078856,      0.1181,     0.14637,     0.16654,     0.18468,     0.19864,     0.21121,     0.22409,     0.23253,     0.24177,     0.24973,     0.25725,     0.26836,     0.27364,     0.28285,     0.28979,       0.294,      0.2988,     0.30463,     0.31111,      0.3176,     0.32531,\n",
      "            0.33078,     0.33577,     0.33902,     0.34399,     0.34693,     0.35049,     0.35541,     0.35788,      0.3618,     0.36556,      0.3675,     0.37036,     0.37101,     0.37389,     0.37578,     0.37699,     0.37927,      0.3815,     0.38367,     0.38483,     0.38699,        0.39,     0.39735,\n",
      "            0.40296,      0.4038,     0.40474,     0.40637,     0.40782,     0.41196,      0.4137,     0.41729,     0.42077,     0.42204,      0.4228,     0.42538,     0.42821,     0.43036,     0.43236,     0.43337,     0.43645,     0.43905,     0.44081,     0.44351,     0.44428,     0.44758,     0.44823,\n",
      "            0.44943,     0.45094,     0.45276,     0.45377,     0.45495,      0.4596,     0.46007,     0.46145,     0.46421,     0.46541,     0.46649,     0.46712,     0.46775,      0.4685,     0.47053,      0.4761,     0.47893,     0.48031,     0.48064,     0.48097,     0.48184,      0.4838,     0.48364,\n",
      "            0.48425,     0.48483,     0.48526,      0.4857,     0.48627,     0.48719,      0.4879,     0.48821,     0.48919,     0.49031,     0.49185,     0.49579,     0.49802,     0.49919,     0.50024,     0.50205,     0.50383,     0.50733,     0.50973,     0.51049,     0.51211,     0.51638,     0.51723,\n",
      "            0.51846,     0.52155,     0.52332,     0.52566,     0.52772,     0.52933,     0.52967,     0.53001,     0.53035,     0.53069,     0.53252,     0.53289,     0.53327,     0.53365,     0.53474,      0.5363,     0.53771,     0.53852,     0.53899,     0.53946,     0.53997,     0.54055,     0.54113,\n",
      "            0.54203,     0.54347,     0.54623,     0.54723,     0.54877,     0.55166,     0.55314,     0.55464,     0.55589,     0.55639,     0.55688,     0.55733,     0.55769,     0.55806,     0.55842,     0.55879,     0.55952,      0.5603,     0.56092,     0.56149,     0.56206,     0.56403,      0.5653,\n",
      "            0.56608,     0.56677,      0.5675,     0.56829,     0.56908,     0.56987,     0.57011,     0.56914,     0.56896,     0.56878,      0.5686,     0.56842,     0.56824,     0.56806,     0.56866,     0.56918,     0.56971,     0.56978,     0.56929,      0.5705,      0.5726,     0.57315,      0.5737,\n",
      "            0.57417,     0.57448,     0.57479,      0.5751,     0.57541,     0.57572,     0.57802,     0.57869,     0.57935,     0.57996,     0.58057,     0.58118,     0.58164,     0.58209,     0.58253,     0.58297,      0.5834,     0.58382,     0.58424,     0.58466,     0.58481,     0.58459,     0.58437,\n",
      "            0.58414,     0.58392,      0.5837,     0.58381,     0.58421,     0.58461,     0.58501,     0.58541,     0.58765,     0.58815,     0.58866,     0.58916,     0.59158,     0.59379,     0.59491,     0.59567,     0.59642,     0.59754,     0.59779,     0.59823,     0.59912,     0.60218,     0.60456,\n",
      "            0.60582,     0.60665,     0.60792,     0.61139,     0.61166,     0.61194,     0.61221,     0.61248,     0.61275,     0.61303,      0.6133,     0.61613,     0.61704,     0.61958,     0.61997,     0.62037,     0.62076,     0.62115,     0.62154,     0.62115,     0.62057,     0.61945,      0.6209,\n",
      "            0.62158,     0.62206,     0.62253,       0.623,     0.62358,     0.62435,     0.62511,     0.62509,      0.6245,     0.62434,     0.62489,     0.62543,     0.62597,       0.629,     0.63044,     0.63132,     0.63209,     0.63287,     0.63379,     0.63472,     0.63543,       0.636,     0.63658,\n",
      "            0.63715,     0.63818,     0.63943,     0.64203,     0.64318,     0.64417,      0.6444,     0.64464,     0.64487,      0.6451,     0.64534,     0.64557,      0.6458,     0.64604,     0.64627,     0.64883,     0.64926,      0.6497,     0.65014,     0.65058,     0.65101,     0.65292,      0.6555,\n",
      "             0.6561,     0.65643,     0.65677,      0.6571,     0.65744,     0.65778,     0.65811,     0.66063,     0.66098,     0.66134,      0.6617,     0.66205,     0.66241,     0.66277,      0.6648,     0.66595,     0.66653,      0.6671,     0.66768,     0.66924,     0.67071,     0.67142,     0.67214,\n",
      "            0.67285,     0.67599,     0.67696,     0.67801,     0.68037,     0.67997,     0.67958,     0.67982,     0.68235,     0.68339,     0.68441,     0.68409,     0.68377,     0.68344,     0.68587,     0.68612,     0.68637,     0.68661,     0.68686,     0.68711,     0.68736,      0.6876,     0.68785,\n",
      "             0.6881,     0.68835,     0.68941,     0.69116,     0.69204,     0.69291,     0.69379,     0.69546,     0.69687,     0.69786,     0.69884,      0.7002,     0.70181,     0.70235,     0.70279,     0.70322,     0.70365,     0.70409,     0.70452,     0.70715,     0.70861,      0.7098,      0.7106,\n",
      "            0.71108,     0.71157,     0.71206,     0.71255,     0.71304,     0.71379,     0.71463,     0.71546,     0.71587,     0.71552,     0.71517,     0.71602,     0.71889,     0.72028,      0.7216,      0.7229,     0.72389,     0.72453,     0.72518,     0.72582,     0.72647,     0.72642,     0.72631,\n",
      "            0.72619,     0.72607,     0.72595,     0.72584,     0.72572,      0.7256,     0.72548,     0.72573,      0.7266,     0.72747,     0.72833,     0.72795,     0.72747,      0.7281,      0.7295,     0.73096,     0.73247,     0.73356,     0.73407,     0.73459,      0.7351,     0.73562,     0.73613,\n",
      "            0.73555,     0.73835,     0.73823,     0.73811,       0.738,     0.73788,     0.73776,     0.73764,     0.73752,      0.7374,     0.73732,     0.73809,     0.73886,     0.73962,     0.74039,     0.74299,     0.74405,     0.74464,     0.74524,     0.74583,     0.74642,     0.74931,     0.74954,\n",
      "            0.75189,     0.75442,     0.76009,     0.76136,     0.76176,     0.76216,     0.76256,     0.76296,     0.76337,     0.76377,     0.76417,     0.76436,     0.76411,     0.76385,      0.7636,     0.76335,     0.76312,     0.76288,     0.76265,     0.76242,     0.76345,     0.76525,     0.76638,\n",
      "            0.76725,     0.76812,     0.76898,     0.76945,     0.76976,     0.77006,     0.77037,     0.77068,     0.77098,     0.77129,      0.7716,     0.77191,     0.77221,     0.77252,     0.77301,     0.77387,     0.77473,      0.7756,     0.77642,     0.77709,     0.77776,     0.77843,      0.7791,\n",
      "            0.77977,     0.78076,     0.78177,     0.78278,     0.78353,     0.78386,     0.78419,     0.78451,     0.78484,     0.78517,     0.78549,     0.78582,     0.78615,     0.78647,      0.7868,     0.78696,     0.78668,      0.7864,     0.78611,     0.78748,     0.78937,     0.79139,     0.79345,\n",
      "            0.79536,      0.7977,     0.80035,     0.79985,     0.79961,     0.79937,     0.79913,     0.80277,     0.80263,     0.80237,     0.80211,     0.80256,     0.80451,     0.80679,     0.80978,     0.81235,     0.81483,     0.81719,     0.81752,     0.81723,     0.81695,     0.82008,     0.82363,\n",
      "            0.82601,     0.82821,     0.82582,     0.82477,     0.82401,     0.82243,     0.82575,     0.82578,     0.82471,      0.8258,     0.82731,     0.82883,       0.829,     0.83181,     0.83193,     0.83266,     0.83576,     0.83566,      0.8352,     0.83478,     0.83437,     0.83792,     0.84046,\n",
      "            0.84643,     0.84539,     0.84503,     0.84473,     0.84452,      0.8443,     0.84408,      0.8496,     0.85375,     0.85364,     0.85353,     0.85342,     0.85331,      0.8532,     0.85309,     0.85298,     0.85206,     0.85145,     0.85588,     0.85516,     0.85469,     0.85421,     0.85744,\n",
      "            0.86021,     0.86261,     0.86407,     0.86368,     0.86319,     0.86233,     0.86174,      0.8609,     0.85997,     0.85897,     0.85859,     0.85821,     0.85762,     0.85677,     0.85565,     0.85494,     0.85444,     0.85653,     0.85955,     0.85851,     0.85712,     0.85701,     0.85689,\n",
      "            0.85678,     0.85667,     0.85656,     0.85645,     0.85633,     0.85622,      0.8558,     0.85502,     0.85498,     0.86029,     0.86208,     0.86387,     0.86567,      0.8656,     0.86486,     0.86318,     0.86212,     0.86155,     0.85935,      0.8676,     0.87064,     0.87188,     0.87126,\n",
      "             0.8703,     0.86715,     0.86662,     0.86631,     0.86794,     0.86958,     0.87121,     0.87285,     0.87224,     0.87152,     0.87355,     0.87559,     0.87762,     0.87722,     0.87921,      0.8818,     0.88425,     0.88308,     0.88315,     0.88574,     0.88832,     0.89058,     0.89238,\n",
      "            0.89417,     0.89597,     0.89921,     0.90512,       0.905,     0.90487,     0.90474,     0.90462,     0.90449,     0.90436,     0.90385,     0.90329,     0.90277,     0.90188,     0.91087,     0.91493,     0.91742,     0.91707,     0.91673,     0.91646,      0.9162,     0.91594,     0.91574,\n",
      "            0.91556,     0.91537,     0.91519,     0.91476,     0.91417,     0.91381,     0.91344,     0.91301,     0.91259,     0.91218,     0.91178,     0.91079,     0.91061,     0.91043,     0.91025,     0.91007,     0.90968,     0.90916,     0.90807,     0.90722,     0.90659,     0.90496,     0.90429,\n",
      "            0.90334,     0.90018,     0.89739,     0.89919,     0.90653,     0.90466,     0.90318,      0.9036,     0.91053,     0.91935,     0.91839,     0.91742,     0.91623,     0.91535,      0.9141,      0.9136,     0.91309,      0.9127,     0.91233,     0.91195,     0.91138,     0.91059,     0.90958,\n",
      "            0.90875,     0.90811,     0.90572,     0.90442,     0.90397,     0.90352,     0.89984,     0.89894,     0.89618,     0.89293,     0.89189,     0.89098,     0.90727,     0.90644,     0.90559,     0.90446,     0.90257,     0.89973,      0.8949,     0.89356,      0.8923,     0.91097,     0.90677,\n",
      "            0.90524,     0.89992,     0.89713,     0.89625,     0.89537,     0.91889,     0.91817,     0.91744,     0.91672,      0.9272,     0.93852,     0.94162,     0.93779,     0.93628,     0.93494,      0.9337,     0.95099,     0.96291,     0.96252,     0.96213,     0.96174,     0.96525,     0.97277,\n",
      "            0.98029,     0.98781,     0.99534,           1,           1,           1,           1,           1,           1,           1,           1,           1,           1,           1,           1,           1,           1,           1,           1,           1,           1,           1,           1,\n",
      "                  1,           1,           1,           1,           1,           1,           1,           1,           1,           1,           1,           1,           1,           1,           1,           1,           1,           1,           1,           1,           1,           1,           1,\n",
      "                  1,           1,           1,           1,           1,           1,           1,           1,           1,           1,           1,           1,           1,           1,           1,           1,           1,           1,           1,           1,           1,           1,           1,\n",
      "                  1,           1,           1,           1,           1,           1,           1,           1,           1,           1,           1,           1,           1,           1,           1,           1,           1,           1,           1,           1,           1,           1,           1,\n",
      "                  1,           1,           1,           1,           1,           1,           1,           1,           1,           1,           1,           1,           1,           1,           1,           1,           1,           1,           1,           1,           1,           1,           1,\n",
      "                  1,           1,           1,           1,           1,           1,           1,           1,           1,           1,           1,           1,           1,           1,           1,           1,           1,           1,           1,           1,           1,           1,           1,\n",
      "                  1,           1,           1,           1,           1,           1,           1,           1,           1,           1,           1,           1,           1,           1,           1,           1,           1,           1,           1,           1,           1,           1,           1,\n",
      "                  1,           1,           1,           1,           1,           1,           1,           1,           1,           1,           1,           1,           1,           1,           1,           1,           1,           1,           1,           1,           1,           1,           1,\n",
      "                  1,           1,           1,           1,           1,           1,           1,           1,           1,           1,           1,           1,           1,           1,           1,           1,           1,           1,           1,           1,           1,           1,           1,\n",
      "                  1,           1,           1,           1,           1,           1,           1,           1,           1,           1,           1,           1,           1,           1,           1,           1,           1,           1,           1,           1,           1,           1,           1,\n",
      "                  1,           1,           1,           1,           1,           1,           1,           1,           1,           1,           1]]), 'Confidence', 'Precision'], [array([          0,    0.001001,    0.002002,    0.003003,    0.004004,    0.005005,    0.006006,    0.007007,    0.008008,    0.009009,     0.01001,    0.011011,    0.012012,    0.013013,    0.014014,    0.015015,    0.016016,    0.017017,    0.018018,    0.019019,     0.02002,    0.021021,    0.022022,    0.023023,\n",
      "          0.024024,    0.025025,    0.026026,    0.027027,    0.028028,    0.029029,     0.03003,    0.031031,    0.032032,    0.033033,    0.034034,    0.035035,    0.036036,    0.037037,    0.038038,    0.039039,     0.04004,    0.041041,    0.042042,    0.043043,    0.044044,    0.045045,    0.046046,    0.047047,\n",
      "          0.048048,    0.049049,     0.05005,    0.051051,    0.052052,    0.053053,    0.054054,    0.055055,    0.056056,    0.057057,    0.058058,    0.059059,     0.06006,    0.061061,    0.062062,    0.063063,    0.064064,    0.065065,    0.066066,    0.067067,    0.068068,    0.069069,     0.07007,    0.071071,\n",
      "          0.072072,    0.073073,    0.074074,    0.075075,    0.076076,    0.077077,    0.078078,    0.079079,     0.08008,    0.081081,    0.082082,    0.083083,    0.084084,    0.085085,    0.086086,    0.087087,    0.088088,    0.089089,     0.09009,    0.091091,    0.092092,    0.093093,    0.094094,    0.095095,\n",
      "          0.096096,    0.097097,    0.098098,    0.099099,      0.1001,      0.1011,      0.1021,      0.1031,      0.1041,     0.10511,     0.10611,     0.10711,     0.10811,     0.10911,     0.11011,     0.11111,     0.11211,     0.11311,     0.11411,     0.11512,     0.11612,     0.11712,     0.11812,     0.11912,\n",
      "           0.12012,     0.12112,     0.12212,     0.12312,     0.12412,     0.12513,     0.12613,     0.12713,     0.12813,     0.12913,     0.13013,     0.13113,     0.13213,     0.13313,     0.13413,     0.13514,     0.13614,     0.13714,     0.13814,     0.13914,     0.14014,     0.14114,     0.14214,     0.14314,\n",
      "           0.14414,     0.14515,     0.14615,     0.14715,     0.14815,     0.14915,     0.15015,     0.15115,     0.15215,     0.15315,     0.15415,     0.15516,     0.15616,     0.15716,     0.15816,     0.15916,     0.16016,     0.16116,     0.16216,     0.16316,     0.16416,     0.16517,     0.16617,     0.16717,\n",
      "           0.16817,     0.16917,     0.17017,     0.17117,     0.17217,     0.17317,     0.17417,     0.17518,     0.17618,     0.17718,     0.17818,     0.17918,     0.18018,     0.18118,     0.18218,     0.18318,     0.18418,     0.18519,     0.18619,     0.18719,     0.18819,     0.18919,     0.19019,     0.19119,\n",
      "           0.19219,     0.19319,     0.19419,      0.1952,      0.1962,      0.1972,      0.1982,      0.1992,      0.2002,      0.2012,      0.2022,      0.2032,      0.2042,     0.20521,     0.20621,     0.20721,     0.20821,     0.20921,     0.21021,     0.21121,     0.21221,     0.21321,     0.21421,     0.21522,\n",
      "           0.21622,     0.21722,     0.21822,     0.21922,     0.22022,     0.22122,     0.22222,     0.22322,     0.22422,     0.22523,     0.22623,     0.22723,     0.22823,     0.22923,     0.23023,     0.23123,     0.23223,     0.23323,     0.23423,     0.23524,     0.23624,     0.23724,     0.23824,     0.23924,\n",
      "           0.24024,     0.24124,     0.24224,     0.24324,     0.24424,     0.24525,     0.24625,     0.24725,     0.24825,     0.24925,     0.25025,     0.25125,     0.25225,     0.25325,     0.25425,     0.25526,     0.25626,     0.25726,     0.25826,     0.25926,     0.26026,     0.26126,     0.26226,     0.26326,\n",
      "           0.26426,     0.26527,     0.26627,     0.26727,     0.26827,     0.26927,     0.27027,     0.27127,     0.27227,     0.27327,     0.27427,     0.27528,     0.27628,     0.27728,     0.27828,     0.27928,     0.28028,     0.28128,     0.28228,     0.28328,     0.28428,     0.28529,     0.28629,     0.28729,\n",
      "           0.28829,     0.28929,     0.29029,     0.29129,     0.29229,     0.29329,     0.29429,      0.2953,      0.2963,      0.2973,      0.2983,      0.2993,      0.3003,      0.3013,      0.3023,      0.3033,      0.3043,     0.30531,     0.30631,     0.30731,     0.30831,     0.30931,     0.31031,     0.31131,\n",
      "           0.31231,     0.31331,     0.31431,     0.31532,     0.31632,     0.31732,     0.31832,     0.31932,     0.32032,     0.32132,     0.32232,     0.32332,     0.32432,     0.32533,     0.32633,     0.32733,     0.32833,     0.32933,     0.33033,     0.33133,     0.33233,     0.33333,     0.33433,     0.33534,\n",
      "           0.33634,     0.33734,     0.33834,     0.33934,     0.34034,     0.34134,     0.34234,     0.34334,     0.34434,     0.34535,     0.34635,     0.34735,     0.34835,     0.34935,     0.35035,     0.35135,     0.35235,     0.35335,     0.35435,     0.35536,     0.35636,     0.35736,     0.35836,     0.35936,\n",
      "           0.36036,     0.36136,     0.36236,     0.36336,     0.36436,     0.36537,     0.36637,     0.36737,     0.36837,     0.36937,     0.37037,     0.37137,     0.37237,     0.37337,     0.37437,     0.37538,     0.37638,     0.37738,     0.37838,     0.37938,     0.38038,     0.38138,     0.38238,     0.38338,\n",
      "           0.38438,     0.38539,     0.38639,     0.38739,     0.38839,     0.38939,     0.39039,     0.39139,     0.39239,     0.39339,     0.39439,      0.3954,      0.3964,      0.3974,      0.3984,      0.3994,      0.4004,      0.4014,      0.4024,      0.4034,      0.4044,     0.40541,     0.40641,     0.40741,\n",
      "           0.40841,     0.40941,     0.41041,     0.41141,     0.41241,     0.41341,     0.41441,     0.41542,     0.41642,     0.41742,     0.41842,     0.41942,     0.42042,     0.42142,     0.42242,     0.42342,     0.42442,     0.42543,     0.42643,     0.42743,     0.42843,     0.42943,     0.43043,     0.43143,\n",
      "           0.43243,     0.43343,     0.43443,     0.43544,     0.43644,     0.43744,     0.43844,     0.43944,     0.44044,     0.44144,     0.44244,     0.44344,     0.44444,     0.44545,     0.44645,     0.44745,     0.44845,     0.44945,     0.45045,     0.45145,     0.45245,     0.45345,     0.45445,     0.45546,\n",
      "           0.45646,     0.45746,     0.45846,     0.45946,     0.46046,     0.46146,     0.46246,     0.46346,     0.46446,     0.46547,     0.46647,     0.46747,     0.46847,     0.46947,     0.47047,     0.47147,     0.47247,     0.47347,     0.47447,     0.47548,     0.47648,     0.47748,     0.47848,     0.47948,\n",
      "           0.48048,     0.48148,     0.48248,     0.48348,     0.48448,     0.48549,     0.48649,     0.48749,     0.48849,     0.48949,     0.49049,     0.49149,     0.49249,     0.49349,     0.49449,      0.4955,      0.4965,      0.4975,      0.4985,      0.4995,      0.5005,      0.5015,      0.5025,      0.5035,\n",
      "            0.5045,     0.50551,     0.50651,     0.50751,     0.50851,     0.50951,     0.51051,     0.51151,     0.51251,     0.51351,     0.51451,     0.51552,     0.51652,     0.51752,     0.51852,     0.51952,     0.52052,     0.52152,     0.52252,     0.52352,     0.52452,     0.52553,     0.52653,     0.52753,\n",
      "           0.52853,     0.52953,     0.53053,     0.53153,     0.53253,     0.53353,     0.53453,     0.53554,     0.53654,     0.53754,     0.53854,     0.53954,     0.54054,     0.54154,     0.54254,     0.54354,     0.54454,     0.54555,     0.54655,     0.54755,     0.54855,     0.54955,     0.55055,     0.55155,\n",
      "           0.55255,     0.55355,     0.55455,     0.55556,     0.55656,     0.55756,     0.55856,     0.55956,     0.56056,     0.56156,     0.56256,     0.56356,     0.56456,     0.56557,     0.56657,     0.56757,     0.56857,     0.56957,     0.57057,     0.57157,     0.57257,     0.57357,     0.57457,     0.57558,\n",
      "           0.57658,     0.57758,     0.57858,     0.57958,     0.58058,     0.58158,     0.58258,     0.58358,     0.58458,     0.58559,     0.58659,     0.58759,     0.58859,     0.58959,     0.59059,     0.59159,     0.59259,     0.59359,     0.59459,      0.5956,      0.5966,      0.5976,      0.5986,      0.5996,\n",
      "            0.6006,      0.6016,      0.6026,      0.6036,      0.6046,     0.60561,     0.60661,     0.60761,     0.60861,     0.60961,     0.61061,     0.61161,     0.61261,     0.61361,     0.61461,     0.61562,     0.61662,     0.61762,     0.61862,     0.61962,     0.62062,     0.62162,     0.62262,     0.62362,\n",
      "           0.62462,     0.62563,     0.62663,     0.62763,     0.62863,     0.62963,     0.63063,     0.63163,     0.63263,     0.63363,     0.63463,     0.63564,     0.63664,     0.63764,     0.63864,     0.63964,     0.64064,     0.64164,     0.64264,     0.64364,     0.64464,     0.64565,     0.64665,     0.64765,\n",
      "           0.64865,     0.64965,     0.65065,     0.65165,     0.65265,     0.65365,     0.65465,     0.65566,     0.65666,     0.65766,     0.65866,     0.65966,     0.66066,     0.66166,     0.66266,     0.66366,     0.66466,     0.66567,     0.66667,     0.66767,     0.66867,     0.66967,     0.67067,     0.67167,\n",
      "           0.67267,     0.67367,     0.67467,     0.67568,     0.67668,     0.67768,     0.67868,     0.67968,     0.68068,     0.68168,     0.68268,     0.68368,     0.68468,     0.68569,     0.68669,     0.68769,     0.68869,     0.68969,     0.69069,     0.69169,     0.69269,     0.69369,     0.69469,      0.6957,\n",
      "            0.6967,      0.6977,      0.6987,      0.6997,      0.7007,      0.7017,      0.7027,      0.7037,      0.7047,     0.70571,     0.70671,     0.70771,     0.70871,     0.70971,     0.71071,     0.71171,     0.71271,     0.71371,     0.71471,     0.71572,     0.71672,     0.71772,     0.71872,     0.71972,\n",
      "           0.72072,     0.72172,     0.72272,     0.72372,     0.72472,     0.72573,     0.72673,     0.72773,     0.72873,     0.72973,     0.73073,     0.73173,     0.73273,     0.73373,     0.73473,     0.73574,     0.73674,     0.73774,     0.73874,     0.73974,     0.74074,     0.74174,     0.74274,     0.74374,\n",
      "           0.74474,     0.74575,     0.74675,     0.74775,     0.74875,     0.74975,     0.75075,     0.75175,     0.75275,     0.75375,     0.75475,     0.75576,     0.75676,     0.75776,     0.75876,     0.75976,     0.76076,     0.76176,     0.76276,     0.76376,     0.76476,     0.76577,     0.76677,     0.76777,\n",
      "           0.76877,     0.76977,     0.77077,     0.77177,     0.77277,     0.77377,     0.77477,     0.77578,     0.77678,     0.77778,     0.77878,     0.77978,     0.78078,     0.78178,     0.78278,     0.78378,     0.78478,     0.78579,     0.78679,     0.78779,     0.78879,     0.78979,     0.79079,     0.79179,\n",
      "           0.79279,     0.79379,     0.79479,      0.7958,      0.7968,      0.7978,      0.7988,      0.7998,      0.8008,      0.8018,      0.8028,      0.8038,      0.8048,     0.80581,     0.80681,     0.80781,     0.80881,     0.80981,     0.81081,     0.81181,     0.81281,     0.81381,     0.81481,     0.81582,\n",
      "           0.81682,     0.81782,     0.81882,     0.81982,     0.82082,     0.82182,     0.82282,     0.82382,     0.82482,     0.82583,     0.82683,     0.82783,     0.82883,     0.82983,     0.83083,     0.83183,     0.83283,     0.83383,     0.83483,     0.83584,     0.83684,     0.83784,     0.83884,     0.83984,\n",
      "           0.84084,     0.84184,     0.84284,     0.84384,     0.84484,     0.84585,     0.84685,     0.84785,     0.84885,     0.84985,     0.85085,     0.85185,     0.85285,     0.85385,     0.85485,     0.85586,     0.85686,     0.85786,     0.85886,     0.85986,     0.86086,     0.86186,     0.86286,     0.86386,\n",
      "           0.86486,     0.86587,     0.86687,     0.86787,     0.86887,     0.86987,     0.87087,     0.87187,     0.87287,     0.87387,     0.87487,     0.87588,     0.87688,     0.87788,     0.87888,     0.87988,     0.88088,     0.88188,     0.88288,     0.88388,     0.88488,     0.88589,     0.88689,     0.88789,\n",
      "           0.88889,     0.88989,     0.89089,     0.89189,     0.89289,     0.89389,     0.89489,      0.8959,      0.8969,      0.8979,      0.8989,      0.8999,      0.9009,      0.9019,      0.9029,      0.9039,      0.9049,     0.90591,     0.90691,     0.90791,     0.90891,     0.90991,     0.91091,     0.91191,\n",
      "           0.91291,     0.91391,     0.91491,     0.91592,     0.91692,     0.91792,     0.91892,     0.91992,     0.92092,     0.92192,     0.92292,     0.92392,     0.92492,     0.92593,     0.92693,     0.92793,     0.92893,     0.92993,     0.93093,     0.93193,     0.93293,     0.93393,     0.93493,     0.93594,\n",
      "           0.93694,     0.93794,     0.93894,     0.93994,     0.94094,     0.94194,     0.94294,     0.94394,     0.94494,     0.94595,     0.94695,     0.94795,     0.94895,     0.94995,     0.95095,     0.95195,     0.95295,     0.95395,     0.95495,     0.95596,     0.95696,     0.95796,     0.95896,     0.95996,\n",
      "           0.96096,     0.96196,     0.96296,     0.96396,     0.96496,     0.96597,     0.96697,     0.96797,     0.96897,     0.96997,     0.97097,     0.97197,     0.97297,     0.97397,     0.97497,     0.97598,     0.97698,     0.97798,     0.97898,     0.97998,     0.98098,     0.98198,     0.98298,     0.98398,\n",
      "           0.98498,     0.98599,     0.98699,     0.98799,     0.98899,     0.98999,     0.99099,     0.99199,     0.99299,     0.99399,     0.99499,       0.996,       0.997,       0.998,       0.999,           1]), array([[    0.96078,     0.96078,     0.95588,     0.95588,     0.95588,     0.95588,     0.95588,     0.95588,     0.95588,     0.95588,     0.95588,     0.95588,     0.95588,     0.95588,     0.95098,     0.95098,     0.95098,     0.94608,     0.94608,     0.94608,     0.94608,     0.94608,     0.94608,\n",
      "            0.94608,     0.94608,     0.94608,     0.94608,     0.94608,     0.94608,     0.94608,     0.94608,     0.94608,     0.94608,     0.94608,     0.94608,     0.94608,     0.94608,     0.94608,     0.94608,     0.94608,     0.94608,     0.94608,     0.94608,     0.94608,     0.94608,     0.94608,\n",
      "            0.94608,     0.94608,     0.94608,     0.94608,     0.94118,     0.94118,     0.94118,     0.94118,     0.94118,     0.94118,     0.94118,     0.94118,     0.94118,     0.94118,     0.94118,     0.94118,     0.94118,     0.94118,     0.94118,     0.94118,     0.94118,     0.94118,     0.94118,\n",
      "            0.94118,     0.94118,     0.94118,     0.94118,     0.94118,     0.94118,     0.94118,     0.94118,     0.94118,     0.94118,     0.94118,     0.94118,     0.94118,     0.94118,     0.94118,     0.94118,     0.94118,     0.94118,     0.94118,     0.94118,     0.94118,     0.94118,     0.93627,\n",
      "            0.93627,     0.93627,     0.93627,     0.93627,     0.93627,     0.93627,     0.93627,     0.93521,     0.93137,     0.93137,     0.93137,     0.93137,     0.93137,     0.93137,     0.93137,     0.93137,     0.93137,     0.93137,     0.93137,     0.93137,     0.93137,     0.93137,     0.93137,\n",
      "            0.93137,     0.93137,     0.93137,     0.93137,     0.93137,     0.93137,     0.93137,     0.93137,     0.93137,     0.93137,     0.93137,     0.93137,     0.93137,     0.93137,     0.93137,     0.93137,     0.93137,     0.93137,     0.93137,     0.93137,     0.93137,     0.93137,     0.93137,\n",
      "            0.93137,     0.93137,     0.93137,     0.93137,     0.93137,     0.93137,     0.93137,     0.93137,     0.93137,     0.93137,     0.93137,     0.93137,     0.93137,     0.93137,     0.93137,     0.93137,     0.93137,     0.93137,     0.93137,     0.93137,     0.93137,     0.93137,     0.93137,\n",
      "            0.93137,     0.93137,     0.93137,     0.93137,     0.93137,     0.93137,     0.92963,     0.92594,     0.92527,     0.92459,     0.92392,     0.92324,     0.92257,      0.9219,     0.91667,     0.91667,     0.91667,     0.91539,     0.91176,     0.91176,     0.91176,     0.91176,     0.91176,\n",
      "            0.91176,     0.91176,     0.91176,     0.91176,     0.91176,     0.91176,     0.91176,     0.91176,     0.91176,     0.91176,     0.91176,     0.91176,     0.91176,     0.91176,     0.91176,     0.91176,     0.91176,     0.91176,     0.91176,     0.91176,     0.91141,     0.91058,     0.90975,\n",
      "            0.90891,     0.90808,     0.90725,     0.90686,     0.90686,     0.90686,     0.90686,     0.90686,     0.90686,     0.90686,     0.90686,     0.90686,     0.90686,     0.90686,     0.90686,     0.90686,     0.90686,     0.90686,     0.90342,     0.90196,     0.90196,     0.90196,     0.90196,\n",
      "            0.90196,     0.90196,     0.90196,     0.90196,     0.90196,     0.90196,     0.90196,     0.90196,     0.90196,     0.90196,     0.90196,     0.90196,     0.90196,     0.90196,     0.90196,     0.90196,     0.90196,     0.90196,     0.90196,     0.90017,     0.89794,     0.89367,     0.89216,\n",
      "            0.89216,     0.89216,     0.89216,     0.89216,     0.89216,     0.89216,     0.89216,     0.89086,     0.88864,     0.88725,     0.88725,     0.88725,     0.88725,     0.88725,     0.88725,     0.88725,     0.88725,     0.88725,     0.88725,     0.88725,     0.88725,     0.88725,     0.88725,\n",
      "            0.88725,     0.88725,     0.88725,     0.88725,     0.88725,     0.88725,     0.88725,     0.88725,     0.88725,     0.88725,     0.88725,     0.88725,     0.88725,     0.88725,     0.88725,     0.88725,     0.88725,     0.88725,     0.88725,     0.88725,     0.88725,     0.88725,     0.88725,\n",
      "            0.88725,     0.88725,     0.88725,     0.88725,     0.88725,     0.88725,     0.88725,     0.88725,     0.88725,     0.88725,     0.88725,     0.88725,     0.88725,     0.88725,     0.88725,     0.88725,     0.88725,     0.88725,     0.88725,     0.88725,     0.88725,     0.88725,     0.88725,\n",
      "            0.88725,     0.88725,     0.88725,     0.88725,     0.88691,     0.88532,     0.88373,     0.88235,     0.88235,     0.88235,     0.88234,     0.88104,     0.87973,     0.87842,     0.87745,     0.87745,     0.87745,     0.87745,     0.87745,     0.87745,     0.87745,     0.87745,     0.87745,\n",
      "            0.87745,     0.87745,     0.87745,     0.87745,     0.87745,     0.87745,     0.87745,     0.87745,     0.87745,     0.87745,     0.87745,     0.87745,     0.87745,     0.87745,     0.87745,     0.87745,     0.87745,     0.87745,     0.87745,     0.87745,     0.87745,     0.87745,     0.87745,\n",
      "            0.87745,     0.87745,     0.87745,     0.87745,     0.87745,     0.87745,     0.87745,     0.87745,     0.87691,      0.8754,     0.87388,     0.87255,     0.87255,     0.87255,     0.87255,     0.87255,     0.87255,     0.87255,     0.87255,     0.87255,     0.87255,     0.87208,     0.87157,\n",
      "            0.87105,     0.87054,     0.87003,     0.86951,       0.869,     0.86848,     0.86797,     0.86765,     0.86765,     0.86765,     0.86765,      0.8657,     0.86361,     0.86275,     0.86275,     0.86275,     0.86275,     0.86275,     0.86275,     0.86275,     0.86275,     0.86275,     0.86275,\n",
      "            0.85899,     0.85765,     0.85712,      0.8566,     0.85607,     0.85555,     0.85502,      0.8545,     0.85397,     0.85345,     0.85294,     0.85294,     0.85294,     0.85294,     0.85294,     0.85294,     0.85294,     0.85294,     0.85294,     0.85294,     0.85294,     0.84984,     0.84314,\n",
      "            0.84314,     0.84314,     0.84314,     0.84314,     0.84314,     0.84314,     0.84314,     0.84314,     0.84314,     0.84314,     0.84314,     0.84276,     0.84157,     0.84038,      0.8392,     0.83803,     0.83696,     0.83588,     0.83481,     0.83374,     0.83333,     0.83333,     0.83333,\n",
      "            0.83333,     0.83333,     0.83333,     0.83333,     0.83333,     0.83333,     0.83333,     0.83333,     0.83333,     0.83333,     0.83333,     0.83333,     0.83333,     0.83333,     0.83333,     0.83333,     0.83333,     0.83333,     0.83333,     0.83333,     0.83333,     0.83333,     0.83333,\n",
      "            0.83333,     0.83333,     0.83333,     0.83333,     0.83333,     0.83333,     0.83333,     0.83333,     0.83333,     0.83333,     0.83333,     0.83333,     0.83333,     0.83333,     0.83333,     0.83295,     0.83156,     0.83016,     0.82877,     0.82843,     0.82843,     0.82843,     0.82843,\n",
      "            0.82843,     0.82843,     0.82534,     0.82278,     0.82155,     0.82031,     0.81908,     0.81863,     0.81731,     0.81597,     0.81464,     0.81373,     0.81373,     0.81373,     0.81373,     0.81373,     0.81373,     0.81373,     0.81254,     0.81101,     0.80948,     0.80392,     0.80392,\n",
      "            0.80392,     0.80392,      0.7902,     0.78445,     0.78037,     0.77196,     0.76961,     0.76675,     0.76107,      0.7598,      0.7598,      0.7598,      0.7549,      0.7549,      0.7522,        0.75,        0.75,     0.74778,     0.74531,     0.74305,     0.74081,      0.7349,     0.73039,\n",
      "            0.73039,     0.72371,     0.72172,     0.72008,     0.71889,     0.71771,     0.71652,     0.71569,      0.7154,     0.71477,     0.71414,     0.71351,     0.71288,     0.71225,     0.71162,     0.71098,     0.70581,     0.70241,     0.70098,     0.69461,     0.69201,     0.68627,     0.68627,\n",
      "            0.68627,     0.68627,     0.68552,     0.68326,     0.68045,     0.67549,     0.67217,     0.66743,     0.66228,     0.65683,     0.65478,     0.65272,     0.64961,     0.64508,     0.63926,     0.63562,     0.63304,     0.63235,     0.63235,     0.62461,     0.61752,     0.61696,      0.6164,\n",
      "            0.61584,     0.61527,     0.61471,     0.61415,     0.61359,     0.61303,     0.61094,      0.6071,     0.60294,     0.60294,     0.60294,     0.60294,     0.60294,     0.59986,     0.59608,     0.58762,     0.58237,     0.57957,     0.56863,     0.56863,     0.56863,     0.56708,     0.56396,\n",
      "            0.55915,     0.54395,     0.54146,     0.53922,     0.53922,     0.53922,     0.53922,     0.53922,     0.53548,     0.52941,     0.52941,     0.52941,     0.52941,     0.52537,     0.52451,     0.52451,     0.52429,     0.51835,     0.51471,     0.51471,     0.51471,     0.51471,     0.51471,\n",
      "            0.51471,     0.51471,     0.51471,     0.51442,     0.51367,     0.51292,     0.51216,     0.51141,     0.51066,     0.50991,     0.50688,     0.50366,     0.50067,     0.49564,      0.4951,      0.4951,     0.49014,     0.48791,     0.48568,     0.48396,     0.48235,     0.48074,      0.4795,\n",
      "            0.47836,     0.47721,     0.47607,     0.47345,     0.46992,     0.46775,     0.46557,     0.46307,     0.46059,     0.45828,     0.45597,     0.45042,     0.44943,     0.44844,     0.44745,     0.44646,     0.44435,     0.44155,      0.4358,     0.43141,     0.42818,     0.42011,     0.41682,\n",
      "            0.41231,     0.39786,     0.38584,     0.38235,     0.38235,     0.37212,     0.36583,     0.35294,      0.3492,      0.3353,     0.33102,     0.32676,     0.32169,     0.31806,     0.31301,     0.31101,     0.30901,     0.30752,     0.30608,     0.30465,     0.30247,     0.29955,     0.29589,\n",
      "            0.29292,     0.29067,     0.28257,     0.27832,     0.27688,     0.27545,     0.26425,     0.26165,     0.25389,      0.2453,     0.24266,      0.2402,      0.2398,     0.23748,     0.23511,     0.23205,     0.22707,     0.21994,     0.20871,     0.20576,     0.20309,     0.20063,     0.19072,\n",
      "            0.18734,     0.17632,     0.17102,     0.16942,     0.16781,     0.16661,     0.16503,     0.16345,     0.16187,     0.16176,     0.16176,     0.15815,      0.1478,     0.14409,     0.14092,     0.13808,     0.13235,     0.12728,     0.12593,     0.12458,     0.12323,     0.12255,     0.12255,\n",
      "            0.12255,     0.12255,     0.12255,     0.12214,     0.12108,     0.12001,     0.11894,     0.11788,     0.11367,     0.11097,     0.10881,     0.10665,     0.10451,     0.10275,     0.10204,     0.10133,     0.10063,    0.099918,     0.09921,    0.098502,     0.09693,     0.09373,    0.091399,\n",
      "           0.089264,    0.086589,     0.08341,    0.082372,    0.081386,    0.080401,    0.079415,    0.078423,    0.073438,     0.07285,    0.072262,    0.071675,    0.071087,    0.070499,    0.069911,    0.069324,    0.068736,    0.063601,    0.062949,    0.062298,    0.061646,    0.060995,    0.060343,\n",
      "           0.059692,     0.05904,    0.057854,    0.056399,    0.054945,    0.053726,    0.053066,    0.052406,    0.051747,    0.051087,    0.050427,    0.049767,    0.049107,    0.048503,    0.047908,    0.047313,    0.046718,    0.046123,    0.045528,    0.044933,    0.044338,    0.043892,    0.043534,\n",
      "           0.043175,    0.042817,    0.042458,      0.0421,    0.041741,    0.041383,    0.041025,    0.040666,    0.040308,    0.039949,    0.039591,    0.039233,    0.039155,    0.039091,    0.039027,    0.038964,      0.0389,    0.038836,    0.038772,    0.038709,    0.038645,    0.038581,    0.038517,\n",
      "           0.038454,     0.03839,    0.038326,    0.038262,    0.038199,    0.038135,    0.038071,    0.038007,    0.037944,     0.03788,    0.037816,    0.037752,    0.037689,    0.037625,    0.037561,    0.037497,    0.037434,     0.03737,    0.037306,    0.037242,    0.037179,    0.037115,    0.037051,\n",
      "           0.036987,    0.036924,     0.03686,    0.036796,    0.036732,    0.036669,    0.036605,    0.036541,    0.036477,    0.036414,     0.03635,    0.036286,    0.036223,    0.036159,    0.036095,    0.036031,    0.035968,    0.035904,     0.03584,    0.035776,    0.035713,    0.035649,    0.035585,\n",
      "           0.035521,    0.035458,    0.035394,     0.03533,    0.035266,    0.035203,    0.035139,    0.035075,    0.035011,    0.034948,    0.034884,     0.03482,    0.034756,    0.034693,    0.034629,    0.034565,    0.034501,    0.034438,    0.034374,     0.03417,    0.031678,    0.028621,    0.019585,\n",
      "           0.019269,    0.018953,    0.018637,     0.01832,    0.018004,    0.017688,    0.017372,    0.017056,    0.016739,    0.016423,    0.016107,    0.015791,    0.015474,    0.015158,    0.014842,    0.013669,    0.011848,    0.010028,    0.009578,   0.0093203,   0.0090626,   0.0088049,   0.0085472,\n",
      "          0.0082896,   0.0080319,   0.0077742,   0.0075165,   0.0072588,   0.0070011,   0.0067434,   0.0064857,    0.006228,   0.0059703,   0.0057127,    0.005455,   0.0051973,   0.0049396,           0,           0,           0,           0,           0,           0,           0,           0,           0,\n",
      "                  0,           0,           0,           0,           0,           0,           0,           0,           0,           0,           0,           0,           0,           0,           0,           0,           0,           0,           0,           0,           0,           0,           0,\n",
      "                  0,           0,           0,           0,           0,           0,           0,           0,           0,           0,           0]]), 'Confidence', 'Recall']]\n",
      "fitness: 0.45753838360937765\n",
      "keys: ['metrics/precision(B)', 'metrics/recall(B)', 'metrics/mAP50(B)', 'metrics/mAP50-95(B)']\n",
      "maps: array([    0.41582])\n",
      "names: {0: 'accident'}\n",
      "plot: True\n",
      "results_dict: {'metrics/precision(B)': 0.7817714764559853, 'metrics/recall(B)': 0.8333333333333334, 'metrics/mAP50(B)': 0.8330352351572178, 'metrics/mAP50-95(B)': 0.41581651121517316, 'fitness': 0.45753838360937765}\n",
      "save_dir: WindowsPath('runs/detect/accident_yolov873')\n",
      "speed: {'preprocess': 1.4294471529965902, 'inference': 83.64427023829677, 'loss': 0.0, 'postprocess': 0.4182711490610028}\n",
      "task: 'detect'\n"
     ]
    }
   ],
   "source": [
    "# Optional: Validate on test set\n",
    "metrics = model.val(split=\"test\")\n",
    "print(metrics)"
   ]
  }
 ],
 "metadata": {
  "kernelspec": {
   "display_name": "Python 3",
   "language": "python",
   "name": "python3"
  },
  "language_info": {
   "codemirror_mode": {
    "name": "ipython",
    "version": 3
   },
   "file_extension": ".py",
   "mimetype": "text/x-python",
   "name": "python",
   "nbconvert_exporter": "python",
   "pygments_lexer": "ipython3",
   "version": "3.11.9"
  }
 },
 "nbformat": 4,
 "nbformat_minor": 2
}
